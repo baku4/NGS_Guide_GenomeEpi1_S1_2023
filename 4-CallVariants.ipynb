{
 "cells": [
  {
   "cell_type": "markdown",
   "id": "8d122fa4-39ac-434a-9e41-9e034c193dfd",
   "metadata": {},
   "source": [
    "# Call variants"
   ]
  },
  {
   "cell_type": "code",
   "execution_count": 1,
   "id": "b3c7b9fc-f055-48b3-ac0f-262bb2bdc1d0",
   "metadata": {
    "tags": []
   },
   "outputs": [],
   "source": [
    "import os, sys\n",
    "from pathlib import Path\n",
    "\n",
    "import pandas as pd\n",
    "import numpy as np"
   ]
  },
  {
   "cell_type": "code",
   "execution_count": 2,
   "id": "cfaaf153-da00-41e1-a4f5-76e838ce1447",
   "metadata": {
    "tags": []
   },
   "outputs": [],
   "source": [
    "# import utils.py\n",
    "currentdir = os.path.dirname(os.path.realpath(__name__))\n",
    "parentdir = os.path.dirname(currentdir)\n",
    "sys.path.append(parentdir)\n",
    "\n",
    "from utils import *"
   ]
  },
  {
   "cell_type": "code",
   "execution_count": 3,
   "id": "bc17b2b0-b064-42ab-bf6c-b01c46189977",
   "metadata": {
    "tags": []
   },
   "outputs": [],
   "source": [
    "config_file = \"config.toml\"\n",
    "config = parse_config(config_file)\n",
    "root_dir = Path(config['root_dir'])"
   ]
  },
  {
   "cell_type": "markdown",
   "id": "6a8ce642-f51d-4ac4-aed6-625eed83d656",
   "metadata": {},
   "source": [
    "### Input"
   ]
  },
  {
   "cell_type": "code",
   "execution_count": 4,
   "id": "88ac8c1f-e5b8-4d6b-b921-7fb80f51f552",
   "metadata": {
    "tags": []
   },
   "outputs": [
    {
     "data": {
      "text/plain": [
       "PosixPath('data/reference/ref.fa')"
      ]
     },
     "execution_count": 4,
     "metadata": {},
     "output_type": "execute_result"
    }
   ],
   "source": [
    "ref_file = root_dir / 'reference' / 'ref.fa'\n",
    "ref_file"
   ]
  },
  {
   "cell_type": "code",
   "execution_count": 5,
   "id": "957bbf0d-c5fa-4cef-8146-e88d722184d3",
   "metadata": {
    "tags": []
   },
   "outputs": [
    {
     "data": {
      "text/plain": [
       "PosixPath('data/aligned_fpath.csv')"
      ]
     },
     "execution_count": 5,
     "metadata": {},
     "output_type": "execute_result"
    }
   ],
   "source": [
    "aligned_fpath_file = root_dir / 'aligned_fpath.csv'\n",
    "aligned_fpath_file"
   ]
  },
  {
   "cell_type": "markdown",
   "id": "a40657ab-8d09-4320-8cc6-409503b45db5",
   "metadata": {},
   "source": [
    "### Output"
   ]
  },
  {
   "cell_type": "code",
   "execution_count": 6,
   "id": "3c15a9d0-b6c7-4417-bfc7-1e7216ecb0fc",
   "metadata": {
    "tags": []
   },
   "outputs": [
    {
     "data": {
      "text/plain": [
       "PosixPath('data/out.vcf')"
      ]
     },
     "execution_count": 6,
     "metadata": {},
     "output_type": "execute_result"
    }
   ],
   "source": [
    "out_vcf_file = root_dir / 'out.vcf'\n",
    "out_vcf_file"
   ]
  },
  {
   "cell_type": "markdown",
   "id": "4d9fec42-abcc-4ac1-9128-a8019e3fd673",
   "metadata": {},
   "source": [
    "## 1. Load file path"
   ]
  },
  {
   "cell_type": "code",
   "execution_count": 7,
   "id": "1f849384-c242-4975-abab-4cdbd58c5cfd",
   "metadata": {
    "tags": []
   },
   "outputs": [
    {
     "data": {
      "text/html": [
       "<div>\n",
       "<style scoped>\n",
       "    .dataframe tbody tr th:only-of-type {\n",
       "        vertical-align: middle;\n",
       "    }\n",
       "\n",
       "    .dataframe tbody tr th {\n",
       "        vertical-align: top;\n",
       "    }\n",
       "\n",
       "    .dataframe thead th {\n",
       "        text-align: right;\n",
       "    }\n",
       "</style>\n",
       "<table border=\"1\" class=\"dataframe\">\n",
       "  <thead>\n",
       "    <tr style=\"text-align: right;\">\n",
       "      <th></th>\n",
       "      <th>running_id</th>\n",
       "      <th>raw_r1</th>\n",
       "      <th>raw_r2</th>\n",
       "      <th>num_seqs</th>\n",
       "      <th>sum_len</th>\n",
       "      <th>avg_len</th>\n",
       "      <th>error_rate</th>\n",
       "      <th>fastqc_report_r1</th>\n",
       "      <th>fastqc_report_r2</th>\n",
       "      <th>trimmed_r1</th>\n",
       "      <th>unpaired_r1</th>\n",
       "      <th>trimmed_r2</th>\n",
       "      <th>unpaired_r2</th>\n",
       "      <th>trimmomatic_log</th>\n",
       "      <th>sorted_bam</th>\n",
       "    </tr>\n",
       "  </thead>\n",
       "  <tbody>\n",
       "    <tr>\n",
       "      <th>0</th>\n",
       "      <td>SRR6046075</td>\n",
       "      <td>data/raw/SRR6046075_1.fastq.gz</td>\n",
       "      <td>data/raw/SRR6046075_2.fastq.gz</td>\n",
       "      <td>2150140</td>\n",
       "      <td>315603941</td>\n",
       "      <td>146.782973</td>\n",
       "      <td>0.004489</td>\n",
       "      <td>data/fastqc_reports/SRR6046075_1_fastqc.html</td>\n",
       "      <td>data/fastqc_reports/SRR6046075_2_fastqc.html</td>\n",
       "      <td>data/trimmed/SRR6046075_1_trimmed.fastq.gz</td>\n",
       "      <td>data/trimmed/SRR6046075_1_unpaired.fastq.gz</td>\n",
       "      <td>data/trimmed/SRR6046075_2_trimmed.fastq.gz</td>\n",
       "      <td>data/trimmed/SRR6046075_2_unpaired.fastq.gz</td>\n",
       "      <td>data/trimmed/SRR6046075.log</td>\n",
       "      <td>data/sorted_bam/SRR6046075.bam</td>\n",
       "    </tr>\n",
       "    <tr>\n",
       "      <th>1</th>\n",
       "      <td>SRR6046701</td>\n",
       "      <td>data/raw/SRR6046701_1.fastq.gz</td>\n",
       "      <td>data/raw/SRR6046701_2.fastq.gz</td>\n",
       "      <td>2181260</td>\n",
       "      <td>329370260</td>\n",
       "      <td>151.000000</td>\n",
       "      <td>0.002960</td>\n",
       "      <td>data/fastqc_reports/SRR6046701_1_fastqc.html</td>\n",
       "      <td>data/fastqc_reports/SRR6046701_2_fastqc.html</td>\n",
       "      <td>data/trimmed/SRR6046701_1_trimmed.fastq.gz</td>\n",
       "      <td>data/trimmed/SRR6046701_1_unpaired.fastq.gz</td>\n",
       "      <td>data/trimmed/SRR6046701_2_trimmed.fastq.gz</td>\n",
       "      <td>data/trimmed/SRR6046701_2_unpaired.fastq.gz</td>\n",
       "      <td>data/trimmed/SRR6046701.log</td>\n",
       "      <td>data/sorted_bam/SRR6046701.bam</td>\n",
       "    </tr>\n",
       "    <tr>\n",
       "      <th>2</th>\n",
       "      <td>SRR6045735</td>\n",
       "      <td>data/raw/SRR6045735_1.fastq.gz</td>\n",
       "      <td>data/raw/SRR6045735_2.fastq.gz</td>\n",
       "      <td>2730788</td>\n",
       "      <td>412348988</td>\n",
       "      <td>151.000000</td>\n",
       "      <td>0.004648</td>\n",
       "      <td>data/fastqc_reports/SRR6045735_1_fastqc.html</td>\n",
       "      <td>data/fastqc_reports/SRR6045735_2_fastqc.html</td>\n",
       "      <td>data/trimmed/SRR6045735_1_trimmed.fastq.gz</td>\n",
       "      <td>data/trimmed/SRR6045735_1_unpaired.fastq.gz</td>\n",
       "      <td>data/trimmed/SRR6045735_2_trimmed.fastq.gz</td>\n",
       "      <td>data/trimmed/SRR6045735_2_unpaired.fastq.gz</td>\n",
       "      <td>data/trimmed/SRR6045735.log</td>\n",
       "      <td>data/sorted_bam/SRR6045735.bam</td>\n",
       "    </tr>\n",
       "    <tr>\n",
       "      <th>3</th>\n",
       "      <td>SRR6045327</td>\n",
       "      <td>data/raw/SRR6045327_1.fastq.gz</td>\n",
       "      <td>data/raw/SRR6045327_2.fastq.gz</td>\n",
       "      <td>2368378</td>\n",
       "      <td>348449021</td>\n",
       "      <td>147.125594</td>\n",
       "      <td>0.003844</td>\n",
       "      <td>data/fastqc_reports/SRR6045327_1_fastqc.html</td>\n",
       "      <td>data/fastqc_reports/SRR6045327_2_fastqc.html</td>\n",
       "      <td>data/trimmed/SRR6045327_1_trimmed.fastq.gz</td>\n",
       "      <td>data/trimmed/SRR6045327_1_unpaired.fastq.gz</td>\n",
       "      <td>data/trimmed/SRR6045327_2_trimmed.fastq.gz</td>\n",
       "      <td>data/trimmed/SRR6045327_2_unpaired.fastq.gz</td>\n",
       "      <td>data/trimmed/SRR6045327.log</td>\n",
       "      <td>data/sorted_bam/SRR6045327.bam</td>\n",
       "    </tr>\n",
       "    <tr>\n",
       "      <th>4</th>\n",
       "      <td>SRR6045549</td>\n",
       "      <td>data/raw/SRR6045549_1.fastq.gz</td>\n",
       "      <td>data/raw/SRR6045549_2.fastq.gz</td>\n",
       "      <td>2200232</td>\n",
       "      <td>312069380</td>\n",
       "      <td>141.834761</td>\n",
       "      <td>0.004359</td>\n",
       "      <td>data/fastqc_reports/SRR6045549_1_fastqc.html</td>\n",
       "      <td>data/fastqc_reports/SRR6045549_2_fastqc.html</td>\n",
       "      <td>data/trimmed/SRR6045549_1_trimmed.fastq.gz</td>\n",
       "      <td>data/trimmed/SRR6045549_1_unpaired.fastq.gz</td>\n",
       "      <td>data/trimmed/SRR6045549_2_trimmed.fastq.gz</td>\n",
       "      <td>data/trimmed/SRR6045549_2_unpaired.fastq.gz</td>\n",
       "      <td>data/trimmed/SRR6045549.log</td>\n",
       "      <td>data/sorted_bam/SRR6045549.bam</td>\n",
       "    </tr>\n",
       "    <tr>\n",
       "      <th>5</th>\n",
       "      <td>SRR6046105</td>\n",
       "      <td>data/raw/SRR6046105_1.fastq.gz</td>\n",
       "      <td>data/raw/SRR6046105_2.fastq.gz</td>\n",
       "      <td>2739142</td>\n",
       "      <td>397357271</td>\n",
       "      <td>145.066328</td>\n",
       "      <td>0.007210</td>\n",
       "      <td>data/fastqc_reports/SRR6046105_1_fastqc.html</td>\n",
       "      <td>data/fastqc_reports/SRR6046105_2_fastqc.html</td>\n",
       "      <td>data/trimmed/SRR6046105_1_trimmed.fastq.gz</td>\n",
       "      <td>data/trimmed/SRR6046105_1_unpaired.fastq.gz</td>\n",
       "      <td>data/trimmed/SRR6046105_2_trimmed.fastq.gz</td>\n",
       "      <td>data/trimmed/SRR6046105_2_unpaired.fastq.gz</td>\n",
       "      <td>data/trimmed/SRR6046105.log</td>\n",
       "      <td>data/sorted_bam/SRR6046105.bam</td>\n",
       "    </tr>\n",
       "    <tr>\n",
       "      <th>6</th>\n",
       "      <td>SRR6046861</td>\n",
       "      <td>data/raw/SRR6046861_1.fastq.gz</td>\n",
       "      <td>data/raw/SRR6046861_2.fastq.gz</td>\n",
       "      <td>2046324</td>\n",
       "      <td>300436707</td>\n",
       "      <td>146.817761</td>\n",
       "      <td>0.005184</td>\n",
       "      <td>data/fastqc_reports/SRR6046861_1_fastqc.html</td>\n",
       "      <td>data/fastqc_reports/SRR6046861_2_fastqc.html</td>\n",
       "      <td>data/trimmed/SRR6046861_1_trimmed.fastq.gz</td>\n",
       "      <td>data/trimmed/SRR6046861_1_unpaired.fastq.gz</td>\n",
       "      <td>data/trimmed/SRR6046861_2_trimmed.fastq.gz</td>\n",
       "      <td>data/trimmed/SRR6046861_2_unpaired.fastq.gz</td>\n",
       "      <td>data/trimmed/SRR6046861.log</td>\n",
       "      <td>data/sorted_bam/SRR6046861.bam</td>\n",
       "    </tr>\n",
       "    <tr>\n",
       "      <th>7</th>\n",
       "      <td>SRR6044910</td>\n",
       "      <td>data/raw/SRR6044910_1.fastq.gz</td>\n",
       "      <td>data/raw/SRR6044910_2.fastq.gz</td>\n",
       "      <td>1964346</td>\n",
       "      <td>275329828</td>\n",
       "      <td>140.163611</td>\n",
       "      <td>0.002015</td>\n",
       "      <td>data/fastqc_reports/SRR6044910_1_fastqc.html</td>\n",
       "      <td>data/fastqc_reports/SRR6044910_2_fastqc.html</td>\n",
       "      <td>data/trimmed/SRR6044910_1_trimmed.fastq.gz</td>\n",
       "      <td>data/trimmed/SRR6044910_1_unpaired.fastq.gz</td>\n",
       "      <td>data/trimmed/SRR6044910_2_trimmed.fastq.gz</td>\n",
       "      <td>data/trimmed/SRR6044910_2_unpaired.fastq.gz</td>\n",
       "      <td>data/trimmed/SRR6044910.log</td>\n",
       "      <td>data/sorted_bam/SRR6044910.bam</td>\n",
       "    </tr>\n",
       "    <tr>\n",
       "      <th>8</th>\n",
       "      <td>SRR6045763</td>\n",
       "      <td>data/raw/SRR6045763_1.fastq.gz</td>\n",
       "      <td>data/raw/SRR6045763_2.fastq.gz</td>\n",
       "      <td>2311282</td>\n",
       "      <td>344349323</td>\n",
       "      <td>148.986287</td>\n",
       "      <td>0.011394</td>\n",
       "      <td>data/fastqc_reports/SRR6045763_1_fastqc.html</td>\n",
       "      <td>data/fastqc_reports/SRR6045763_2_fastqc.html</td>\n",
       "      <td>data/trimmed/SRR6045763_1_trimmed.fastq.gz</td>\n",
       "      <td>data/trimmed/SRR6045763_1_unpaired.fastq.gz</td>\n",
       "      <td>data/trimmed/SRR6045763_2_trimmed.fastq.gz</td>\n",
       "      <td>data/trimmed/SRR6045763_2_unpaired.fastq.gz</td>\n",
       "      <td>data/trimmed/SRR6045763.log</td>\n",
       "      <td>data/sorted_bam/SRR6045763.bam</td>\n",
       "    </tr>\n",
       "    <tr>\n",
       "      <th>9</th>\n",
       "      <td>SRR6046306</td>\n",
       "      <td>data/raw/SRR6046306_1.fastq.gz</td>\n",
       "      <td>data/raw/SRR6046306_2.fastq.gz</td>\n",
       "      <td>2545170</td>\n",
       "      <td>339698387</td>\n",
       "      <td>133.467858</td>\n",
       "      <td>0.004654</td>\n",
       "      <td>data/fastqc_reports/SRR6046306_1_fastqc.html</td>\n",
       "      <td>data/fastqc_reports/SRR6046306_2_fastqc.html</td>\n",
       "      <td>data/trimmed/SRR6046306_1_trimmed.fastq.gz</td>\n",
       "      <td>data/trimmed/SRR6046306_1_unpaired.fastq.gz</td>\n",
       "      <td>data/trimmed/SRR6046306_2_trimmed.fastq.gz</td>\n",
       "      <td>data/trimmed/SRR6046306_2_unpaired.fastq.gz</td>\n",
       "      <td>data/trimmed/SRR6046306.log</td>\n",
       "      <td>data/sorted_bam/SRR6046306.bam</td>\n",
       "    </tr>\n",
       "  </tbody>\n",
       "</table>\n",
       "</div>"
      ],
      "text/plain": [
       "   running_id                          raw_r1                          raw_r2  \\\n",
       "0  SRR6046075  data/raw/SRR6046075_1.fastq.gz  data/raw/SRR6046075_2.fastq.gz   \n",
       "1  SRR6046701  data/raw/SRR6046701_1.fastq.gz  data/raw/SRR6046701_2.fastq.gz   \n",
       "2  SRR6045735  data/raw/SRR6045735_1.fastq.gz  data/raw/SRR6045735_2.fastq.gz   \n",
       "3  SRR6045327  data/raw/SRR6045327_1.fastq.gz  data/raw/SRR6045327_2.fastq.gz   \n",
       "4  SRR6045549  data/raw/SRR6045549_1.fastq.gz  data/raw/SRR6045549_2.fastq.gz   \n",
       "5  SRR6046105  data/raw/SRR6046105_1.fastq.gz  data/raw/SRR6046105_2.fastq.gz   \n",
       "6  SRR6046861  data/raw/SRR6046861_1.fastq.gz  data/raw/SRR6046861_2.fastq.gz   \n",
       "7  SRR6044910  data/raw/SRR6044910_1.fastq.gz  data/raw/SRR6044910_2.fastq.gz   \n",
       "8  SRR6045763  data/raw/SRR6045763_1.fastq.gz  data/raw/SRR6045763_2.fastq.gz   \n",
       "9  SRR6046306  data/raw/SRR6046306_1.fastq.gz  data/raw/SRR6046306_2.fastq.gz   \n",
       "\n",
       "   num_seqs    sum_len     avg_len  error_rate  \\\n",
       "0   2150140  315603941  146.782973    0.004489   \n",
       "1   2181260  329370260  151.000000    0.002960   \n",
       "2   2730788  412348988  151.000000    0.004648   \n",
       "3   2368378  348449021  147.125594    0.003844   \n",
       "4   2200232  312069380  141.834761    0.004359   \n",
       "5   2739142  397357271  145.066328    0.007210   \n",
       "6   2046324  300436707  146.817761    0.005184   \n",
       "7   1964346  275329828  140.163611    0.002015   \n",
       "8   2311282  344349323  148.986287    0.011394   \n",
       "9   2545170  339698387  133.467858    0.004654   \n",
       "\n",
       "                               fastqc_report_r1  \\\n",
       "0  data/fastqc_reports/SRR6046075_1_fastqc.html   \n",
       "1  data/fastqc_reports/SRR6046701_1_fastqc.html   \n",
       "2  data/fastqc_reports/SRR6045735_1_fastqc.html   \n",
       "3  data/fastqc_reports/SRR6045327_1_fastqc.html   \n",
       "4  data/fastqc_reports/SRR6045549_1_fastqc.html   \n",
       "5  data/fastqc_reports/SRR6046105_1_fastqc.html   \n",
       "6  data/fastqc_reports/SRR6046861_1_fastqc.html   \n",
       "7  data/fastqc_reports/SRR6044910_1_fastqc.html   \n",
       "8  data/fastqc_reports/SRR6045763_1_fastqc.html   \n",
       "9  data/fastqc_reports/SRR6046306_1_fastqc.html   \n",
       "\n",
       "                               fastqc_report_r2  \\\n",
       "0  data/fastqc_reports/SRR6046075_2_fastqc.html   \n",
       "1  data/fastqc_reports/SRR6046701_2_fastqc.html   \n",
       "2  data/fastqc_reports/SRR6045735_2_fastqc.html   \n",
       "3  data/fastqc_reports/SRR6045327_2_fastqc.html   \n",
       "4  data/fastqc_reports/SRR6045549_2_fastqc.html   \n",
       "5  data/fastqc_reports/SRR6046105_2_fastqc.html   \n",
       "6  data/fastqc_reports/SRR6046861_2_fastqc.html   \n",
       "7  data/fastqc_reports/SRR6044910_2_fastqc.html   \n",
       "8  data/fastqc_reports/SRR6045763_2_fastqc.html   \n",
       "9  data/fastqc_reports/SRR6046306_2_fastqc.html   \n",
       "\n",
       "                                   trimmed_r1  \\\n",
       "0  data/trimmed/SRR6046075_1_trimmed.fastq.gz   \n",
       "1  data/trimmed/SRR6046701_1_trimmed.fastq.gz   \n",
       "2  data/trimmed/SRR6045735_1_trimmed.fastq.gz   \n",
       "3  data/trimmed/SRR6045327_1_trimmed.fastq.gz   \n",
       "4  data/trimmed/SRR6045549_1_trimmed.fastq.gz   \n",
       "5  data/trimmed/SRR6046105_1_trimmed.fastq.gz   \n",
       "6  data/trimmed/SRR6046861_1_trimmed.fastq.gz   \n",
       "7  data/trimmed/SRR6044910_1_trimmed.fastq.gz   \n",
       "8  data/trimmed/SRR6045763_1_trimmed.fastq.gz   \n",
       "9  data/trimmed/SRR6046306_1_trimmed.fastq.gz   \n",
       "\n",
       "                                   unpaired_r1  \\\n",
       "0  data/trimmed/SRR6046075_1_unpaired.fastq.gz   \n",
       "1  data/trimmed/SRR6046701_1_unpaired.fastq.gz   \n",
       "2  data/trimmed/SRR6045735_1_unpaired.fastq.gz   \n",
       "3  data/trimmed/SRR6045327_1_unpaired.fastq.gz   \n",
       "4  data/trimmed/SRR6045549_1_unpaired.fastq.gz   \n",
       "5  data/trimmed/SRR6046105_1_unpaired.fastq.gz   \n",
       "6  data/trimmed/SRR6046861_1_unpaired.fastq.gz   \n",
       "7  data/trimmed/SRR6044910_1_unpaired.fastq.gz   \n",
       "8  data/trimmed/SRR6045763_1_unpaired.fastq.gz   \n",
       "9  data/trimmed/SRR6046306_1_unpaired.fastq.gz   \n",
       "\n",
       "                                   trimmed_r2  \\\n",
       "0  data/trimmed/SRR6046075_2_trimmed.fastq.gz   \n",
       "1  data/trimmed/SRR6046701_2_trimmed.fastq.gz   \n",
       "2  data/trimmed/SRR6045735_2_trimmed.fastq.gz   \n",
       "3  data/trimmed/SRR6045327_2_trimmed.fastq.gz   \n",
       "4  data/trimmed/SRR6045549_2_trimmed.fastq.gz   \n",
       "5  data/trimmed/SRR6046105_2_trimmed.fastq.gz   \n",
       "6  data/trimmed/SRR6046861_2_trimmed.fastq.gz   \n",
       "7  data/trimmed/SRR6044910_2_trimmed.fastq.gz   \n",
       "8  data/trimmed/SRR6045763_2_trimmed.fastq.gz   \n",
       "9  data/trimmed/SRR6046306_2_trimmed.fastq.gz   \n",
       "\n",
       "                                   unpaired_r2              trimmomatic_log  \\\n",
       "0  data/trimmed/SRR6046075_2_unpaired.fastq.gz  data/trimmed/SRR6046075.log   \n",
       "1  data/trimmed/SRR6046701_2_unpaired.fastq.gz  data/trimmed/SRR6046701.log   \n",
       "2  data/trimmed/SRR6045735_2_unpaired.fastq.gz  data/trimmed/SRR6045735.log   \n",
       "3  data/trimmed/SRR6045327_2_unpaired.fastq.gz  data/trimmed/SRR6045327.log   \n",
       "4  data/trimmed/SRR6045549_2_unpaired.fastq.gz  data/trimmed/SRR6045549.log   \n",
       "5  data/trimmed/SRR6046105_2_unpaired.fastq.gz  data/trimmed/SRR6046105.log   \n",
       "6  data/trimmed/SRR6046861_2_unpaired.fastq.gz  data/trimmed/SRR6046861.log   \n",
       "7  data/trimmed/SRR6044910_2_unpaired.fastq.gz  data/trimmed/SRR6044910.log   \n",
       "8  data/trimmed/SRR6045763_2_unpaired.fastq.gz  data/trimmed/SRR6045763.log   \n",
       "9  data/trimmed/SRR6046306_2_unpaired.fastq.gz  data/trimmed/SRR6046306.log   \n",
       "\n",
       "                       sorted_bam  \n",
       "0  data/sorted_bam/SRR6046075.bam  \n",
       "1  data/sorted_bam/SRR6046701.bam  \n",
       "2  data/sorted_bam/SRR6045735.bam  \n",
       "3  data/sorted_bam/SRR6045327.bam  \n",
       "4  data/sorted_bam/SRR6045549.bam  \n",
       "5  data/sorted_bam/SRR6046105.bam  \n",
       "6  data/sorted_bam/SRR6046861.bam  \n",
       "7  data/sorted_bam/SRR6044910.bam  \n",
       "8  data/sorted_bam/SRR6045763.bam  \n",
       "9  data/sorted_bam/SRR6046306.bam  "
      ]
     },
     "execution_count": 7,
     "metadata": {},
     "output_type": "execute_result"
    }
   ],
   "source": [
    "fpath_df = pd.read_csv(aligned_fpath_file)\n",
    "fpath_df"
   ]
  },
  {
   "cell_type": "markdown",
   "id": "a156bb86-05ed-43eb-980d-f695f7dff360",
   "metadata": {
    "tags": []
   },
   "source": [
    "## 2. Pepare chunked call"
   ]
  },
  {
   "cell_type": "code",
   "execution_count": 8,
   "id": "17c467b0-24b6-4508-8950-0e6f73aee091",
   "metadata": {
    "tags": []
   },
   "outputs": [
    {
     "data": {
      "text/plain": [
       "PosixPath('data/chunked_call')"
      ]
     },
     "execution_count": 8,
     "metadata": {},
     "output_type": "execute_result"
    }
   ],
   "source": [
    "chunked_call_dir = root_dir / 'chunked_call'\n",
    "chunked_call_dir.mkdir(exist_ok=True)\n",
    "chunked_call_dir"
   ]
  },
  {
   "cell_type": "markdown",
   "id": "7615e904-a597-4210-8889-1108e847a4d4",
   "metadata": {},
   "source": [
    "### (1) Indexing bam files"
   ]
  },
  {
   "cell_type": "code",
   "execution_count": 9,
   "id": "44f6c0c7-b2a6-4ca4-95e1-a55adba042a6",
   "metadata": {},
   "outputs": [],
   "source": [
    "bam_file_list = fpath_df['sorted_bam'].values"
   ]
  },
  {
   "cell_type": "code",
   "execution_count": 10,
   "id": "7eb24c4f-8d7f-436a-937d-5518187ae29d",
   "metadata": {
    "tags": []
   },
   "outputs": [],
   "source": [
    "def indexing_bam(bam_file):\n",
    "    fai_file = Path(f\"{bam_file}.bai\")\n",
    "    if not fai_file.exists():\n",
    "        subprocs(f\"samtools index {bam_file}\")"
   ]
  },
  {
   "cell_type": "code",
   "execution_count": 11,
   "id": "a6434a17-e7fa-4a70-81ca-8e254ae2a9d0",
   "metadata": {
    "tags": []
   },
   "outputs": [],
   "source": [
    "_, elp = execute_function_pool(\n",
    "    indexing_bam,\n",
    "    bam_file_list,\n",
    "    4,\n",
    ")"
   ]
  },
  {
   "cell_type": "code",
   "execution_count": 12,
   "id": "eed04b44-0ad2-442f-bf7f-ee81bff6ada1",
   "metadata": {
    "tags": []
   },
   "outputs": [
    {
     "data": {
      "text/plain": [
       "10.196346998214722"
      ]
     },
     "execution_count": 12,
     "metadata": {},
     "output_type": "execute_result"
    }
   ],
   "source": [
    "# elp\n",
    "10.196346998214722"
   ]
  },
  {
   "cell_type": "markdown",
   "id": "305f9bf4-a252-487d-9601-ce2d69d8a24b",
   "metadata": {},
   "source": [
    "### (2) write bam list to file"
   ]
  },
  {
   "cell_type": "code",
   "execution_count": 13,
   "id": "074547e6-6a5c-47c5-b347-399bb15a3f89",
   "metadata": {},
   "outputs": [
    {
     "data": {
      "text/plain": [
       "PosixPath('data/chunked_call/bam_list')"
      ]
     },
     "execution_count": 13,
     "metadata": {},
     "output_type": "execute_result"
    }
   ],
   "source": [
    "bam_list_file = chunked_call_dir / 'bam_list'\n",
    "bam_list_file"
   ]
  },
  {
   "cell_type": "code",
   "execution_count": 14,
   "id": "03b0b289-a253-48de-bbc1-07712b86a971",
   "metadata": {
    "tags": []
   },
   "outputs": [],
   "source": [
    "with open(bam_list_file, 'wt') as f:\n",
    "    for bam_file in bam_file_list:\n",
    "        f.write(f\"{bam_file}\\n\")"
   ]
  },
  {
   "cell_type": "markdown",
   "id": "5b257a84-3518-437d-aba0-25b633ae2625",
   "metadata": {},
   "source": [
    "### (3) divide chunk"
   ]
  },
  {
   "cell_type": "code",
   "execution_count": 15,
   "id": "f8195897-1892-43df-81f1-38efd2cfaceb",
   "metadata": {},
   "outputs": [],
   "source": [
    "from Bio import SeqIO\n",
    "\n",
    "seq_df = pd.DataFrame([\n",
    "    [record.id, len(record.seq)]\n",
    "    for record\n",
    "    in SeqIO.parse(ref_file, 'fasta')\n",
    "], columns=['contig', 'len'])"
   ]
  },
  {
   "cell_type": "code",
   "execution_count": 16,
   "id": "f3e4a797-0598-4b65-886a-49de655fc339",
   "metadata": {},
   "outputs": [
    {
     "data": {
      "text/html": [
       "<div>\n",
       "<style scoped>\n",
       "    .dataframe tbody tr th:only-of-type {\n",
       "        vertical-align: middle;\n",
       "    }\n",
       "\n",
       "    .dataframe tbody tr th {\n",
       "        vertical-align: top;\n",
       "    }\n",
       "\n",
       "    .dataframe thead th {\n",
       "        text-align: right;\n",
       "    }\n",
       "</style>\n",
       "<table border=\"1\" class=\"dataframe\">\n",
       "  <thead>\n",
       "    <tr style=\"text-align: right;\">\n",
       "      <th></th>\n",
       "      <th>contig</th>\n",
       "      <th>len</th>\n",
       "    </tr>\n",
       "  </thead>\n",
       "  <tbody>\n",
       "    <tr>\n",
       "      <th>0</th>\n",
       "      <td>NC_000962.3</td>\n",
       "      <td>4411532</td>\n",
       "    </tr>\n",
       "  </tbody>\n",
       "</table>\n",
       "</div>"
      ],
      "text/plain": [
       "        contig      len\n",
       "0  NC_000962.3  4411532"
      ]
     },
     "execution_count": 16,
     "metadata": {},
     "output_type": "execute_result"
    }
   ],
   "source": [
    "seq_df.head()"
   ]
  },
  {
   "cell_type": "code",
   "execution_count": 17,
   "id": "bd63f36b-bda8-4b00-94e9-4fd18432054c",
   "metadata": {},
   "outputs": [
    {
     "data": {
      "text/html": [
       "<div>\n",
       "<style scoped>\n",
       "    .dataframe tbody tr th:only-of-type {\n",
       "        vertical-align: middle;\n",
       "    }\n",
       "\n",
       "    .dataframe tbody tr th {\n",
       "        vertical-align: top;\n",
       "    }\n",
       "\n",
       "    .dataframe thead th {\n",
       "        text-align: right;\n",
       "    }\n",
       "</style>\n",
       "<table border=\"1\" class=\"dataframe\">\n",
       "  <thead>\n",
       "    <tr style=\"text-align: right;\">\n",
       "      <th></th>\n",
       "      <th>contig</th>\n",
       "      <th>start</th>\n",
       "      <th>end</th>\n",
       "    </tr>\n",
       "  </thead>\n",
       "  <tbody>\n",
       "    <tr>\n",
       "      <th>0</th>\n",
       "      <td>NC_000962.3</td>\n",
       "      <td>1</td>\n",
       "      <td>20000</td>\n",
       "    </tr>\n",
       "    <tr>\n",
       "      <th>1</th>\n",
       "      <td>NC_000962.3</td>\n",
       "      <td>20001</td>\n",
       "      <td>40000</td>\n",
       "    </tr>\n",
       "    <tr>\n",
       "      <th>2</th>\n",
       "      <td>NC_000962.3</td>\n",
       "      <td>40001</td>\n",
       "      <td>60000</td>\n",
       "    </tr>\n",
       "    <tr>\n",
       "      <th>3</th>\n",
       "      <td>NC_000962.3</td>\n",
       "      <td>60001</td>\n",
       "      <td>80000</td>\n",
       "    </tr>\n",
       "    <tr>\n",
       "      <th>4</th>\n",
       "      <td>NC_000962.3</td>\n",
       "      <td>80001</td>\n",
       "      <td>100000</td>\n",
       "    </tr>\n",
       "    <tr>\n",
       "      <th>...</th>\n",
       "      <td>...</td>\n",
       "      <td>...</td>\n",
       "      <td>...</td>\n",
       "    </tr>\n",
       "    <tr>\n",
       "      <th>216</th>\n",
       "      <td>NC_000962.3</td>\n",
       "      <td>4320001</td>\n",
       "      <td>4340000</td>\n",
       "    </tr>\n",
       "    <tr>\n",
       "      <th>217</th>\n",
       "      <td>NC_000962.3</td>\n",
       "      <td>4340001</td>\n",
       "      <td>4360000</td>\n",
       "    </tr>\n",
       "    <tr>\n",
       "      <th>218</th>\n",
       "      <td>NC_000962.3</td>\n",
       "      <td>4360001</td>\n",
       "      <td>4380000</td>\n",
       "    </tr>\n",
       "    <tr>\n",
       "      <th>219</th>\n",
       "      <td>NC_000962.3</td>\n",
       "      <td>4380001</td>\n",
       "      <td>4400000</td>\n",
       "    </tr>\n",
       "    <tr>\n",
       "      <th>220</th>\n",
       "      <td>NC_000962.3</td>\n",
       "      <td>4400001</td>\n",
       "      <td>4411532</td>\n",
       "    </tr>\n",
       "  </tbody>\n",
       "</table>\n",
       "<p>221 rows × 3 columns</p>\n",
       "</div>"
      ],
      "text/plain": [
       "          contig    start      end\n",
       "0    NC_000962.3        1    20000\n",
       "1    NC_000962.3    20001    40000\n",
       "2    NC_000962.3    40001    60000\n",
       "3    NC_000962.3    60001    80000\n",
       "4    NC_000962.3    80001   100000\n",
       "..           ...      ...      ...\n",
       "216  NC_000962.3  4320001  4340000\n",
       "217  NC_000962.3  4340001  4360000\n",
       "218  NC_000962.3  4360001  4380000\n",
       "219  NC_000962.3  4380001  4400000\n",
       "220  NC_000962.3  4400001  4411532\n",
       "\n",
       "[221 rows x 3 columns]"
      ]
     },
     "execution_count": 17,
     "metadata": {},
     "output_type": "execute_result"
    }
   ],
   "source": [
    "def divide_to_chunk(row, chunk_size=20000):\n",
    "    data = []\n",
    "    \n",
    "    contig = row['contig']\n",
    "    length = row['len']\n",
    "    \n",
    "    start_pos = 1\n",
    "    end_pos = -1\n",
    "    \n",
    "    while end_pos != length:\n",
    "        end_pos = start_pos + chunk_size - 1\n",
    "        if end_pos > length:\n",
    "            end_pos = length\n",
    "        \n",
    "        data.append([contig, start_pos, end_pos])\n",
    "        start_pos = end_pos + 1\n",
    "    \n",
    "    df = pd.DataFrame(data, columns = ['contig', 'start', 'end'])\n",
    "    return df\n",
    "\n",
    "chunk_df = pd.concat(seq_df.apply(divide_to_chunk, axis=1).values, axis=0, ignore_index=True)\n",
    "chunk_df"
   ]
  },
  {
   "cell_type": "markdown",
   "id": "695b932c-ea7c-49cd-b7a2-f8f8479a3f3f",
   "metadata": {},
   "source": [
    "### (4) encode cmd (mplieup & call)"
   ]
  },
  {
   "cell_type": "code",
   "execution_count": 18,
   "id": "cdcdb659-f8c0-4f98-88d9-746adb9f8e1a",
   "metadata": {},
   "outputs": [],
   "source": [
    "def get_chunked_call_df(\n",
    "    chunk_df,\n",
    "    call_res_dir = chunked_call_dir,\n",
    "    ref_fa_file = ref_file,\n",
    "    bam_list_file = bam_list_file,\n",
    "):\n",
    "    # https://samtools.github.io/bcftools/bcftools.html#common_options\n",
    "    def get_region_df_while_writing(\n",
    "        call_res_dir,\n",
    "        chrom,\n",
    "        total_len,\n",
    "        chunk_size,\n",
    "    ):\n",
    "        data = []\n",
    "        region_file_list = []\n",
    "        for i in range((total_len // chunk_size) + 1):\n",
    "            begin = (chunk_size * i) + 1\n",
    "            if i == total_len // chunk_size:\n",
    "                end = total_len\n",
    "            else:\n",
    "                end = begin + chunk_size - 1\n",
    "            \n",
    "            # write to file\n",
    "            region_file = call_res_dir / f\"{chrom}_{begin}_{end}\"\n",
    "            with open(region_file, 'w') as f:\n",
    "                f.write(f\"{chrom}\\t{begin}\\t{end}\")\n",
    "            region_file_list.append(region_file)\n",
    "            \n",
    "            data.append([i, chrom, begin, end])\n",
    "            \n",
    "        df = pd.DataFrame(data)\n",
    "        df.columns = ['index', 'chrom', 'begin', 'end']\n",
    "        df['region_file'] = region_file_list\n",
    "        return df\n",
    "    def write_region_file(row):\n",
    "        chrom = row['contig']\n",
    "        begin = row['start']\n",
    "        end = row['end']\n",
    "        \n",
    "        region_file = call_res_dir / f\"{chrom}_{begin}_{end}.region\"\n",
    "        with open(region_file, 'w') as f:\n",
    "            f.write(f\"{chrom}\\t{begin}\\t{end}\")\n",
    "        \n",
    "        return region_file\n",
    "    \n",
    "    def encode_cmd(row):\n",
    "        out_file = row['vcf_file']\n",
    "        cmd = f\"bcftools mpileup -f {ref_fa_file} --regions-file {row['region_file']} --bam-list {bam_list_file} | bcftools call --ploidy 1 -vm -O z > {out_file}\"\n",
    "        \n",
    "        return cmd\n",
    "    \n",
    "    df = chunk_df.copy()\n",
    "    df['region_file'] = df.apply(write_region_file, axis=1)\n",
    "    df['vcf_file'] = df['region_file'].apply(\n",
    "        lambda f: call_res_dir / f\"{f.stem}.vcf.gz\"\n",
    "    )\n",
    "    df['call_cmd'] = df.apply(encode_cmd, axis=1)\n",
    "    \n",
    "    return df"
   ]
  },
  {
   "cell_type": "code",
   "execution_count": 19,
   "id": "b8a5fa72-7cd3-4b2c-ad12-90665c5b048a",
   "metadata": {},
   "outputs": [],
   "source": [
    "chunked_call_df = get_chunked_call_df(chunk_df)"
   ]
  },
  {
   "cell_type": "code",
   "execution_count": 20,
   "id": "e01b34f1-b032-4613-acff-20c710e80470",
   "metadata": {},
   "outputs": [
    {
     "data": {
      "text/html": [
       "<div>\n",
       "<style scoped>\n",
       "    .dataframe tbody tr th:only-of-type {\n",
       "        vertical-align: middle;\n",
       "    }\n",
       "\n",
       "    .dataframe tbody tr th {\n",
       "        vertical-align: top;\n",
       "    }\n",
       "\n",
       "    .dataframe thead th {\n",
       "        text-align: right;\n",
       "    }\n",
       "</style>\n",
       "<table border=\"1\" class=\"dataframe\">\n",
       "  <thead>\n",
       "    <tr style=\"text-align: right;\">\n",
       "      <th></th>\n",
       "      <th>contig</th>\n",
       "      <th>start</th>\n",
       "      <th>end</th>\n",
       "      <th>region_file</th>\n",
       "      <th>vcf_file</th>\n",
       "      <th>call_cmd</th>\n",
       "    </tr>\n",
       "  </thead>\n",
       "  <tbody>\n",
       "    <tr>\n",
       "      <th>0</th>\n",
       "      <td>NC_000962.3</td>\n",
       "      <td>1</td>\n",
       "      <td>20000</td>\n",
       "      <td>data/chunked_call/NC_000962.3_1_20000.region</td>\n",
       "      <td>data/chunked_call/NC_000962.3_1_20000.vcf.gz</td>\n",
       "      <td>bcftools mpileup -f data/reference/ref.fa --re...</td>\n",
       "    </tr>\n",
       "    <tr>\n",
       "      <th>1</th>\n",
       "      <td>NC_000962.3</td>\n",
       "      <td>20001</td>\n",
       "      <td>40000</td>\n",
       "      <td>data/chunked_call/NC_000962.3_20001_40000.region</td>\n",
       "      <td>data/chunked_call/NC_000962.3_20001_40000.vcf.gz</td>\n",
       "      <td>bcftools mpileup -f data/reference/ref.fa --re...</td>\n",
       "    </tr>\n",
       "    <tr>\n",
       "      <th>2</th>\n",
       "      <td>NC_000962.3</td>\n",
       "      <td>40001</td>\n",
       "      <td>60000</td>\n",
       "      <td>data/chunked_call/NC_000962.3_40001_60000.region</td>\n",
       "      <td>data/chunked_call/NC_000962.3_40001_60000.vcf.gz</td>\n",
       "      <td>bcftools mpileup -f data/reference/ref.fa --re...</td>\n",
       "    </tr>\n",
       "    <tr>\n",
       "      <th>3</th>\n",
       "      <td>NC_000962.3</td>\n",
       "      <td>60001</td>\n",
       "      <td>80000</td>\n",
       "      <td>data/chunked_call/NC_000962.3_60001_80000.region</td>\n",
       "      <td>data/chunked_call/NC_000962.3_60001_80000.vcf.gz</td>\n",
       "      <td>bcftools mpileup -f data/reference/ref.fa --re...</td>\n",
       "    </tr>\n",
       "    <tr>\n",
       "      <th>4</th>\n",
       "      <td>NC_000962.3</td>\n",
       "      <td>80001</td>\n",
       "      <td>100000</td>\n",
       "      <td>data/chunked_call/NC_000962.3_80001_100000.region</td>\n",
       "      <td>data/chunked_call/NC_000962.3_80001_100000.vcf.gz</td>\n",
       "      <td>bcftools mpileup -f data/reference/ref.fa --re...</td>\n",
       "    </tr>\n",
       "    <tr>\n",
       "      <th>...</th>\n",
       "      <td>...</td>\n",
       "      <td>...</td>\n",
       "      <td>...</td>\n",
       "      <td>...</td>\n",
       "      <td>...</td>\n",
       "      <td>...</td>\n",
       "    </tr>\n",
       "    <tr>\n",
       "      <th>216</th>\n",
       "      <td>NC_000962.3</td>\n",
       "      <td>4320001</td>\n",
       "      <td>4340000</td>\n",
       "      <td>data/chunked_call/NC_000962.3_4320001_4340000....</td>\n",
       "      <td>data/chunked_call/NC_000962.3_4320001_4340000....</td>\n",
       "      <td>bcftools mpileup -f data/reference/ref.fa --re...</td>\n",
       "    </tr>\n",
       "    <tr>\n",
       "      <th>217</th>\n",
       "      <td>NC_000962.3</td>\n",
       "      <td>4340001</td>\n",
       "      <td>4360000</td>\n",
       "      <td>data/chunked_call/NC_000962.3_4340001_4360000....</td>\n",
       "      <td>data/chunked_call/NC_000962.3_4340001_4360000....</td>\n",
       "      <td>bcftools mpileup -f data/reference/ref.fa --re...</td>\n",
       "    </tr>\n",
       "    <tr>\n",
       "      <th>218</th>\n",
       "      <td>NC_000962.3</td>\n",
       "      <td>4360001</td>\n",
       "      <td>4380000</td>\n",
       "      <td>data/chunked_call/NC_000962.3_4360001_4380000....</td>\n",
       "      <td>data/chunked_call/NC_000962.3_4360001_4380000....</td>\n",
       "      <td>bcftools mpileup -f data/reference/ref.fa --re...</td>\n",
       "    </tr>\n",
       "    <tr>\n",
       "      <th>219</th>\n",
       "      <td>NC_000962.3</td>\n",
       "      <td>4380001</td>\n",
       "      <td>4400000</td>\n",
       "      <td>data/chunked_call/NC_000962.3_4380001_4400000....</td>\n",
       "      <td>data/chunked_call/NC_000962.3_4380001_4400000....</td>\n",
       "      <td>bcftools mpileup -f data/reference/ref.fa --re...</td>\n",
       "    </tr>\n",
       "    <tr>\n",
       "      <th>220</th>\n",
       "      <td>NC_000962.3</td>\n",
       "      <td>4400001</td>\n",
       "      <td>4411532</td>\n",
       "      <td>data/chunked_call/NC_000962.3_4400001_4411532....</td>\n",
       "      <td>data/chunked_call/NC_000962.3_4400001_4411532....</td>\n",
       "      <td>bcftools mpileup -f data/reference/ref.fa --re...</td>\n",
       "    </tr>\n",
       "  </tbody>\n",
       "</table>\n",
       "<p>221 rows × 6 columns</p>\n",
       "</div>"
      ],
      "text/plain": [
       "          contig    start      end  \\\n",
       "0    NC_000962.3        1    20000   \n",
       "1    NC_000962.3    20001    40000   \n",
       "2    NC_000962.3    40001    60000   \n",
       "3    NC_000962.3    60001    80000   \n",
       "4    NC_000962.3    80001   100000   \n",
       "..           ...      ...      ...   \n",
       "216  NC_000962.3  4320001  4340000   \n",
       "217  NC_000962.3  4340001  4360000   \n",
       "218  NC_000962.3  4360001  4380000   \n",
       "219  NC_000962.3  4380001  4400000   \n",
       "220  NC_000962.3  4400001  4411532   \n",
       "\n",
       "                                           region_file  \\\n",
       "0         data/chunked_call/NC_000962.3_1_20000.region   \n",
       "1     data/chunked_call/NC_000962.3_20001_40000.region   \n",
       "2     data/chunked_call/NC_000962.3_40001_60000.region   \n",
       "3     data/chunked_call/NC_000962.3_60001_80000.region   \n",
       "4    data/chunked_call/NC_000962.3_80001_100000.region   \n",
       "..                                                 ...   \n",
       "216  data/chunked_call/NC_000962.3_4320001_4340000....   \n",
       "217  data/chunked_call/NC_000962.3_4340001_4360000....   \n",
       "218  data/chunked_call/NC_000962.3_4360001_4380000....   \n",
       "219  data/chunked_call/NC_000962.3_4380001_4400000....   \n",
       "220  data/chunked_call/NC_000962.3_4400001_4411532....   \n",
       "\n",
       "                                              vcf_file  \\\n",
       "0         data/chunked_call/NC_000962.3_1_20000.vcf.gz   \n",
       "1     data/chunked_call/NC_000962.3_20001_40000.vcf.gz   \n",
       "2     data/chunked_call/NC_000962.3_40001_60000.vcf.gz   \n",
       "3     data/chunked_call/NC_000962.3_60001_80000.vcf.gz   \n",
       "4    data/chunked_call/NC_000962.3_80001_100000.vcf.gz   \n",
       "..                                                 ...   \n",
       "216  data/chunked_call/NC_000962.3_4320001_4340000....   \n",
       "217  data/chunked_call/NC_000962.3_4340001_4360000....   \n",
       "218  data/chunked_call/NC_000962.3_4360001_4380000....   \n",
       "219  data/chunked_call/NC_000962.3_4380001_4400000....   \n",
       "220  data/chunked_call/NC_000962.3_4400001_4411532....   \n",
       "\n",
       "                                              call_cmd  \n",
       "0    bcftools mpileup -f data/reference/ref.fa --re...  \n",
       "1    bcftools mpileup -f data/reference/ref.fa --re...  \n",
       "2    bcftools mpileup -f data/reference/ref.fa --re...  \n",
       "3    bcftools mpileup -f data/reference/ref.fa --re...  \n",
       "4    bcftools mpileup -f data/reference/ref.fa --re...  \n",
       "..                                                 ...  \n",
       "216  bcftools mpileup -f data/reference/ref.fa --re...  \n",
       "217  bcftools mpileup -f data/reference/ref.fa --re...  \n",
       "218  bcftools mpileup -f data/reference/ref.fa --re...  \n",
       "219  bcftools mpileup -f data/reference/ref.fa --re...  \n",
       "220  bcftools mpileup -f data/reference/ref.fa --re...  \n",
       "\n",
       "[221 rows x 6 columns]"
      ]
     },
     "execution_count": 20,
     "metadata": {},
     "output_type": "execute_result"
    }
   ],
   "source": [
    "chunked_call_df"
   ]
  },
  {
   "cell_type": "markdown",
   "id": "7ab1948d-e1df-4fac-b91a-80943f2030a2",
   "metadata": {},
   "source": [
    "## 3. Run"
   ]
  },
  {
   "cell_type": "markdown",
   "id": "c6e52315-d6da-4daa-98a3-e4b2c3ab9af4",
   "metadata": {},
   "source": [
    "### (1) call chunked vcf"
   ]
  },
  {
   "cell_type": "code",
   "execution_count": 21,
   "id": "358d1794-fc16-4a0e-9a48-61c3767bef40",
   "metadata": {},
   "outputs": [
    {
     "data": {
      "text/plain": [
       "0"
      ]
     },
     "execution_count": 21,
     "metadata": {},
     "output_type": "execute_result"
    }
   ],
   "source": [
    "cmds_to_run = [\n",
    "    row['call_cmd']\n",
    "    for _, row\n",
    "    in chunked_call_df.iterrows()\n",
    "    if not row['vcf_file'].exists()\n",
    "]\n",
    "len(cmds_to_run)"
   ]
  },
  {
   "cell_type": "code",
   "execution_count": 22,
   "id": "32dfefad-077c-47c6-8bce-b6ae75667e10",
   "metadata": {},
   "outputs": [],
   "source": [
    "pool_num = 4\n",
    "\n",
    "out, elp = execute_command(\n",
    "    cmds_to_run,\n",
    "    pool_num,\n",
    ")"
   ]
  },
  {
   "cell_type": "code",
   "execution_count": 23,
   "id": "f7680f3e-015a-4dc2-a65a-5449b8c6fbce",
   "metadata": {},
   "outputs": [
    {
     "data": {
      "text/plain": [
       "343.4221541881561"
      ]
     },
     "execution_count": 23,
     "metadata": {},
     "output_type": "execute_result"
    }
   ],
   "source": [
    "# elp\n",
    "343.4221541881561"
   ]
  },
  {
   "cell_type": "code",
   "execution_count": 24,
   "id": "a9a9ea3e-8685-4295-a085-a257a4b5ec1d",
   "metadata": {
    "tags": []
   },
   "outputs": [
    {
     "data": {
      "text/plain": [
       "0"
      ]
     },
     "execution_count": 24,
     "metadata": {},
     "output_type": "execute_result"
    }
   ],
   "source": [
    "sum([v.returncode for v in out])"
   ]
  },
  {
   "cell_type": "markdown",
   "id": "55a6f574-d3d4-4489-9292-dc50af454a6a",
   "metadata": {},
   "source": [
    "### (2) concat"
   ]
  },
  {
   "cell_type": "code",
   "execution_count": 25,
   "id": "dde64d8f-6c88-4ea1-a0df-99104ff349c7",
   "metadata": {},
   "outputs": [
    {
     "data": {
      "text/plain": [
       "PosixPath('data/chunked_call/chunk_list')"
      ]
     },
     "execution_count": 25,
     "metadata": {},
     "output_type": "execute_result"
    }
   ],
   "source": [
    "chunk_list_file = chunked_call_dir / 'chunk_list'\n",
    "chunk_list_file"
   ]
  },
  {
   "cell_type": "code",
   "execution_count": 26,
   "id": "0e8ed5b2-b268-4626-a79e-0fb1c792977d",
   "metadata": {},
   "outputs": [],
   "source": [
    "with open(chunk_list_file, 'w') as f:\n",
    "    for v in chunked_call_df['vcf_file'].values:\n",
    "        f.write(f\"{v}\\n\")"
   ]
  },
  {
   "cell_type": "code",
   "execution_count": 27,
   "id": "fafc8ad8-9ccf-4d71-a77b-a2442db79c66",
   "metadata": {},
   "outputs": [
    {
     "data": {
      "text/plain": [
       "PosixPath('data/chunked_call/concated.vcf')"
      ]
     },
     "execution_count": 27,
     "metadata": {},
     "output_type": "execute_result"
    }
   ],
   "source": [
    "concated_vcf_file = chunked_call_dir / 'concated.vcf'\n",
    "concated_vcf_file"
   ]
  },
  {
   "cell_type": "code",
   "execution_count": 28,
   "id": "984bf229-14f2-47fb-98a9-9aba30fd39da",
   "metadata": {},
   "outputs": [
    {
     "data": {
      "text/plain": [
       "'bcftools concat --file-list data/chunked_call/chunk_list -O v > data/chunked_call/concated.vcf'"
      ]
     },
     "execution_count": 28,
     "metadata": {},
     "output_type": "execute_result"
    }
   ],
   "source": [
    "cmd = f\"bcftools concat --file-list {chunk_list_file} -O v > {concated_vcf_file}\"\n",
    "cmd"
   ]
  },
  {
   "cell_type": "code",
   "execution_count": 29,
   "id": "9748ee81-4e7b-494c-86fc-6256d711ae8d",
   "metadata": {},
   "outputs": [],
   "source": [
    "# run\n",
    "out = subprocs(cmd)"
   ]
  },
  {
   "cell_type": "code",
   "execution_count": 30,
   "id": "ecc660da-6f60-44a5-a059-e8a37abea4bd",
   "metadata": {},
   "outputs": [
    {
     "data": {
      "text/plain": [
       "0.03208732604980469"
      ]
     },
     "execution_count": 30,
     "metadata": {},
     "output_type": "execute_result"
    }
   ],
   "source": [
    "elp"
   ]
  },
  {
   "cell_type": "markdown",
   "id": "6edbe66c-52e0-480b-8c15-798626d5a7fe",
   "metadata": {},
   "source": [
    "### (3) norm"
   ]
  },
  {
   "cell_type": "code",
   "execution_count": 31,
   "id": "a2668611-54a0-44e0-a11c-bc1f480508ec",
   "metadata": {},
   "outputs": [
    {
     "data": {
      "text/plain": [
       "PosixPath('data/out.vcf')"
      ]
     },
     "execution_count": 31,
     "metadata": {},
     "output_type": "execute_result"
    }
   ],
   "source": [
    "normed_vcf_file = out_vcf_file\n",
    "normed_vcf_file"
   ]
  },
  {
   "cell_type": "code",
   "execution_count": 32,
   "id": "9d7921d0-ca56-42cf-9007-6694074f5256",
   "metadata": {},
   "outputs": [
    {
     "data": {
      "text/plain": [
       "'bcftools norm -O v -f data/reference/ref.fa -d all data/chunked_call/concated.vcf > data/out.vcf'"
      ]
     },
     "execution_count": 32,
     "metadata": {},
     "output_type": "execute_result"
    }
   ],
   "source": [
    "cmd = f\"bcftools norm -O v -f {ref_file} -d all {concated_vcf_file} > {normed_vcf_file}\"\n",
    "cmd"
   ]
  },
  {
   "cell_type": "code",
   "execution_count": 33,
   "id": "0671cb60-9325-4ba4-a9fb-52c424927d26",
   "metadata": {},
   "outputs": [],
   "source": [
    "# run\n",
    "out = subprocs(cmd)"
   ]
  },
  {
   "cell_type": "code",
   "execution_count": 34,
   "id": "6a6efd8e-794f-4913-a1e1-04ceeb701985",
   "metadata": {},
   "outputs": [
    {
     "data": {
      "text/plain": [
       "0.03208732604980469"
      ]
     },
     "execution_count": 34,
     "metadata": {},
     "output_type": "execute_result"
    }
   ],
   "source": [
    "elp"
   ]
  },
  {
   "cell_type": "code",
   "execution_count": null,
   "id": "b879d83a-41cd-45c9-b124-44aded03babf",
   "metadata": {},
   "outputs": [],
   "source": []
  }
 ],
 "metadata": {
  "kernelspec": {
   "display_name": "TB",
   "language": "python",
   "name": "tb"
  },
  "language_info": {
   "codemirror_mode": {
    "name": "ipython",
    "version": 3
   },
   "file_extension": ".py",
   "mimetype": "text/x-python",
   "name": "python",
   "nbconvert_exporter": "python",
   "pygments_lexer": "ipython3",
   "version": "3.10.6"
  },
  "toc-autonumbering": true
 },
 "nbformat": 4,
 "nbformat_minor": 5
}
