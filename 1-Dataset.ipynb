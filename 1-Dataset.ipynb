{
 "cells": [
  {
   "cell_type": "markdown",
   "id": "989361d0",
   "metadata": {},
   "source": [
    "# Dataset"
   ]
  },
  {
   "cell_type": "code",
   "execution_count": 1,
   "id": "adf1a6dd",
   "metadata": {
    "tags": []
   },
   "outputs": [],
   "source": [
    "import os, sys\n",
    "from pathlib import Path\n",
    "\n",
    "import pandas as pd\n",
    "import numpy as np"
   ]
  },
  {
   "cell_type": "code",
   "execution_count": 2,
   "id": "c5c89b5d-9b72-44da-b642-8151f5864b09",
   "metadata": {},
   "outputs": [],
   "source": [
    "# import utils.py\n",
    "currentdir = os.path.dirname(os.path.realpath(__name__))\n",
    "parentdir = os.path.dirname(currentdir)\n",
    "sys.path.append(parentdir)\n",
    "\n",
    "from utils import *"
   ]
  },
  {
   "cell_type": "code",
   "execution_count": 3,
   "id": "1054d171-838a-43f5-a2c1-ea2a7a842007",
   "metadata": {},
   "outputs": [],
   "source": [
    "config_file = \"config.toml\"\n",
    "config = parse_config(config_file)\n",
    "root_dir = Path(config['root_dir'])"
   ]
  },
  {
   "cell_type": "markdown",
   "id": "46374784-e8bb-480e-8842-6179a5f5858f",
   "metadata": {},
   "source": [
    "### output"
   ]
  },
  {
   "cell_type": "code",
   "execution_count": 4,
   "id": "8fe6ef3b-9c8a-40b2-b140-2ca88cf3d314",
   "metadata": {
    "tags": []
   },
   "outputs": [
    {
     "data": {
      "text/plain": [
       "PosixPath('data/raw_fpath.csv')"
      ]
     },
     "execution_count": 4,
     "metadata": {},
     "output_type": "execute_result"
    }
   ],
   "source": [
    "raw_fpath_file = root_dir / 'raw_fpath.csv'\n",
    "raw_fpath_file"
   ]
  },
  {
   "cell_type": "markdown",
   "id": "10e2c477",
   "metadata": {
    "tags": []
   },
   "source": [
    "## 1. Get metadata from NCBI database"
   ]
  },
  {
   "cell_type": "code",
   "execution_count": 5,
   "id": "ae412f47-c159-4639-9a29-8dde4a33578f",
   "metadata": {
    "tags": []
   },
   "outputs": [
    {
     "data": {
      "text/plain": [
       "PosixPath('data/PRJNA401515.csv')"
      ]
     },
     "execution_count": 5,
     "metadata": {},
     "output_type": "execute_result"
    }
   ],
   "source": [
    "project_accession = \"PRJNA401515\"\n",
    "metadata_file = root_dir / f\"{project_accession}.csv\"\n",
    "metadata_file"
   ]
  },
  {
   "cell_type": "code",
   "execution_count": 6,
   "id": "5678f6e5-8809-4626-ad22-cd235435e4c0",
   "metadata": {
    "tags": []
   },
   "outputs": [],
   "source": [
    "from Bio import Entrez\n",
    "from io import StringIO\n",
    "\n",
    "def get_metadata(\n",
    "    project_accession,\n",
    "    metadata_file,\n",
    "):\n",
    "    if not metadata_file.exists():\n",
    "        # Set your email (required by NCBI)\n",
    "        Entrez.email = \"your.email@example.com\"\n",
    "\n",
    "        # Fetch the project metadata using the Entrez API\n",
    "        with Entrez.esearch(db=\"sra\", term=project_accession, retmax=5000) as handle:\n",
    "            record = Entrez.read(handle)\n",
    "            sra_ids = record[\"IdList\"]\n",
    "\n",
    "        # Fetch SRA Experiment metadata\n",
    "        sra_df_list = []\n",
    "        for sra_id in sra_ids:\n",
    "            sra_handle = Entrez.efetch(db=\"sra\", id=sra_id, rettype=\"runinfo\", retmode=\"text\")\n",
    "            sra_data = sra_handle.read()\n",
    "            sra_df = pd.read_csv(StringIO(sra_data.decode()))\n",
    "            sra_df_list.append(sra_df)\n",
    "\n",
    "        # Merge and save\n",
    "        merged_sra_df = pd.concat(sra_df_list, axis=0).reset_index(drop=True)\n",
    "        merged_sra_df.to_csv(metadata_file, index=False)\n",
    "    \n",
    "    return pd.read_csv(metadata_file)"
   ]
  },
  {
   "cell_type": "code",
   "execution_count": 7,
   "id": "622ae29b-bafe-4a4d-bbaf-2e94cf92bef6",
   "metadata": {
    "tags": []
   },
   "outputs": [
    {
     "data": {
      "text/html": [
       "<div>\n",
       "<style scoped>\n",
       "    .dataframe tbody tr th:only-of-type {\n",
       "        vertical-align: middle;\n",
       "    }\n",
       "\n",
       "    .dataframe tbody tr th {\n",
       "        vertical-align: top;\n",
       "    }\n",
       "\n",
       "    .dataframe thead th {\n",
       "        text-align: right;\n",
       "    }\n",
       "</style>\n",
       "<table border=\"1\" class=\"dataframe\">\n",
       "  <thead>\n",
       "    <tr style=\"text-align: right;\">\n",
       "      <th></th>\n",
       "      <th>Run</th>\n",
       "      <th>ReleaseDate</th>\n",
       "      <th>LoadDate</th>\n",
       "      <th>spots</th>\n",
       "      <th>bases</th>\n",
       "      <th>spots_with_mates</th>\n",
       "      <th>avgLength</th>\n",
       "      <th>size_MB</th>\n",
       "      <th>AssemblyName</th>\n",
       "      <th>download_path</th>\n",
       "      <th>...</th>\n",
       "      <th>Affection_Status</th>\n",
       "      <th>Analyte_Type</th>\n",
       "      <th>Histological_Type</th>\n",
       "      <th>Body_Site</th>\n",
       "      <th>CenterName</th>\n",
       "      <th>Submission</th>\n",
       "      <th>dbgap_study_accession</th>\n",
       "      <th>Consent</th>\n",
       "      <th>RunHash</th>\n",
       "      <th>ReadHash</th>\n",
       "    </tr>\n",
       "  </thead>\n",
       "  <tbody>\n",
       "    <tr>\n",
       "      <th>0</th>\n",
       "      <td>SRR6046808</td>\n",
       "      <td>2017-11-14 00:01:31</td>\n",
       "      <td>2017-10-27 18:48:57</td>\n",
       "      <td>1025639</td>\n",
       "      <td>278719501</td>\n",
       "      <td>1025639</td>\n",
       "      <td>271</td>\n",
       "      <td>164</td>\n",
       "      <td>NaN</td>\n",
       "      <td>https://sra-downloadb.be-md.ncbi.nlm.nih.gov/s...</td>\n",
       "      <td>...</td>\n",
       "      <td>NaN</td>\n",
       "      <td>NaN</td>\n",
       "      <td>NaN</td>\n",
       "      <td>NaN</td>\n",
       "      <td>MODMEDMICOXFORD</td>\n",
       "      <td>SRA608812</td>\n",
       "      <td>NaN</td>\n",
       "      <td>public</td>\n",
       "      <td>A2EEC37A0104FF3F01D2C792386AE3F9</td>\n",
       "      <td>44B1C3EF17E6774A3B47DC144C600513</td>\n",
       "    </tr>\n",
       "    <tr>\n",
       "      <th>1</th>\n",
       "      <td>SRR6046809</td>\n",
       "      <td>2017-11-14 00:01:31</td>\n",
       "      <td>2017-10-27 18:49:08</td>\n",
       "      <td>864288</td>\n",
       "      <td>256270471</td>\n",
       "      <td>864288</td>\n",
       "      <td>296</td>\n",
       "      <td>166</td>\n",
       "      <td>NaN</td>\n",
       "      <td>https://sra-downloadb.be-md.ncbi.nlm.nih.gov/s...</td>\n",
       "      <td>...</td>\n",
       "      <td>NaN</td>\n",
       "      <td>NaN</td>\n",
       "      <td>NaN</td>\n",
       "      <td>NaN</td>\n",
       "      <td>MODMEDMICOXFORD</td>\n",
       "      <td>SRA608812</td>\n",
       "      <td>NaN</td>\n",
       "      <td>public</td>\n",
       "      <td>5BDCDA87915E6CC5DB9CB76A11D9B46E</td>\n",
       "      <td>9DD6C0A5C924813A84C9EF9ECC084A49</td>\n",
       "    </tr>\n",
       "    <tr>\n",
       "      <th>2</th>\n",
       "      <td>SRR6046810</td>\n",
       "      <td>2017-11-14 00:01:31</td>\n",
       "      <td>2017-10-27 18:48:17</td>\n",
       "      <td>1985059</td>\n",
       "      <td>588244858</td>\n",
       "      <td>1985059</td>\n",
       "      <td>296</td>\n",
       "      <td>390</td>\n",
       "      <td>NaN</td>\n",
       "      <td>https://sra-downloadb.be-md.ncbi.nlm.nih.gov/s...</td>\n",
       "      <td>...</td>\n",
       "      <td>NaN</td>\n",
       "      <td>NaN</td>\n",
       "      <td>NaN</td>\n",
       "      <td>NaN</td>\n",
       "      <td>MODMEDMICOXFORD</td>\n",
       "      <td>SRA608812</td>\n",
       "      <td>NaN</td>\n",
       "      <td>public</td>\n",
       "      <td>375FCB18313E34E0E4E9B64F39979B5B</td>\n",
       "      <td>BCF098218EF8C26C2A4B855B73F35A3A</td>\n",
       "    </tr>\n",
       "    <tr>\n",
       "      <th>3</th>\n",
       "      <td>SRR6046811</td>\n",
       "      <td>2017-11-14 00:01:31</td>\n",
       "      <td>2017-10-27 18:49:15</td>\n",
       "      <td>1355992</td>\n",
       "      <td>398893386</td>\n",
       "      <td>1355992</td>\n",
       "      <td>294</td>\n",
       "      <td>253</td>\n",
       "      <td>NaN</td>\n",
       "      <td>https://sra-downloadb.be-md.ncbi.nlm.nih.gov/s...</td>\n",
       "      <td>...</td>\n",
       "      <td>NaN</td>\n",
       "      <td>NaN</td>\n",
       "      <td>NaN</td>\n",
       "      <td>NaN</td>\n",
       "      <td>MODMEDMICOXFORD</td>\n",
       "      <td>SRA608812</td>\n",
       "      <td>NaN</td>\n",
       "      <td>public</td>\n",
       "      <td>13A1A43082FFDADB99E50DABCD5BA63C</td>\n",
       "      <td>DAAF4F57BEDBCDEA77D01564C7279720</td>\n",
       "    </tr>\n",
       "    <tr>\n",
       "      <th>4</th>\n",
       "      <td>SRR6046812</td>\n",
       "      <td>2017-11-14 00:01:31</td>\n",
       "      <td>2017-10-27 18:49:02</td>\n",
       "      <td>1646249</td>\n",
       "      <td>472243561</td>\n",
       "      <td>1646249</td>\n",
       "      <td>286</td>\n",
       "      <td>274</td>\n",
       "      <td>NaN</td>\n",
       "      <td>https://sra-downloadb.be-md.ncbi.nlm.nih.gov/s...</td>\n",
       "      <td>...</td>\n",
       "      <td>NaN</td>\n",
       "      <td>NaN</td>\n",
       "      <td>NaN</td>\n",
       "      <td>NaN</td>\n",
       "      <td>MODMEDMICOXFORD</td>\n",
       "      <td>SRA608812</td>\n",
       "      <td>NaN</td>\n",
       "      <td>public</td>\n",
       "      <td>A6278636979B72CC66AEEC475FEF7698</td>\n",
       "      <td>5105C06ADEF15D3ED13E345EDC52EBB2</td>\n",
       "    </tr>\n",
       "    <tr>\n",
       "      <th>...</th>\n",
       "      <td>...</td>\n",
       "      <td>...</td>\n",
       "      <td>...</td>\n",
       "      <td>...</td>\n",
       "      <td>...</td>\n",
       "      <td>...</td>\n",
       "      <td>...</td>\n",
       "      <td>...</td>\n",
       "      <td>...</td>\n",
       "      <td>...</td>\n",
       "      <td>...</td>\n",
       "      <td>...</td>\n",
       "      <td>...</td>\n",
       "      <td>...</td>\n",
       "      <td>...</td>\n",
       "      <td>...</td>\n",
       "      <td>...</td>\n",
       "      <td>...</td>\n",
       "      <td>...</td>\n",
       "      <td>...</td>\n",
       "      <td>...</td>\n",
       "    </tr>\n",
       "    <tr>\n",
       "      <th>2149</th>\n",
       "      <td>SRR6045018</td>\n",
       "      <td>2017-11-14 00:00:27</td>\n",
       "      <td>2017-10-27 16:12:27</td>\n",
       "      <td>788133</td>\n",
       "      <td>235186947</td>\n",
       "      <td>788133</td>\n",
       "      <td>298</td>\n",
       "      <td>153</td>\n",
       "      <td>NaN</td>\n",
       "      <td>https://sra-downloadb.be-md.ncbi.nlm.nih.gov/s...</td>\n",
       "      <td>...</td>\n",
       "      <td>NaN</td>\n",
       "      <td>NaN</td>\n",
       "      <td>NaN</td>\n",
       "      <td>NaN</td>\n",
       "      <td>MODMEDMICOXFORD</td>\n",
       "      <td>SRA608812</td>\n",
       "      <td>NaN</td>\n",
       "      <td>public</td>\n",
       "      <td>4810B976043721EDACEE190C537EAB13</td>\n",
       "      <td>8CC4FDB7CD0FEE23940FDB8CE4AB2C99</td>\n",
       "    </tr>\n",
       "    <tr>\n",
       "      <th>2150</th>\n",
       "      <td>SRR6045019</td>\n",
       "      <td>2017-11-14 00:00:27</td>\n",
       "      <td>2017-10-27 15:57:30</td>\n",
       "      <td>2877475</td>\n",
       "      <td>810898470</td>\n",
       "      <td>2877475</td>\n",
       "      <td>281</td>\n",
       "      <td>450</td>\n",
       "      <td>NaN</td>\n",
       "      <td>https://sra-downloadb.be-md.ncbi.nlm.nih.gov/s...</td>\n",
       "      <td>...</td>\n",
       "      <td>NaN</td>\n",
       "      <td>NaN</td>\n",
       "      <td>NaN</td>\n",
       "      <td>NaN</td>\n",
       "      <td>MODMEDMICOXFORD</td>\n",
       "      <td>SRA608812</td>\n",
       "      <td>NaN</td>\n",
       "      <td>public</td>\n",
       "      <td>32A53F045202E9D01611F9B3B5291F5D</td>\n",
       "      <td>B0E51A980E1B1AC4845A6F8EF8627DCA</td>\n",
       "    </tr>\n",
       "    <tr>\n",
       "      <th>2151</th>\n",
       "      <td>SRR6045020</td>\n",
       "      <td>2017-11-14 00:00:27</td>\n",
       "      <td>2017-10-27 15:59:43</td>\n",
       "      <td>1455060</td>\n",
       "      <td>421759303</td>\n",
       "      <td>1455060</td>\n",
       "      <td>289</td>\n",
       "      <td>262</td>\n",
       "      <td>NaN</td>\n",
       "      <td>https://sra-downloadb.be-md.ncbi.nlm.nih.gov/s...</td>\n",
       "      <td>...</td>\n",
       "      <td>NaN</td>\n",
       "      <td>NaN</td>\n",
       "      <td>NaN</td>\n",
       "      <td>NaN</td>\n",
       "      <td>MODMEDMICOXFORD</td>\n",
       "      <td>SRA608812</td>\n",
       "      <td>NaN</td>\n",
       "      <td>public</td>\n",
       "      <td>1E77A14300511601487F9F2B803DA4E2</td>\n",
       "      <td>443272A42A1D2B117B77732B8DE7805C</td>\n",
       "    </tr>\n",
       "    <tr>\n",
       "      <th>2152</th>\n",
       "      <td>SRR6045021</td>\n",
       "      <td>2017-11-14 00:00:27</td>\n",
       "      <td>2017-10-27 15:59:42</td>\n",
       "      <td>887295</td>\n",
       "      <td>250291335</td>\n",
       "      <td>887295</td>\n",
       "      <td>282</td>\n",
       "      <td>150</td>\n",
       "      <td>NaN</td>\n",
       "      <td>https://sra-downloadb.be-md.ncbi.nlm.nih.gov/s...</td>\n",
       "      <td>...</td>\n",
       "      <td>NaN</td>\n",
       "      <td>NaN</td>\n",
       "      <td>NaN</td>\n",
       "      <td>NaN</td>\n",
       "      <td>MODMEDMICOXFORD</td>\n",
       "      <td>SRA608812</td>\n",
       "      <td>NaN</td>\n",
       "      <td>public</td>\n",
       "      <td>0560F137594AFD3EF7B86422D161185F</td>\n",
       "      <td>DE24C2247D5252EA7847FA9B3FCF3471</td>\n",
       "    </tr>\n",
       "    <tr>\n",
       "      <th>2153</th>\n",
       "      <td>SRR6045022</td>\n",
       "      <td>2017-11-14 00:00:27</td>\n",
       "      <td>2017-10-27 15:55:49</td>\n",
       "      <td>1148847</td>\n",
       "      <td>338669560</td>\n",
       "      <td>1148847</td>\n",
       "      <td>294</td>\n",
       "      <td>226</td>\n",
       "      <td>NaN</td>\n",
       "      <td>https://sra-downloadb.be-md.ncbi.nlm.nih.gov/s...</td>\n",
       "      <td>...</td>\n",
       "      <td>NaN</td>\n",
       "      <td>NaN</td>\n",
       "      <td>NaN</td>\n",
       "      <td>NaN</td>\n",
       "      <td>MODMEDMICOXFORD</td>\n",
       "      <td>SRA608812</td>\n",
       "      <td>NaN</td>\n",
       "      <td>public</td>\n",
       "      <td>8F484E8BFC9E717B6996A01331280907</td>\n",
       "      <td>F05059BEB286D843022116429F26D9A1</td>\n",
       "    </tr>\n",
       "  </tbody>\n",
       "</table>\n",
       "<p>2154 rows × 47 columns</p>\n",
       "</div>"
      ],
      "text/plain": [
       "             Run          ReleaseDate             LoadDate    spots  \\\n",
       "0     SRR6046808  2017-11-14 00:01:31  2017-10-27 18:48:57  1025639   \n",
       "1     SRR6046809  2017-11-14 00:01:31  2017-10-27 18:49:08   864288   \n",
       "2     SRR6046810  2017-11-14 00:01:31  2017-10-27 18:48:17  1985059   \n",
       "3     SRR6046811  2017-11-14 00:01:31  2017-10-27 18:49:15  1355992   \n",
       "4     SRR6046812  2017-11-14 00:01:31  2017-10-27 18:49:02  1646249   \n",
       "...          ...                  ...                  ...      ...   \n",
       "2149  SRR6045018  2017-11-14 00:00:27  2017-10-27 16:12:27   788133   \n",
       "2150  SRR6045019  2017-11-14 00:00:27  2017-10-27 15:57:30  2877475   \n",
       "2151  SRR6045020  2017-11-14 00:00:27  2017-10-27 15:59:43  1455060   \n",
       "2152  SRR6045021  2017-11-14 00:00:27  2017-10-27 15:59:42   887295   \n",
       "2153  SRR6045022  2017-11-14 00:00:27  2017-10-27 15:55:49  1148847   \n",
       "\n",
       "          bases  spots_with_mates  avgLength  size_MB  AssemblyName  \\\n",
       "0     278719501           1025639        271      164           NaN   \n",
       "1     256270471            864288        296      166           NaN   \n",
       "2     588244858           1985059        296      390           NaN   \n",
       "3     398893386           1355992        294      253           NaN   \n",
       "4     472243561           1646249        286      274           NaN   \n",
       "...         ...               ...        ...      ...           ...   \n",
       "2149  235186947            788133        298      153           NaN   \n",
       "2150  810898470           2877475        281      450           NaN   \n",
       "2151  421759303           1455060        289      262           NaN   \n",
       "2152  250291335            887295        282      150           NaN   \n",
       "2153  338669560           1148847        294      226           NaN   \n",
       "\n",
       "                                          download_path  ... Affection_Status  \\\n",
       "0     https://sra-downloadb.be-md.ncbi.nlm.nih.gov/s...  ...              NaN   \n",
       "1     https://sra-downloadb.be-md.ncbi.nlm.nih.gov/s...  ...              NaN   \n",
       "2     https://sra-downloadb.be-md.ncbi.nlm.nih.gov/s...  ...              NaN   \n",
       "3     https://sra-downloadb.be-md.ncbi.nlm.nih.gov/s...  ...              NaN   \n",
       "4     https://sra-downloadb.be-md.ncbi.nlm.nih.gov/s...  ...              NaN   \n",
       "...                                                 ...  ...              ...   \n",
       "2149  https://sra-downloadb.be-md.ncbi.nlm.nih.gov/s...  ...              NaN   \n",
       "2150  https://sra-downloadb.be-md.ncbi.nlm.nih.gov/s...  ...              NaN   \n",
       "2151  https://sra-downloadb.be-md.ncbi.nlm.nih.gov/s...  ...              NaN   \n",
       "2152  https://sra-downloadb.be-md.ncbi.nlm.nih.gov/s...  ...              NaN   \n",
       "2153  https://sra-downloadb.be-md.ncbi.nlm.nih.gov/s...  ...              NaN   \n",
       "\n",
       "     Analyte_Type Histological_Type Body_Site       CenterName Submission  \\\n",
       "0             NaN               NaN       NaN  MODMEDMICOXFORD  SRA608812   \n",
       "1             NaN               NaN       NaN  MODMEDMICOXFORD  SRA608812   \n",
       "2             NaN               NaN       NaN  MODMEDMICOXFORD  SRA608812   \n",
       "3             NaN               NaN       NaN  MODMEDMICOXFORD  SRA608812   \n",
       "4             NaN               NaN       NaN  MODMEDMICOXFORD  SRA608812   \n",
       "...           ...               ...       ...              ...        ...   \n",
       "2149          NaN               NaN       NaN  MODMEDMICOXFORD  SRA608812   \n",
       "2150          NaN               NaN       NaN  MODMEDMICOXFORD  SRA608812   \n",
       "2151          NaN               NaN       NaN  MODMEDMICOXFORD  SRA608812   \n",
       "2152          NaN               NaN       NaN  MODMEDMICOXFORD  SRA608812   \n",
       "2153          NaN               NaN       NaN  MODMEDMICOXFORD  SRA608812   \n",
       "\n",
       "      dbgap_study_accession  Consent                           RunHash  \\\n",
       "0                       NaN   public  A2EEC37A0104FF3F01D2C792386AE3F9   \n",
       "1                       NaN   public  5BDCDA87915E6CC5DB9CB76A11D9B46E   \n",
       "2                       NaN   public  375FCB18313E34E0E4E9B64F39979B5B   \n",
       "3                       NaN   public  13A1A43082FFDADB99E50DABCD5BA63C   \n",
       "4                       NaN   public  A6278636979B72CC66AEEC475FEF7698   \n",
       "...                     ...      ...                               ...   \n",
       "2149                    NaN   public  4810B976043721EDACEE190C537EAB13   \n",
       "2150                    NaN   public  32A53F045202E9D01611F9B3B5291F5D   \n",
       "2151                    NaN   public  1E77A14300511601487F9F2B803DA4E2   \n",
       "2152                    NaN   public  0560F137594AFD3EF7B86422D161185F   \n",
       "2153                    NaN   public  8F484E8BFC9E717B6996A01331280907   \n",
       "\n",
       "                              ReadHash  \n",
       "0     44B1C3EF17E6774A3B47DC144C600513  \n",
       "1     9DD6C0A5C924813A84C9EF9ECC084A49  \n",
       "2     BCF098218EF8C26C2A4B855B73F35A3A  \n",
       "3     DAAF4F57BEDBCDEA77D01564C7279720  \n",
       "4     5105C06ADEF15D3ED13E345EDC52EBB2  \n",
       "...                                ...  \n",
       "2149  8CC4FDB7CD0FEE23940FDB8CE4AB2C99  \n",
       "2150  B0E51A980E1B1AC4845A6F8EF8627DCA  \n",
       "2151  443272A42A1D2B117B77732B8DE7805C  \n",
       "2152  DE24C2247D5252EA7847FA9B3FCF3471  \n",
       "2153  F05059BEB286D843022116429F26D9A1  \n",
       "\n",
       "[2154 rows x 47 columns]"
      ]
     },
     "execution_count": 7,
     "metadata": {},
     "output_type": "execute_result"
    }
   ],
   "source": [
    "meatadata_df = get_metadata(project_accession, metadata_file)\n",
    "meatadata_df"
   ]
  },
  {
   "cell_type": "markdown",
   "id": "5ef9b226",
   "metadata": {
    "tags": []
   },
   "source": [
    "## 2. Selecte samples"
   ]
  },
  {
   "cell_type": "code",
   "execution_count": 8,
   "id": "b7d5d40d-40d0-4e39-8c66-b92025fcf266",
   "metadata": {
    "tags": []
   },
   "outputs": [],
   "source": [
    "import plotly.express as px"
   ]
  },
  {
   "cell_type": "code",
   "execution_count": 9,
   "id": "d75f1f63-2a5b-41c0-8384-a966e46ef460",
   "metadata": {
    "tags": []
   },
   "outputs": [
    {
     "data": {
      "text/plain": [
       "ILLUMINA    2154\n",
       "Name: Platform, dtype: int64"
      ]
     },
     "execution_count": 9,
     "metadata": {},
     "output_type": "execute_result"
    }
   ],
   "source": [
    "meatadata_df['Platform'].value_counts()"
   ]
  },
  {
   "cell_type": "code",
   "execution_count": 10,
   "id": "ada3f652-fac3-40d7-8479-1594c0cf48a2",
   "metadata": {
    "tags": []
   },
   "outputs": [
    {
     "data": {
      "text/plain": [
       "Illumina MiSeq    2154\n",
       "Name: Model, dtype: int64"
      ]
     },
     "execution_count": 10,
     "metadata": {},
     "output_type": "execute_result"
    }
   ],
   "source": [
    "meatadata_df['Model'].value_counts()"
   ]
  },
  {
   "cell_type": "code",
   "execution_count": 11,
   "id": "3d2c39f6-f8fb-4c74-b866-a7d5a60c0bbb",
   "metadata": {
    "tags": []
   },
   "outputs": [
    {
     "data": {
      "text/plain": [
       "Mycobacterium tuberculosis                      932\n",
       "Mycobacterium avium                             267\n",
       "Mycobacterium intracellulare                    187\n",
       "Mycobacteroides abscessus                       163\n",
       "Mycobacterium gordonae                          130\n",
       "Mycobacteroides chelonae                        112\n",
       "Mycobacterium intracellulare subsp. chimaera     95\n",
       "Mycobacterium malmoense                          40\n",
       "Mycobacterium kansasii                           33\n",
       "Mycolicibacterium fortuitum                      23\n",
       "Mycobacterium                                    21\n",
       "Mycobacterium tuberculosis variant bovis         15\n",
       "Mycobacterium tuberculosis variant africanum     15\n",
       "Mycolicibacterium llatzerense                    15\n",
       "Mycobacterium xenopi                             12\n",
       "Mycolicibacterium peregrinum                     12\n",
       "Mycolicibacterium septicum                       10\n",
       "Mycobacterium porcinum                            8\n",
       "Mycobacterium lentiflavum                         7\n",
       "Mycobacterium sp. 'ratisbonense'                  7\n",
       "Mycobacterium marinum                             7\n",
       "Mycolicibacterium farcinogenes                    7\n",
       "Mycobacterium szulgai                             6\n",
       "Mycobacterium paraffinicum                        5\n",
       "Mycobacterium colombiense                         4\n",
       "Mycobacterium marseillense                        4\n",
       "Mycobacterium shimoidei                           2\n",
       "Mycobacterium triplex                             2\n",
       "Mycobacteroides immunogenum                       2\n",
       "Mycolicibacterium brisbanense                     2\n",
       "Mycobacterium simiae                              2\n",
       "Mycolicibacterium mageritense                     2\n",
       "Mycobacterium arosiense                           2\n",
       "Mycobacterium palustre                            1\n",
       "Mycobacterium angelicum                           1\n",
       "Mycolicibacterium smegmatis                       1\n",
       "Name: ScientificName, dtype: int64"
      ]
     },
     "execution_count": 11,
     "metadata": {},
     "output_type": "execute_result"
    }
   ],
   "source": [
    "meatadata_df['ScientificName'].value_counts()"
   ]
  },
  {
   "cell_type": "code",
   "execution_count": 12,
   "id": "05de6ab0-0a28-4b53-881c-02d22480d1b5",
   "metadata": {},
   "outputs": [
    {
     "data": {
      "image/png": "[encoded data removed]"
     },
     "metadata": {},
     "output_type": "display_data"
    }
   ],
   "source": [
    "fig = px.histogram(\n",
    "    meatadata_df['ScientificName'].values,\n",
    ")\n",
    "fig.update_layout(\n",
    "    height=400, width=800,\n",
    ")\n",
    "fig.show(\"png\")"
   ]
  },
  {
   "cell_type": "code",
   "execution_count": 13,
   "id": "b98facad-fd4b-4f92-96f4-33e9a04e5278",
   "metadata": {
    "tags": []
   },
   "outputs": [
    {
     "data": {
      "image/png": "[encoded data removed]"
     },
     "metadata": {},
     "output_type": "display_data"
    }
   ],
   "source": [
    "fig = px.histogram(\n",
    "    meatadata_df['avgLength'].values,\n",
    ")\n",
    "fig.update_layout(\n",
    "    height=400, width=800,\n",
    ")\n",
    "fig.show(\"png\")"
   ]
  },
  {
   "cell_type": "code",
   "execution_count": 14,
   "id": "bd73ea26-37ad-4fe1-98ad-3915017b29bf",
   "metadata": {},
   "outputs": [
    {
     "data": {
      "image/png": "[encoded data removed]"
     },
     "metadata": {},
     "output_type": "display_data"
    }
   ],
   "source": [
    "fig = px.histogram(\n",
    "    meatadata_df['bases'].values,\n",
    ")\n",
    "fig.update_layout(\n",
    "    height=400, width=800,\n",
    ")\n",
    "fig.show(\"png\")"
   ]
  },
  {
   "cell_type": "code",
   "execution_count": 15,
   "id": "e368696c-262d-4903-b9c1-7bdfe06a6d93",
   "metadata": {
    "tags": []
   },
   "outputs": [],
   "source": [
    "df1 = meatadata_df[meatadata_df['ScientificName'] == 'Mycobacterium tuberculosis']\n",
    "\n",
    "df2 = df1[(df1['avgLength'] >= 250)]\n",
    "\n",
    "desc = meatadata_df['bases'].describe()\n",
    "q1 =  desc['25%']\n",
    "q3 =  desc['75%']\n",
    "df3 = df2[(df2['bases'] >= q1) & (df2['bases'] < q3)]\n",
    "\n",
    "df4 = df3.sample(frac=1, random_state=0)"
   ]
  },
  {
   "cell_type": "code",
   "execution_count": 16,
   "id": "51ac933f-8d76-4606-95c0-8c933839b911",
   "metadata": {
    "tags": []
   },
   "outputs": [],
   "source": [
    "sample_size = 10\n",
    "\n",
    "selected = df4[:sample_size]['Run'].values"
   ]
  },
  {
   "cell_type": "code",
   "execution_count": 17,
   "id": "1d6b485a-8154-47d7-97ab-69a12aa9fc16",
   "metadata": {
    "tags": []
   },
   "outputs": [
    {
     "data": {
      "text/plain": [
       "array(['SRR6046075', 'SRR6046701', 'SRR6045735', 'SRR6045327',\n",
       "       'SRR6045549', 'SRR6046105', 'SRR6046861', 'SRR6044910',\n",
       "       'SRR6045763', 'SRR6046306'], dtype=object)"
      ]
     },
     "execution_count": 17,
     "metadata": {},
     "output_type": "execute_result"
    }
   ],
   "source": [
    "selected"
   ]
  },
  {
   "cell_type": "markdown",
   "id": "0a50bd42-46d1-4471-be62-3bc0c0757833",
   "metadata": {},
   "source": [
    "## 3. Download raw data"
   ]
  },
  {
   "cell_type": "code",
   "execution_count": 18,
   "id": "8de65f99-1592-471e-a0c3-be44bbf3ba9f",
   "metadata": {
    "tags": []
   },
   "outputs": [
    {
     "data": {
      "text/plain": [
       "PosixPath('data/raw')"
      ]
     },
     "execution_count": 18,
     "metadata": {},
     "output_type": "execute_result"
    }
   ],
   "source": [
    "raw_fq_dir = root_dir / \"raw\"\n",
    "raw_fq_dir.mkdir(exist_ok=True)\n",
    "raw_fq_dir"
   ]
  },
  {
   "cell_type": "code",
   "execution_count": 19,
   "id": "fda7ba62-32bf-4327-a3a7-eaa0b796918d",
   "metadata": {
    "tags": []
   },
   "outputs": [
    {
     "data": {
      "text/plain": [
       "PosixPath('data/bin/fastq-dump')"
      ]
     },
     "execution_count": 19,
     "metadata": {},
     "output_type": "execute_result"
    }
   ],
   "source": [
    "fastqdump_bin = root_dir / 'bin' / 'fastq-dump'\n",
    "fastqdump_bin.parent.mkdir(exist_ok=True)\n",
    "fastqdump_bin"
   ]
  },
  {
   "cell_type": "markdown",
   "id": "28a8674e-5f49-4f13-bf64-281097615b37",
   "metadata": {},
   "source": [
    "### Install `fastq-dump`"
   ]
  },
  {
   "cell_type": "code",
   "execution_count": 20,
   "id": "9b30aea4-5e23-4138-b0d4-f7395c0d5fa4",
   "metadata": {
    "tags": []
   },
   "outputs": [],
   "source": [
    "def install_sratoolkit(bin_path):\n",
    "    if not bin_path.exists():\n",
    "        url = \"https://ftp-trace.ncbi.nlm.nih.gov/sra/sdk/3.0.2/sratoolkit.3.0.2-ubuntu64.tar.gz\"\n",
    "        \n",
    "        sratoolkit_targz_file = bin_path.parent / 'sratoolkit.tar.gz'\n",
    "        if not sratoolkit_targz_file.exists():\n",
    "            cmd = f\"wget -O {sratoolkit_targz_file} {url}\"\n",
    "            subprocs(cmd)\n",
    "        \n",
    "        org_bin = bin_path.parent / url.split('/')[-1].split('.tar.gz')[0] / 'bin' / 'fastq-dump'\n",
    "        if not org_bin.exists():\n",
    "            cmd = f\"tar -xvf {sratoolkit_targz_file} -C {bin_path.parent}\"\n",
    "            subprocs(cmd)\n",
    "            \n",
    "        bin_path.symlink_to(org_bin.absolute())"
   ]
  },
  {
   "cell_type": "code",
   "execution_count": 21,
   "id": "84db3be3-42e8-4c64-a123-30b25744983c",
   "metadata": {
    "tags": []
   },
   "outputs": [],
   "source": [
    "install_sratoolkit(fastqdump_bin)"
   ]
  },
  {
   "cell_type": "markdown",
   "id": "521a43bd-f021-46f2-a6a8-01a52b219b03",
   "metadata": {},
   "source": [
    "### Download with SRA accession number"
   ]
  },
  {
   "cell_type": "code",
   "execution_count": 22,
   "id": "33907b4b-469a-44d9-89c0-557ecb6d53cc",
   "metadata": {
    "tags": []
   },
   "outputs": [],
   "source": [
    "def download(running_id):\n",
    "    cmd = f\"fastq-dump -O {raw_fq_dir} --gzip --split-files {running_id}\"\n",
    "    r1 = raw_fq_dir / f\"{running_id}_1.fastq.gz\"\n",
    "    r2 = raw_fq_dir / f\"{running_id}_2.fastq.gz\"\n",
    "    if not (r1.exists() & r2.exists()):\n",
    "        out = subprocs(cmd)\n",
    "        \n",
    "    return r1, r2"
   ]
  },
  {
   "cell_type": "code",
   "execution_count": 23,
   "id": "ab283585-0a2f-4052-981e-d96ebcad000a",
   "metadata": {
    "tags": []
   },
   "outputs": [],
   "source": [
    "raw_files = [\n",
    "    download(running_id) for running_id in selected\n",
    "]"
   ]
  },
  {
   "cell_type": "code",
   "execution_count": 24,
   "id": "a71b04b4-a97f-4f21-bc95-09c09e6b20cc",
   "metadata": {
    "tags": []
   },
   "outputs": [
    {
     "data": {
      "text/html": [
       "<div>\n",
       "<style scoped>\n",
       "    .dataframe tbody tr th:only-of-type {\n",
       "        vertical-align: middle;\n",
       "    }\n",
       "\n",
       "    .dataframe tbody tr th {\n",
       "        vertical-align: top;\n",
       "    }\n",
       "\n",
       "    .dataframe thead th {\n",
       "        text-align: right;\n",
       "    }\n",
       "</style>\n",
       "<table border=\"1\" class=\"dataframe\">\n",
       "  <thead>\n",
       "    <tr style=\"text-align: right;\">\n",
       "      <th></th>\n",
       "      <th>running_id</th>\n",
       "      <th>raw_r1</th>\n",
       "      <th>raw_r2</th>\n",
       "    </tr>\n",
       "  </thead>\n",
       "  <tbody>\n",
       "    <tr>\n",
       "      <th>0</th>\n",
       "      <td>SRR6046075</td>\n",
       "      <td>data/raw/SRR6046075_1.fastq.gz</td>\n",
       "      <td>data/raw/SRR6046075_2.fastq.gz</td>\n",
       "    </tr>\n",
       "    <tr>\n",
       "      <th>1</th>\n",
       "      <td>SRR6046701</td>\n",
       "      <td>data/raw/SRR6046701_1.fastq.gz</td>\n",
       "      <td>data/raw/SRR6046701_2.fastq.gz</td>\n",
       "    </tr>\n",
       "    <tr>\n",
       "      <th>2</th>\n",
       "      <td>SRR6045735</td>\n",
       "      <td>data/raw/SRR6045735_1.fastq.gz</td>\n",
       "      <td>data/raw/SRR6045735_2.fastq.gz</td>\n",
       "    </tr>\n",
       "    <tr>\n",
       "      <th>3</th>\n",
       "      <td>SRR6045327</td>\n",
       "      <td>data/raw/SRR6045327_1.fastq.gz</td>\n",
       "      <td>data/raw/SRR6045327_2.fastq.gz</td>\n",
       "    </tr>\n",
       "    <tr>\n",
       "      <th>4</th>\n",
       "      <td>SRR6045549</td>\n",
       "      <td>data/raw/SRR6045549_1.fastq.gz</td>\n",
       "      <td>data/raw/SRR6045549_2.fastq.gz</td>\n",
       "    </tr>\n",
       "    <tr>\n",
       "      <th>5</th>\n",
       "      <td>SRR6046105</td>\n",
       "      <td>data/raw/SRR6046105_1.fastq.gz</td>\n",
       "      <td>data/raw/SRR6046105_2.fastq.gz</td>\n",
       "    </tr>\n",
       "    <tr>\n",
       "      <th>6</th>\n",
       "      <td>SRR6046861</td>\n",
       "      <td>data/raw/SRR6046861_1.fastq.gz</td>\n",
       "      <td>data/raw/SRR6046861_2.fastq.gz</td>\n",
       "    </tr>\n",
       "    <tr>\n",
       "      <th>7</th>\n",
       "      <td>SRR6044910</td>\n",
       "      <td>data/raw/SRR6044910_1.fastq.gz</td>\n",
       "      <td>data/raw/SRR6044910_2.fastq.gz</td>\n",
       "    </tr>\n",
       "    <tr>\n",
       "      <th>8</th>\n",
       "      <td>SRR6045763</td>\n",
       "      <td>data/raw/SRR6045763_1.fastq.gz</td>\n",
       "      <td>data/raw/SRR6045763_2.fastq.gz</td>\n",
       "    </tr>\n",
       "    <tr>\n",
       "      <th>9</th>\n",
       "      <td>SRR6046306</td>\n",
       "      <td>data/raw/SRR6046306_1.fastq.gz</td>\n",
       "      <td>data/raw/SRR6046306_2.fastq.gz</td>\n",
       "    </tr>\n",
       "  </tbody>\n",
       "</table>\n",
       "</div>"
      ],
      "text/plain": [
       "   running_id                          raw_r1                          raw_r2\n",
       "0  SRR6046075  data/raw/SRR6046075_1.fastq.gz  data/raw/SRR6046075_2.fastq.gz\n",
       "1  SRR6046701  data/raw/SRR6046701_1.fastq.gz  data/raw/SRR6046701_2.fastq.gz\n",
       "2  SRR6045735  data/raw/SRR6045735_1.fastq.gz  data/raw/SRR6045735_2.fastq.gz\n",
       "3  SRR6045327  data/raw/SRR6045327_1.fastq.gz  data/raw/SRR6045327_2.fastq.gz\n",
       "4  SRR6045549  data/raw/SRR6045549_1.fastq.gz  data/raw/SRR6045549_2.fastq.gz\n",
       "5  SRR6046105  data/raw/SRR6046105_1.fastq.gz  data/raw/SRR6046105_2.fastq.gz\n",
       "6  SRR6046861  data/raw/SRR6046861_1.fastq.gz  data/raw/SRR6046861_2.fastq.gz\n",
       "7  SRR6044910  data/raw/SRR6044910_1.fastq.gz  data/raw/SRR6044910_2.fastq.gz\n",
       "8  SRR6045763  data/raw/SRR6045763_1.fastq.gz  data/raw/SRR6045763_2.fastq.gz\n",
       "9  SRR6046306  data/raw/SRR6046306_1.fastq.gz  data/raw/SRR6046306_2.fastq.gz"
      ]
     },
     "execution_count": 24,
     "metadata": {},
     "output_type": "execute_result"
    }
   ],
   "source": [
    "fpath_df = pd.concat([\n",
    "    pd.DataFrame(selected),\n",
    "    pd.DataFrame(raw_files),\n",
    "], axis=1)\n",
    "fpath_df.columns = ['running_id', 'raw_r1', 'raw_r2']\n",
    "fpath_df"
   ]
  },
  {
   "cell_type": "markdown",
   "id": "4d9b105d-0947-4b8c-8360-565887f4cb5f",
   "metadata": {},
   "source": [
    "## 4. Save file path"
   ]
  },
  {
   "cell_type": "code",
   "execution_count": 25,
   "id": "05db9bb5-4196-490f-9299-6faf74f8f65e",
   "metadata": {
    "tags": []
   },
   "outputs": [],
   "source": [
    "fpath_df.to_csv(raw_fpath_file, index=False)"
   ]
  },
  {
   "cell_type": "code",
   "execution_count": null,
   "id": "6684fdcf-f669-432f-a6f7-348f3a63a839",
   "metadata": {},
   "outputs": [],
   "source": []
  }
 ],
 "metadata": {
  "kernelspec": {
   "display_name": "TB",
   "language": "python",
   "name": "tb"
  },
  "language_info": {
   "codemirror_mode": {
    "name": "ipython",
    "version": 3
   },
   "file_extension": ".py",
   "mimetype": "text/x-python",
   "name": "python",
   "nbconvert_exporter": "python",
   "pygments_lexer": "ipython3",
   "version": "3.10.6"
  },
  "widgets": {
   "application/vnd.jupyter.widget-state+json": {
    "state": {},
    "version_major": 2,
    "version_minor": 0
   }
  }
 },
 "nbformat": 4,
 "nbformat_minor": 5
}
