{
 "cells": [
  {
   "cell_type": "markdown",
   "id": "8d122fa4-39ac-434a-9e41-9e034c193dfd",
   "metadata": {},
   "source": [
    "# Quality Control"
   ]
  },
  {
   "cell_type": "markdown",
   "id": "a6cc7371-6a27-4b47-98a0-5162b0438694",
   "metadata": {},
   "source": [
    "### Requirements\n",
    "- seqkit\n",
    "- seqtk "
   ]
  },
  {
   "cell_type": "code",
   "execution_count": 6,
   "id": "d41c8c49-a23e-4bc2-9332-8fe2c1a24f0b",
   "metadata": {
    "tags": []
   },
   "outputs": [],
   "source": [
    "import os, sys\n",
    "from pathlib import Path\n",
    "\n",
    "import pandas as pd\n",
    "import numpy as np"
   ]
  },
  {
   "cell_type": "code",
   "execution_count": 3,
   "id": "db1dd003-a953-4822-bb9b-499574159a56",
   "metadata": {},
   "outputs": [],
   "source": [
    "# import utils.py\n",
    "currentdir = os.path.dirname(os.path.realpath(__name__))\n",
    "parentdir = os.path.dirname(currentdir)\n",
    "sys.path.append(parentdir)\n",
    "\n",
    "from utils import *"
   ]
  },
  {
   "cell_type": "code",
   "execution_count": 4,
   "id": "307a6414-b268-4400-8d8e-c2af4167a571",
   "metadata": {},
   "outputs": [],
   "source": [
    "config_file = \"config.toml\"\n",
    "config = parse_config(config_file)\n",
    "root_dir = Path(config['root_dir'])"
   ]
  },
  {
   "cell_type": "markdown",
   "id": "fdd37d32-1a37-4d83-a041-1e0e0677255d",
   "metadata": {},
   "source": [
    "### Input"
   ]
  },
  {
   "cell_type": "code",
   "execution_count": 108,
   "id": "f9f3c6c4-e4a9-4484-b036-83e9b7d9f4b0",
   "metadata": {
    "tags": []
   },
   "outputs": [
    {
     "data": {
      "text/plain": [
       "PosixPath('data/raw_fpath.csv')"
      ]
     },
     "execution_count": 108,
     "metadata": {},
     "output_type": "execute_result"
    }
   ],
   "source": [
    "raw_fpath_file = root_dir / 'raw_fpath.csv'\n",
    "raw_fpath_file"
   ]
  },
  {
   "cell_type": "markdown",
   "id": "2ffed0bc-8abb-4581-bc11-1c0e4a011f63",
   "metadata": {},
   "source": [
    "### Onput"
   ]
  },
  {
   "cell_type": "code",
   "execution_count": 110,
   "id": "b1cf8e17-99d9-4a03-a600-f91525bcc5e7",
   "metadata": {
    "tags": []
   },
   "outputs": [
    {
     "data": {
      "text/plain": [
       "PosixPath('data/trimmed_fpath.csv')"
      ]
     },
     "execution_count": 110,
     "metadata": {},
     "output_type": "execute_result"
    }
   ],
   "source": [
    "trimmed_fpath_file = root_dir / 'trimmed_fpath.csv'\n",
    "trimmed_fpath_file"
   ]
  },
  {
   "cell_type": "markdown",
   "id": "cd2c7d7a-d51a-41c5-8bd9-b67893a34fa0",
   "metadata": {},
   "source": [
    "## 1. Load file path"
   ]
  },
  {
   "cell_type": "code",
   "execution_count": 114,
   "id": "1f849384-c242-4975-abab-4cdbd58c5cfd",
   "metadata": {
    "tags": []
   },
   "outputs": [
    {
     "data": {
      "text/html": [
       "<div>\n",
       "<style scoped>\n",
       "    .dataframe tbody tr th:only-of-type {\n",
       "        vertical-align: middle;\n",
       "    }\n",
       "\n",
       "    .dataframe tbody tr th {\n",
       "        vertical-align: top;\n",
       "    }\n",
       "\n",
       "    .dataframe thead th {\n",
       "        text-align: right;\n",
       "    }\n",
       "</style>\n",
       "<table border=\"1\" class=\"dataframe\">\n",
       "  <thead>\n",
       "    <tr style=\"text-align: right;\">\n",
       "      <th></th>\n",
       "      <th>running_id</th>\n",
       "      <th>raw_r1</th>\n",
       "      <th>raw_r2</th>\n",
       "    </tr>\n",
       "  </thead>\n",
       "  <tbody>\n",
       "    <tr>\n",
       "      <th>0</th>\n",
       "      <td>SRR6046075</td>\n",
       "      <td>data/raw/SRR6046075_1.fastq.gz</td>\n",
       "      <td>data/raw/SRR6046075_2.fastq.gz</td>\n",
       "    </tr>\n",
       "    <tr>\n",
       "      <th>1</th>\n",
       "      <td>SRR6046701</td>\n",
       "      <td>data/raw/SRR6046701_1.fastq.gz</td>\n",
       "      <td>data/raw/SRR6046701_2.fastq.gz</td>\n",
       "    </tr>\n",
       "    <tr>\n",
       "      <th>2</th>\n",
       "      <td>SRR6045735</td>\n",
       "      <td>data/raw/SRR6045735_1.fastq.gz</td>\n",
       "      <td>data/raw/SRR6045735_2.fastq.gz</td>\n",
       "    </tr>\n",
       "    <tr>\n",
       "      <th>3</th>\n",
       "      <td>SRR6045327</td>\n",
       "      <td>data/raw/SRR6045327_1.fastq.gz</td>\n",
       "      <td>data/raw/SRR6045327_2.fastq.gz</td>\n",
       "    </tr>\n",
       "    <tr>\n",
       "      <th>4</th>\n",
       "      <td>SRR6045549</td>\n",
       "      <td>data/raw/SRR6045549_1.fastq.gz</td>\n",
       "      <td>data/raw/SRR6045549_2.fastq.gz</td>\n",
       "    </tr>\n",
       "    <tr>\n",
       "      <th>5</th>\n",
       "      <td>SRR6046105</td>\n",
       "      <td>data/raw/SRR6046105_1.fastq.gz</td>\n",
       "      <td>data/raw/SRR6046105_2.fastq.gz</td>\n",
       "    </tr>\n",
       "    <tr>\n",
       "      <th>6</th>\n",
       "      <td>SRR6046861</td>\n",
       "      <td>data/raw/SRR6046861_1.fastq.gz</td>\n",
       "      <td>data/raw/SRR6046861_2.fastq.gz</td>\n",
       "    </tr>\n",
       "    <tr>\n",
       "      <th>7</th>\n",
       "      <td>SRR6044910</td>\n",
       "      <td>data/raw/SRR6044910_1.fastq.gz</td>\n",
       "      <td>data/raw/SRR6044910_2.fastq.gz</td>\n",
       "    </tr>\n",
       "    <tr>\n",
       "      <th>8</th>\n",
       "      <td>SRR6045763</td>\n",
       "      <td>data/raw/SRR6045763_1.fastq.gz</td>\n",
       "      <td>data/raw/SRR6045763_2.fastq.gz</td>\n",
       "    </tr>\n",
       "    <tr>\n",
       "      <th>9</th>\n",
       "      <td>SRR6046306</td>\n",
       "      <td>data/raw/SRR6046306_1.fastq.gz</td>\n",
       "      <td>data/raw/SRR6046306_2.fastq.gz</td>\n",
       "    </tr>\n",
       "  </tbody>\n",
       "</table>\n",
       "</div>"
      ],
      "text/plain": [
       "   running_id                          raw_r1                          raw_r2\n",
       "0  SRR6046075  data/raw/SRR6046075_1.fastq.gz  data/raw/SRR6046075_2.fastq.gz\n",
       "1  SRR6046701  data/raw/SRR6046701_1.fastq.gz  data/raw/SRR6046701_2.fastq.gz\n",
       "2  SRR6045735  data/raw/SRR6045735_1.fastq.gz  data/raw/SRR6045735_2.fastq.gz\n",
       "3  SRR6045327  data/raw/SRR6045327_1.fastq.gz  data/raw/SRR6045327_2.fastq.gz\n",
       "4  SRR6045549  data/raw/SRR6045549_1.fastq.gz  data/raw/SRR6045549_2.fastq.gz\n",
       "5  SRR6046105  data/raw/SRR6046105_1.fastq.gz  data/raw/SRR6046105_2.fastq.gz\n",
       "6  SRR6046861  data/raw/SRR6046861_1.fastq.gz  data/raw/SRR6046861_2.fastq.gz\n",
       "7  SRR6044910  data/raw/SRR6044910_1.fastq.gz  data/raw/SRR6044910_2.fastq.gz\n",
       "8  SRR6045763  data/raw/SRR6045763_1.fastq.gz  data/raw/SRR6045763_2.fastq.gz\n",
       "9  SRR6046306  data/raw/SRR6046306_1.fastq.gz  data/raw/SRR6046306_2.fastq.gz"
      ]
     },
     "execution_count": 114,
     "metadata": {},
     "output_type": "execute_result"
    }
   ],
   "source": [
    "fpath_df = pd.read_csv(raw_fpath_file)\n",
    "fpath_df"
   ]
  },
  {
   "cell_type": "markdown",
   "id": "fec33b09-9a0b-45d5-9b49-bce9f6c63ece",
   "metadata": {},
   "source": [
    "## 2. Encode stat"
   ]
  },
  {
   "cell_type": "markdown",
   "id": "e412d6ac-57b2-401f-86c0-46318d04a4ee",
   "metadata": {},
   "source": [
    "### Bases"
   ]
  },
  {
   "cell_type": "code",
   "execution_count": 72,
   "id": "079b42bf-d24a-4102-8826-8d1412866c06",
   "metadata": {
    "tags": []
   },
   "outputs": [],
   "source": [
    "def get_seqkit_stat(fastq):\n",
    "    cmd = f\"seqkit stat {fastq}\"\n",
    "    output = subprocs(cmd)\n",
    "    data = [line.split() for line in output.stdout.decode().strip().split('\\n')]\n",
    "    if len(data[1]) == 6:\n",
    "        v = [data[1][0], data[1][1], data[1][2], 0, 0, 0, 0.0, 0]\n",
    "        data[1] = v\n",
    "    stat_ser = pd.Series(data[1], index=data[0])\n",
    "    for col in ['num_seqs', 'sum_len', 'min_len', 'max_len']:\n",
    "        stat_ser[col] = int(stat_ser[col].replace(',',''))\n",
    "    for col in ['avg_len']:\n",
    "        stat_ser[col] = float(stat_ser[col].replace(',',''))\n",
    "    return stat_ser\n",
    "\n",
    "def get_paired_fastq_stat(r1_fastq, r2_fastq):\n",
    "    ser1 = get_seqkit_stat(r1_fastq)\n",
    "    ser2 = get_seqkit_stat(r2_fastq)\n",
    "    \n",
    "    num_seqs = ser1['num_seqs'] + ser2['num_seqs']\n",
    "    sum_len = ser1['sum_len'] + ser2['sum_len']\n",
    "    \n",
    "    return num_seqs, sum_len, sum_len / num_seqs"
   ]
  },
  {
   "cell_type": "code",
   "execution_count": 84,
   "id": "dc3fff7c-c368-4aab-9e16-2d2851951198",
   "metadata": {
    "tags": []
   },
   "outputs": [],
   "source": [
    "out, elp = execute_function_pool_args(\n",
    "    get_paired_fastq_stat,\n",
    "    fpath_df[['raw_r1', 'raw_r2']].values,\n",
    "    4,\n",
    ")"
   ]
  },
  {
   "cell_type": "code",
   "execution_count": 85,
   "id": "dde1ccde-512c-458e-9e2b-bcdaccff54ff",
   "metadata": {
    "tags": []
   },
   "outputs": [
    {
     "data": {
      "text/plain": [
       "21.427603244781494"
      ]
     },
     "execution_count": 85,
     "metadata": {},
     "output_type": "execute_result"
    }
   ],
   "source": [
    "elp"
   ]
  },
  {
   "cell_type": "code",
   "execution_count": 87,
   "id": "84561d07-a2c3-4296-98ed-673feb905898",
   "metadata": {
    "tags": []
   },
   "outputs": [
    {
     "data": {
      "text/html": [
       "<div>\n",
       "<style scoped>\n",
       "    .dataframe tbody tr th:only-of-type {\n",
       "        vertical-align: middle;\n",
       "    }\n",
       "\n",
       "    .dataframe tbody tr th {\n",
       "        vertical-align: top;\n",
       "    }\n",
       "\n",
       "    .dataframe thead th {\n",
       "        text-align: right;\n",
       "    }\n",
       "</style>\n",
       "<table border=\"1\" class=\"dataframe\">\n",
       "  <thead>\n",
       "    <tr style=\"text-align: right;\">\n",
       "      <th></th>\n",
       "      <th>num_seqs</th>\n",
       "      <th>sum_len</th>\n",
       "      <th>avg_len</th>\n",
       "    </tr>\n",
       "  </thead>\n",
       "  <tbody>\n",
       "    <tr>\n",
       "      <th>0</th>\n",
       "      <td>2150140</td>\n",
       "      <td>315603941</td>\n",
       "      <td>146.782973</td>\n",
       "    </tr>\n",
       "    <tr>\n",
       "      <th>1</th>\n",
       "      <td>2181260</td>\n",
       "      <td>329370260</td>\n",
       "      <td>151.000000</td>\n",
       "    </tr>\n",
       "    <tr>\n",
       "      <th>2</th>\n",
       "      <td>2730788</td>\n",
       "      <td>412348988</td>\n",
       "      <td>151.000000</td>\n",
       "    </tr>\n",
       "    <tr>\n",
       "      <th>3</th>\n",
       "      <td>2368378</td>\n",
       "      <td>348449021</td>\n",
       "      <td>147.125594</td>\n",
       "    </tr>\n",
       "    <tr>\n",
       "      <th>4</th>\n",
       "      <td>2200232</td>\n",
       "      <td>312069380</td>\n",
       "      <td>141.834761</td>\n",
       "    </tr>\n",
       "    <tr>\n",
       "      <th>5</th>\n",
       "      <td>2739142</td>\n",
       "      <td>397357271</td>\n",
       "      <td>145.066328</td>\n",
       "    </tr>\n",
       "    <tr>\n",
       "      <th>6</th>\n",
       "      <td>2046324</td>\n",
       "      <td>300436707</td>\n",
       "      <td>146.817761</td>\n",
       "    </tr>\n",
       "    <tr>\n",
       "      <th>7</th>\n",
       "      <td>1964346</td>\n",
       "      <td>275329828</td>\n",
       "      <td>140.163611</td>\n",
       "    </tr>\n",
       "    <tr>\n",
       "      <th>8</th>\n",
       "      <td>2311282</td>\n",
       "      <td>344349323</td>\n",
       "      <td>148.986287</td>\n",
       "    </tr>\n",
       "    <tr>\n",
       "      <th>9</th>\n",
       "      <td>2545170</td>\n",
       "      <td>339698387</td>\n",
       "      <td>133.467858</td>\n",
       "    </tr>\n",
       "  </tbody>\n",
       "</table>\n",
       "</div>"
      ],
      "text/plain": [
       "   num_seqs    sum_len     avg_len\n",
       "0   2150140  315603941  146.782973\n",
       "1   2181260  329370260  151.000000\n",
       "2   2730788  412348988  151.000000\n",
       "3   2368378  348449021  147.125594\n",
       "4   2200232  312069380  141.834761\n",
       "5   2739142  397357271  145.066328\n",
       "6   2046324  300436707  146.817761\n",
       "7   1964346  275329828  140.163611\n",
       "8   2311282  344349323  148.986287\n",
       "9   2545170  339698387  133.467858"
      ]
     },
     "execution_count": 87,
     "metadata": {},
     "output_type": "execute_result"
    }
   ],
   "source": [
    "base_stat_df = pd.DataFrame(out, columns = ['num_seqs', 'sum_len', 'avg_len'])\n",
    "base_stat_df"
   ]
  },
  {
   "cell_type": "code",
   "execution_count": 88,
   "id": "2e855f5d-137c-4e39-bf40-e0886c218130",
   "metadata": {
    "tags": []
   },
   "outputs": [
    {
     "name": "stdout",
     "output_type": "stream",
     "text": [
      "file                            format  type   num_seqs      sum_len  min_len  avg_len  max_len\n",
      "data/raw/SRR6046075_1.fastq.gz  FASTQ   DNA   1,075,070  157,706,915        5    146.7      151\n",
      "data/raw/SRR6046075_2.fastq.gz  FASTQ   DNA   1,075,070  157,897,026        5    146.9      151\n"
     ]
    }
   ],
   "source": [
    "!seqkit stat data/raw/SRR6046075_1.fastq.gz data/raw/SRR6046075_2.fastq.gz"
   ]
  },
  {
   "cell_type": "code",
   "execution_count": 89,
   "id": "7618c872-daab-4a53-9027-4c74bcb6c660",
   "metadata": {
    "tags": []
   },
   "outputs": [
    {
     "name": "stdout",
     "output_type": "stream",
     "text": [
      "file                            format  type   num_seqs      sum_len  min_len  avg_len  max_len   Q1   Q2   Q3  sum_gap  N50  Q20(%)  Q30(%)  GC(%)\n",
      "data/raw/SRR6046075_1.fastq.gz  FASTQ   DNA   1,075,070  157,706,915        5    146.7      151  150  151  151        0  151    95.5   93.41  64.84\n",
      "data/raw/SRR6046075_2.fastq.gz  FASTQ   DNA   1,075,070  157,897,026        5    146.9      151  150  151  151        0  151   85.69   80.08  65.27\n"
     ]
    }
   ],
   "source": [
    "!seqkit stat -a data/raw/SRR6046075_1.fastq.gz data/raw/SRR6046075_2.fastq.gz"
   ]
  },
  {
   "cell_type": "markdown",
   "id": "721f2cc4-1497-4eeb-b08b-dca8b5b4e022",
   "metadata": {},
   "source": [
    "### Error rate"
   ]
  },
  {
   "cell_type": "code",
   "execution_count": 90,
   "id": "317f4865-d689-4cfd-b867-cd72582d1bdd",
   "metadata": {
    "tags": []
   },
   "outputs": [],
   "source": [
    "from Bio import SeqIO\n",
    "import math\n",
    "import gzip\n",
    "\n",
    "def cal_error_rate(r1_fastq, r2_fastq):\n",
    "    phred_qual_counts = [0 for _ in range(43)]\n",
    "    for fastq in (r1_fastq, r2_fastq):\n",
    "        with gzip.open(fastq, 'rt') as hdl:\n",
    "            for record in SeqIO.parse(hdl, \"fastq\"):\n",
    "                for q in record.letter_annotations['phred_quality']:\n",
    "                    phred_qual_counts[q] += 1\n",
    "    \n",
    "    err_count = 0\n",
    "    for idx, count in enumerate(phred_qual_counts):\n",
    "        err_count += math.pow(10, idx/(-10)) * count\n",
    "    \n",
    "    return err_count / sum(phred_qual_counts)"
   ]
  },
  {
   "cell_type": "code",
   "execution_count": 91,
   "id": "10abbeb6-a2c4-4147-9cbb-457b2fa03d1b",
   "metadata": {
    "tags": []
   },
   "outputs": [],
   "source": [
    "out, elp = execute_function_pool_args(\n",
    "    cal_error_rate,\n",
    "    fpath_df[['raw_r1', 'raw_r2']].values,\n",
    "    4,\n",
    ")"
   ]
  },
  {
   "cell_type": "code",
   "execution_count": 92,
   "id": "73c871b1-ff14-4a06-8247-46893d1219f0",
   "metadata": {
    "tags": []
   },
   "outputs": [
    {
     "data": {
      "text/plain": [
       "238.63122296333313"
      ]
     },
     "execution_count": 92,
     "metadata": {},
     "output_type": "execute_result"
    }
   ],
   "source": [
    "elp"
   ]
  },
  {
   "cell_type": "code",
   "execution_count": 95,
   "id": "d4568caf-3d48-425e-bb52-d97d2b669b75",
   "metadata": {
    "tags": []
   },
   "outputs": [
    {
     "data": {
      "text/plain": [
       "0    0.004489\n",
       "1    0.002960\n",
       "2    0.004648\n",
       "3    0.003844\n",
       "4    0.004359\n",
       "5    0.007210\n",
       "6    0.005184\n",
       "7    0.002015\n",
       "8    0.011394\n",
       "9    0.004654\n",
       "Name: error_rate, dtype: float64"
      ]
     },
     "execution_count": 95,
     "metadata": {},
     "output_type": "execute_result"
    }
   ],
   "source": [
    "error_rates = pd.Series(out)\n",
    "error_rates.name = 'error_rate'\n",
    "error_rates"
   ]
  },
  {
   "cell_type": "markdown",
   "id": "6061222c-fb8d-45f0-9384-4020e7d4fae6",
   "metadata": {
    "tags": []
   },
   "source": [
    "## 3. FastQC"
   ]
  },
  {
   "cell_type": "markdown",
   "id": "79ee98ce-32c2-41bb-bf9b-a15a88b686c6",
   "metadata": {},
   "source": [
    "showtime"
   ]
  },
  {
   "cell_type": "markdown",
   "id": "27eed1e7-a8d7-46b0-9fbd-a14e6c67ee22",
   "metadata": {
    "tags": []
   },
   "source": [
    "## 4. Trimming"
   ]
  },
  {
   "cell_type": "code",
   "execution_count": 96,
   "id": "07ee5105-eb69-498b-a710-bee7623f4419",
   "metadata": {
    "tags": []
   },
   "outputs": [
    {
     "data": {
      "text/plain": [
       "PosixPath('data/trimmed')"
      ]
     },
     "execution_count": 96,
     "metadata": {},
     "output_type": "execute_result"
    }
   ],
   "source": [
    "trimmed_dir = root_dir / 'trimmed'\n",
    "trimmed_dir.mkdir(exist_ok=True)\n",
    "trimmed_dir"
   ]
  },
  {
   "cell_type": "code",
   "execution_count": 97,
   "id": "eb5ccc2c-b410-4eac-abf3-14e382f9298b",
   "metadata": {
    "tags": []
   },
   "outputs": [],
   "source": [
    "def run_trimming(r1_fastq, r2_fastq):\n",
    "    r1_fastq = Path(r1_fastq)\n",
    "    r2_fastq = Path(r2_fastq)\n",
    "    \n",
    "    trimmed_r1 = trimmed_dir / (r1_fastq.name.split('.')[0]+'_trimmed.fastq.gz')\n",
    "    unpaired_r1 = trimmed_dir / (r1_fastq.name.split('.')[0]+'_unpaired.fastq.gz')\n",
    "    trimmed_r2 = trimmed_dir / (r2_fastq.name.split('.')[0]+'_trimmed.fastq.gz')\n",
    "    unpaired_r2 = trimmed_dir / (r2_fastq.name.split('.')[0]+'_unpaired.fastq.gz')\n",
    "    log_file = trimmed_dir / (r1_fastq.name.split('_1')[0]+'.log')\n",
    "    \n",
    "    if not (\n",
    "        trimmed_r1.exists() &\n",
    "        unpaired_r1.exists() &\n",
    "        trimmed_r2.exists() &\n",
    "        unpaired_r2.exists() &\n",
    "        log_file.exists()\n",
    "    ):\n",
    "        cmd = f\"trimmomatic PE {r1_fastq} {r2_fastq} \\\n",
    "            {trimmed_r1} {unpaired_r1} \\\n",
    "            {trimmed_r2} {unpaired_r2} \\\n",
    "            TRAILING:3 SLIDINGWINDOW:4:15 MINLEN:25 -phred33 2> {log_file}\"\n",
    "        subprocs(cmd)\n",
    "    \n",
    "    return trimmed_r1, unpaired_r1, trimmed_r2, unpaired_r2, log_file"
   ]
  },
  {
   "cell_type": "code",
   "execution_count": 98,
   "id": "d31f28bc-a2e6-47bb-a006-77ab4be8b1d5",
   "metadata": {
    "tags": []
   },
   "outputs": [],
   "source": [
    "out, elp = execute_function_pool_args(\n",
    "    run_trimming,\n",
    "    fpath_df[['raw_r1', 'raw_r2']].values,\n",
    "    4,\n",
    ")"
   ]
  },
  {
   "cell_type": "code",
   "execution_count": 99,
   "id": "df76d01e-9816-4d9e-8a2b-4fe2d7628977",
   "metadata": {
    "tags": []
   },
   "outputs": [
    {
     "data": {
      "text/plain": [
       "354.85028409957886"
      ]
     },
     "execution_count": 99,
     "metadata": {},
     "output_type": "execute_result"
    }
   ],
   "source": [
    "# elp\n",
    "354.85028409957886"
   ]
  },
  {
   "cell_type": "code",
   "execution_count": 100,
   "id": "5bbd8fd1-dd58-4f91-88d0-4948cc174f91",
   "metadata": {
    "tags": []
   },
   "outputs": [
    {
     "data": {
      "text/html": [
       "<div>\n",
       "<style scoped>\n",
       "    .dataframe tbody tr th:only-of-type {\n",
       "        vertical-align: middle;\n",
       "    }\n",
       "\n",
       "    .dataframe tbody tr th {\n",
       "        vertical-align: top;\n",
       "    }\n",
       "\n",
       "    .dataframe thead th {\n",
       "        text-align: right;\n",
       "    }\n",
       "</style>\n",
       "<table border=\"1\" class=\"dataframe\">\n",
       "  <thead>\n",
       "    <tr style=\"text-align: right;\">\n",
       "      <th></th>\n",
       "      <th>trimmed_r1</th>\n",
       "      <th>unpaired_r1</th>\n",
       "      <th>trimmed_r2</th>\n",
       "      <th>unpaired_r2</th>\n",
       "      <th>trimmomatic_log</th>\n",
       "    </tr>\n",
       "  </thead>\n",
       "  <tbody>\n",
       "    <tr>\n",
       "      <th>0</th>\n",
       "      <td>data/trimmed/SRR6046075_1_trimmed.fastq.gz</td>\n",
       "      <td>data/trimmed/SRR6046075_1_unpaired.fastq.gz</td>\n",
       "      <td>data/trimmed/SRR6046075_2_trimmed.fastq.gz</td>\n",
       "      <td>data/trimmed/SRR6046075_2_unpaired.fastq.gz</td>\n",
       "      <td>data/trimmed/SRR6046075.log</td>\n",
       "    </tr>\n",
       "    <tr>\n",
       "      <th>1</th>\n",
       "      <td>data/trimmed/SRR6046701_1_trimmed.fastq.gz</td>\n",
       "      <td>data/trimmed/SRR6046701_1_unpaired.fastq.gz</td>\n",
       "      <td>data/trimmed/SRR6046701_2_trimmed.fastq.gz</td>\n",
       "      <td>data/trimmed/SRR6046701_2_unpaired.fastq.gz</td>\n",
       "      <td>data/trimmed/SRR6046701.log</td>\n",
       "    </tr>\n",
       "    <tr>\n",
       "      <th>2</th>\n",
       "      <td>data/trimmed/SRR6045735_1_trimmed.fastq.gz</td>\n",
       "      <td>data/trimmed/SRR6045735_1_unpaired.fastq.gz</td>\n",
       "      <td>data/trimmed/SRR6045735_2_trimmed.fastq.gz</td>\n",
       "      <td>data/trimmed/SRR6045735_2_unpaired.fastq.gz</td>\n",
       "      <td>data/trimmed/SRR6045735.log</td>\n",
       "    </tr>\n",
       "    <tr>\n",
       "      <th>3</th>\n",
       "      <td>data/trimmed/SRR6045327_1_trimmed.fastq.gz</td>\n",
       "      <td>data/trimmed/SRR6045327_1_unpaired.fastq.gz</td>\n",
       "      <td>data/trimmed/SRR6045327_2_trimmed.fastq.gz</td>\n",
       "      <td>data/trimmed/SRR6045327_2_unpaired.fastq.gz</td>\n",
       "      <td>data/trimmed/SRR6045327.log</td>\n",
       "    </tr>\n",
       "    <tr>\n",
       "      <th>4</th>\n",
       "      <td>data/trimmed/SRR6045549_1_trimmed.fastq.gz</td>\n",
       "      <td>data/trimmed/SRR6045549_1_unpaired.fastq.gz</td>\n",
       "      <td>data/trimmed/SRR6045549_2_trimmed.fastq.gz</td>\n",
       "      <td>data/trimmed/SRR6045549_2_unpaired.fastq.gz</td>\n",
       "      <td>data/trimmed/SRR6045549.log</td>\n",
       "    </tr>\n",
       "    <tr>\n",
       "      <th>5</th>\n",
       "      <td>data/trimmed/SRR6046105_1_trimmed.fastq.gz</td>\n",
       "      <td>data/trimmed/SRR6046105_1_unpaired.fastq.gz</td>\n",
       "      <td>data/trimmed/SRR6046105_2_trimmed.fastq.gz</td>\n",
       "      <td>data/trimmed/SRR6046105_2_unpaired.fastq.gz</td>\n",
       "      <td>data/trimmed/SRR6046105.log</td>\n",
       "    </tr>\n",
       "    <tr>\n",
       "      <th>6</th>\n",
       "      <td>data/trimmed/SRR6046861_1_trimmed.fastq.gz</td>\n",
       "      <td>data/trimmed/SRR6046861_1_unpaired.fastq.gz</td>\n",
       "      <td>data/trimmed/SRR6046861_2_trimmed.fastq.gz</td>\n",
       "      <td>data/trimmed/SRR6046861_2_unpaired.fastq.gz</td>\n",
       "      <td>data/trimmed/SRR6046861.log</td>\n",
       "    </tr>\n",
       "    <tr>\n",
       "      <th>7</th>\n",
       "      <td>data/trimmed/SRR6044910_1_trimmed.fastq.gz</td>\n",
       "      <td>data/trimmed/SRR6044910_1_unpaired.fastq.gz</td>\n",
       "      <td>data/trimmed/SRR6044910_2_trimmed.fastq.gz</td>\n",
       "      <td>data/trimmed/SRR6044910_2_unpaired.fastq.gz</td>\n",
       "      <td>data/trimmed/SRR6044910.log</td>\n",
       "    </tr>\n",
       "    <tr>\n",
       "      <th>8</th>\n",
       "      <td>data/trimmed/SRR6045763_1_trimmed.fastq.gz</td>\n",
       "      <td>data/trimmed/SRR6045763_1_unpaired.fastq.gz</td>\n",
       "      <td>data/trimmed/SRR6045763_2_trimmed.fastq.gz</td>\n",
       "      <td>data/trimmed/SRR6045763_2_unpaired.fastq.gz</td>\n",
       "      <td>data/trimmed/SRR6045763.log</td>\n",
       "    </tr>\n",
       "    <tr>\n",
       "      <th>9</th>\n",
       "      <td>data/trimmed/SRR6046306_1_trimmed.fastq.gz</td>\n",
       "      <td>data/trimmed/SRR6046306_1_unpaired.fastq.gz</td>\n",
       "      <td>data/trimmed/SRR6046306_2_trimmed.fastq.gz</td>\n",
       "      <td>data/trimmed/SRR6046306_2_unpaired.fastq.gz</td>\n",
       "      <td>data/trimmed/SRR6046306.log</td>\n",
       "    </tr>\n",
       "  </tbody>\n",
       "</table>\n",
       "</div>"
      ],
      "text/plain": [
       "                                   trimmed_r1  \\\n",
       "0  data/trimmed/SRR6046075_1_trimmed.fastq.gz   \n",
       "1  data/trimmed/SRR6046701_1_trimmed.fastq.gz   \n",
       "2  data/trimmed/SRR6045735_1_trimmed.fastq.gz   \n",
       "3  data/trimmed/SRR6045327_1_trimmed.fastq.gz   \n",
       "4  data/trimmed/SRR6045549_1_trimmed.fastq.gz   \n",
       "5  data/trimmed/SRR6046105_1_trimmed.fastq.gz   \n",
       "6  data/trimmed/SRR6046861_1_trimmed.fastq.gz   \n",
       "7  data/trimmed/SRR6044910_1_trimmed.fastq.gz   \n",
       "8  data/trimmed/SRR6045763_1_trimmed.fastq.gz   \n",
       "9  data/trimmed/SRR6046306_1_trimmed.fastq.gz   \n",
       "\n",
       "                                   unpaired_r1  \\\n",
       "0  data/trimmed/SRR6046075_1_unpaired.fastq.gz   \n",
       "1  data/trimmed/SRR6046701_1_unpaired.fastq.gz   \n",
       "2  data/trimmed/SRR6045735_1_unpaired.fastq.gz   \n",
       "3  data/trimmed/SRR6045327_1_unpaired.fastq.gz   \n",
       "4  data/trimmed/SRR6045549_1_unpaired.fastq.gz   \n",
       "5  data/trimmed/SRR6046105_1_unpaired.fastq.gz   \n",
       "6  data/trimmed/SRR6046861_1_unpaired.fastq.gz   \n",
       "7  data/trimmed/SRR6044910_1_unpaired.fastq.gz   \n",
       "8  data/trimmed/SRR6045763_1_unpaired.fastq.gz   \n",
       "9  data/trimmed/SRR6046306_1_unpaired.fastq.gz   \n",
       "\n",
       "                                   trimmed_r2  \\\n",
       "0  data/trimmed/SRR6046075_2_trimmed.fastq.gz   \n",
       "1  data/trimmed/SRR6046701_2_trimmed.fastq.gz   \n",
       "2  data/trimmed/SRR6045735_2_trimmed.fastq.gz   \n",
       "3  data/trimmed/SRR6045327_2_trimmed.fastq.gz   \n",
       "4  data/trimmed/SRR6045549_2_trimmed.fastq.gz   \n",
       "5  data/trimmed/SRR6046105_2_trimmed.fastq.gz   \n",
       "6  data/trimmed/SRR6046861_2_trimmed.fastq.gz   \n",
       "7  data/trimmed/SRR6044910_2_trimmed.fastq.gz   \n",
       "8  data/trimmed/SRR6045763_2_trimmed.fastq.gz   \n",
       "9  data/trimmed/SRR6046306_2_trimmed.fastq.gz   \n",
       "\n",
       "                                   unpaired_r2              trimmomatic_log  \n",
       "0  data/trimmed/SRR6046075_2_unpaired.fastq.gz  data/trimmed/SRR6046075.log  \n",
       "1  data/trimmed/SRR6046701_2_unpaired.fastq.gz  data/trimmed/SRR6046701.log  \n",
       "2  data/trimmed/SRR6045735_2_unpaired.fastq.gz  data/trimmed/SRR6045735.log  \n",
       "3  data/trimmed/SRR6045327_2_unpaired.fastq.gz  data/trimmed/SRR6045327.log  \n",
       "4  data/trimmed/SRR6045549_2_unpaired.fastq.gz  data/trimmed/SRR6045549.log  \n",
       "5  data/trimmed/SRR6046105_2_unpaired.fastq.gz  data/trimmed/SRR6046105.log  \n",
       "6  data/trimmed/SRR6046861_2_unpaired.fastq.gz  data/trimmed/SRR6046861.log  \n",
       "7  data/trimmed/SRR6044910_2_unpaired.fastq.gz  data/trimmed/SRR6044910.log  \n",
       "8  data/trimmed/SRR6045763_2_unpaired.fastq.gz  data/trimmed/SRR6045763.log  \n",
       "9  data/trimmed/SRR6046306_2_unpaired.fastq.gz  data/trimmed/SRR6046306.log  "
      ]
     },
     "execution_count": 100,
     "metadata": {},
     "output_type": "execute_result"
    }
   ],
   "source": [
    "trimmed_fpath_df = pd.DataFrame(out, columns=['trimmed_r1', 'unpaired_r1', 'trimmed_r2', 'unpaired_r2', 'trimmomatic_log'])\n",
    "trimmed_fpath_df"
   ]
  },
  {
   "cell_type": "markdown",
   "id": "9287015f-97eb-462e-8e22-ecb4bd63093b",
   "metadata": {},
   "source": [
    "## 5. Merge and save"
   ]
  },
  {
   "cell_type": "code",
   "execution_count": 115,
   "id": "a8351263-d553-4d88-aed7-36f82f20e644",
   "metadata": {
    "tags": []
   },
   "outputs": [
    {
     "data": {
      "text/html": [
       "<div>\n",
       "<style scoped>\n",
       "    .dataframe tbody tr th:only-of-type {\n",
       "        vertical-align: middle;\n",
       "    }\n",
       "\n",
       "    .dataframe tbody tr th {\n",
       "        vertical-align: top;\n",
       "    }\n",
       "\n",
       "    .dataframe thead th {\n",
       "        text-align: right;\n",
       "    }\n",
       "</style>\n",
       "<table border=\"1\" class=\"dataframe\">\n",
       "  <thead>\n",
       "    <tr style=\"text-align: right;\">\n",
       "      <th></th>\n",
       "      <th>running_id</th>\n",
       "      <th>raw_r1</th>\n",
       "      <th>raw_r2</th>\n",
       "      <th>num_seqs</th>\n",
       "      <th>sum_len</th>\n",
       "      <th>avg_len</th>\n",
       "      <th>error_rate</th>\n",
       "      <th>trimmed_r1</th>\n",
       "      <th>unpaired_r1</th>\n",
       "      <th>trimmed_r2</th>\n",
       "      <th>unpaired_r2</th>\n",
       "      <th>trimmomatic_log</th>\n",
       "    </tr>\n",
       "  </thead>\n",
       "  <tbody>\n",
       "    <tr>\n",
       "      <th>0</th>\n",
       "      <td>SRR6046075</td>\n",
       "      <td>data/raw/SRR6046075_1.fastq.gz</td>\n",
       "      <td>data/raw/SRR6046075_2.fastq.gz</td>\n",
       "      <td>2150140</td>\n",
       "      <td>315603941</td>\n",
       "      <td>146.782973</td>\n",
       "      <td>0.004489</td>\n",
       "      <td>data/trimmed/SRR6046075_1_trimmed.fastq.gz</td>\n",
       "      <td>data/trimmed/SRR6046075_1_unpaired.fastq.gz</td>\n",
       "      <td>data/trimmed/SRR6046075_2_trimmed.fastq.gz</td>\n",
       "      <td>data/trimmed/SRR6046075_2_unpaired.fastq.gz</td>\n",
       "      <td>data/trimmed/SRR6046075.log</td>\n",
       "    </tr>\n",
       "    <tr>\n",
       "      <th>1</th>\n",
       "      <td>SRR6046701</td>\n",
       "      <td>data/raw/SRR6046701_1.fastq.gz</td>\n",
       "      <td>data/raw/SRR6046701_2.fastq.gz</td>\n",
       "      <td>2181260</td>\n",
       "      <td>329370260</td>\n",
       "      <td>151.000000</td>\n",
       "      <td>0.002960</td>\n",
       "      <td>data/trimmed/SRR6046701_1_trimmed.fastq.gz</td>\n",
       "      <td>data/trimmed/SRR6046701_1_unpaired.fastq.gz</td>\n",
       "      <td>data/trimmed/SRR6046701_2_trimmed.fastq.gz</td>\n",
       "      <td>data/trimmed/SRR6046701_2_unpaired.fastq.gz</td>\n",
       "      <td>data/trimmed/SRR6046701.log</td>\n",
       "    </tr>\n",
       "    <tr>\n",
       "      <th>2</th>\n",
       "      <td>SRR6045735</td>\n",
       "      <td>data/raw/SRR6045735_1.fastq.gz</td>\n",
       "      <td>data/raw/SRR6045735_2.fastq.gz</td>\n",
       "      <td>2730788</td>\n",
       "      <td>412348988</td>\n",
       "      <td>151.000000</td>\n",
       "      <td>0.004648</td>\n",
       "      <td>data/trimmed/SRR6045735_1_trimmed.fastq.gz</td>\n",
       "      <td>data/trimmed/SRR6045735_1_unpaired.fastq.gz</td>\n",
       "      <td>data/trimmed/SRR6045735_2_trimmed.fastq.gz</td>\n",
       "      <td>data/trimmed/SRR6045735_2_unpaired.fastq.gz</td>\n",
       "      <td>data/trimmed/SRR6045735.log</td>\n",
       "    </tr>\n",
       "    <tr>\n",
       "      <th>3</th>\n",
       "      <td>SRR6045327</td>\n",
       "      <td>data/raw/SRR6045327_1.fastq.gz</td>\n",
       "      <td>data/raw/SRR6045327_2.fastq.gz</td>\n",
       "      <td>2368378</td>\n",
       "      <td>348449021</td>\n",
       "      <td>147.125594</td>\n",
       "      <td>0.003844</td>\n",
       "      <td>data/trimmed/SRR6045327_1_trimmed.fastq.gz</td>\n",
       "      <td>data/trimmed/SRR6045327_1_unpaired.fastq.gz</td>\n",
       "      <td>data/trimmed/SRR6045327_2_trimmed.fastq.gz</td>\n",
       "      <td>data/trimmed/SRR6045327_2_unpaired.fastq.gz</td>\n",
       "      <td>data/trimmed/SRR6045327.log</td>\n",
       "    </tr>\n",
       "    <tr>\n",
       "      <th>4</th>\n",
       "      <td>SRR6045549</td>\n",
       "      <td>data/raw/SRR6045549_1.fastq.gz</td>\n",
       "      <td>data/raw/SRR6045549_2.fastq.gz</td>\n",
       "      <td>2200232</td>\n",
       "      <td>312069380</td>\n",
       "      <td>141.834761</td>\n",
       "      <td>0.004359</td>\n",
       "      <td>data/trimmed/SRR6045549_1_trimmed.fastq.gz</td>\n",
       "      <td>data/trimmed/SRR6045549_1_unpaired.fastq.gz</td>\n",
       "      <td>data/trimmed/SRR6045549_2_trimmed.fastq.gz</td>\n",
       "      <td>data/trimmed/SRR6045549_2_unpaired.fastq.gz</td>\n",
       "      <td>data/trimmed/SRR6045549.log</td>\n",
       "    </tr>\n",
       "    <tr>\n",
       "      <th>5</th>\n",
       "      <td>SRR6046105</td>\n",
       "      <td>data/raw/SRR6046105_1.fastq.gz</td>\n",
       "      <td>data/raw/SRR6046105_2.fastq.gz</td>\n",
       "      <td>2739142</td>\n",
       "      <td>397357271</td>\n",
       "      <td>145.066328</td>\n",
       "      <td>0.007210</td>\n",
       "      <td>data/trimmed/SRR6046105_1_trimmed.fastq.gz</td>\n",
       "      <td>data/trimmed/SRR6046105_1_unpaired.fastq.gz</td>\n",
       "      <td>data/trimmed/SRR6046105_2_trimmed.fastq.gz</td>\n",
       "      <td>data/trimmed/SRR6046105_2_unpaired.fastq.gz</td>\n",
       "      <td>data/trimmed/SRR6046105.log</td>\n",
       "    </tr>\n",
       "    <tr>\n",
       "      <th>6</th>\n",
       "      <td>SRR6046861</td>\n",
       "      <td>data/raw/SRR6046861_1.fastq.gz</td>\n",
       "      <td>data/raw/SRR6046861_2.fastq.gz</td>\n",
       "      <td>2046324</td>\n",
       "      <td>300436707</td>\n",
       "      <td>146.817761</td>\n",
       "      <td>0.005184</td>\n",
       "      <td>data/trimmed/SRR6046861_1_trimmed.fastq.gz</td>\n",
       "      <td>data/trimmed/SRR6046861_1_unpaired.fastq.gz</td>\n",
       "      <td>data/trimmed/SRR6046861_2_trimmed.fastq.gz</td>\n",
       "      <td>data/trimmed/SRR6046861_2_unpaired.fastq.gz</td>\n",
       "      <td>data/trimmed/SRR6046861.log</td>\n",
       "    </tr>\n",
       "    <tr>\n",
       "      <th>7</th>\n",
       "      <td>SRR6044910</td>\n",
       "      <td>data/raw/SRR6044910_1.fastq.gz</td>\n",
       "      <td>data/raw/SRR6044910_2.fastq.gz</td>\n",
       "      <td>1964346</td>\n",
       "      <td>275329828</td>\n",
       "      <td>140.163611</td>\n",
       "      <td>0.002015</td>\n",
       "      <td>data/trimmed/SRR6044910_1_trimmed.fastq.gz</td>\n",
       "      <td>data/trimmed/SRR6044910_1_unpaired.fastq.gz</td>\n",
       "      <td>data/trimmed/SRR6044910_2_trimmed.fastq.gz</td>\n",
       "      <td>data/trimmed/SRR6044910_2_unpaired.fastq.gz</td>\n",
       "      <td>data/trimmed/SRR6044910.log</td>\n",
       "    </tr>\n",
       "    <tr>\n",
       "      <th>8</th>\n",
       "      <td>SRR6045763</td>\n",
       "      <td>data/raw/SRR6045763_1.fastq.gz</td>\n",
       "      <td>data/raw/SRR6045763_2.fastq.gz</td>\n",
       "      <td>2311282</td>\n",
       "      <td>344349323</td>\n",
       "      <td>148.986287</td>\n",
       "      <td>0.011394</td>\n",
       "      <td>data/trimmed/SRR6045763_1_trimmed.fastq.gz</td>\n",
       "      <td>data/trimmed/SRR6045763_1_unpaired.fastq.gz</td>\n",
       "      <td>data/trimmed/SRR6045763_2_trimmed.fastq.gz</td>\n",
       "      <td>data/trimmed/SRR6045763_2_unpaired.fastq.gz</td>\n",
       "      <td>data/trimmed/SRR6045763.log</td>\n",
       "    </tr>\n",
       "    <tr>\n",
       "      <th>9</th>\n",
       "      <td>SRR6046306</td>\n",
       "      <td>data/raw/SRR6046306_1.fastq.gz</td>\n",
       "      <td>data/raw/SRR6046306_2.fastq.gz</td>\n",
       "      <td>2545170</td>\n",
       "      <td>339698387</td>\n",
       "      <td>133.467858</td>\n",
       "      <td>0.004654</td>\n",
       "      <td>data/trimmed/SRR6046306_1_trimmed.fastq.gz</td>\n",
       "      <td>data/trimmed/SRR6046306_1_unpaired.fastq.gz</td>\n",
       "      <td>data/trimmed/SRR6046306_2_trimmed.fastq.gz</td>\n",
       "      <td>data/trimmed/SRR6046306_2_unpaired.fastq.gz</td>\n",
       "      <td>data/trimmed/SRR6046306.log</td>\n",
       "    </tr>\n",
       "  </tbody>\n",
       "</table>\n",
       "</div>"
      ],
      "text/plain": [
       "   running_id                          raw_r1                          raw_r2  \\\n",
       "0  SRR6046075  data/raw/SRR6046075_1.fastq.gz  data/raw/SRR6046075_2.fastq.gz   \n",
       "1  SRR6046701  data/raw/SRR6046701_1.fastq.gz  data/raw/SRR6046701_2.fastq.gz   \n",
       "2  SRR6045735  data/raw/SRR6045735_1.fastq.gz  data/raw/SRR6045735_2.fastq.gz   \n",
       "3  SRR6045327  data/raw/SRR6045327_1.fastq.gz  data/raw/SRR6045327_2.fastq.gz   \n",
       "4  SRR6045549  data/raw/SRR6045549_1.fastq.gz  data/raw/SRR6045549_2.fastq.gz   \n",
       "5  SRR6046105  data/raw/SRR6046105_1.fastq.gz  data/raw/SRR6046105_2.fastq.gz   \n",
       "6  SRR6046861  data/raw/SRR6046861_1.fastq.gz  data/raw/SRR6046861_2.fastq.gz   \n",
       "7  SRR6044910  data/raw/SRR6044910_1.fastq.gz  data/raw/SRR6044910_2.fastq.gz   \n",
       "8  SRR6045763  data/raw/SRR6045763_1.fastq.gz  data/raw/SRR6045763_2.fastq.gz   \n",
       "9  SRR6046306  data/raw/SRR6046306_1.fastq.gz  data/raw/SRR6046306_2.fastq.gz   \n",
       "\n",
       "   num_seqs    sum_len     avg_len  error_rate  \\\n",
       "0   2150140  315603941  146.782973    0.004489   \n",
       "1   2181260  329370260  151.000000    0.002960   \n",
       "2   2730788  412348988  151.000000    0.004648   \n",
       "3   2368378  348449021  147.125594    0.003844   \n",
       "4   2200232  312069380  141.834761    0.004359   \n",
       "5   2739142  397357271  145.066328    0.007210   \n",
       "6   2046324  300436707  146.817761    0.005184   \n",
       "7   1964346  275329828  140.163611    0.002015   \n",
       "8   2311282  344349323  148.986287    0.011394   \n",
       "9   2545170  339698387  133.467858    0.004654   \n",
       "\n",
       "                                   trimmed_r1  \\\n",
       "0  data/trimmed/SRR6046075_1_trimmed.fastq.gz   \n",
       "1  data/trimmed/SRR6046701_1_trimmed.fastq.gz   \n",
       "2  data/trimmed/SRR6045735_1_trimmed.fastq.gz   \n",
       "3  data/trimmed/SRR6045327_1_trimmed.fastq.gz   \n",
       "4  data/trimmed/SRR6045549_1_trimmed.fastq.gz   \n",
       "5  data/trimmed/SRR6046105_1_trimmed.fastq.gz   \n",
       "6  data/trimmed/SRR6046861_1_trimmed.fastq.gz   \n",
       "7  data/trimmed/SRR6044910_1_trimmed.fastq.gz   \n",
       "8  data/trimmed/SRR6045763_1_trimmed.fastq.gz   \n",
       "9  data/trimmed/SRR6046306_1_trimmed.fastq.gz   \n",
       "\n",
       "                                   unpaired_r1  \\\n",
       "0  data/trimmed/SRR6046075_1_unpaired.fastq.gz   \n",
       "1  data/trimmed/SRR6046701_1_unpaired.fastq.gz   \n",
       "2  data/trimmed/SRR6045735_1_unpaired.fastq.gz   \n",
       "3  data/trimmed/SRR6045327_1_unpaired.fastq.gz   \n",
       "4  data/trimmed/SRR6045549_1_unpaired.fastq.gz   \n",
       "5  data/trimmed/SRR6046105_1_unpaired.fastq.gz   \n",
       "6  data/trimmed/SRR6046861_1_unpaired.fastq.gz   \n",
       "7  data/trimmed/SRR6044910_1_unpaired.fastq.gz   \n",
       "8  data/trimmed/SRR6045763_1_unpaired.fastq.gz   \n",
       "9  data/trimmed/SRR6046306_1_unpaired.fastq.gz   \n",
       "\n",
       "                                   trimmed_r2  \\\n",
       "0  data/trimmed/SRR6046075_2_trimmed.fastq.gz   \n",
       "1  data/trimmed/SRR6046701_2_trimmed.fastq.gz   \n",
       "2  data/trimmed/SRR6045735_2_trimmed.fastq.gz   \n",
       "3  data/trimmed/SRR6045327_2_trimmed.fastq.gz   \n",
       "4  data/trimmed/SRR6045549_2_trimmed.fastq.gz   \n",
       "5  data/trimmed/SRR6046105_2_trimmed.fastq.gz   \n",
       "6  data/trimmed/SRR6046861_2_trimmed.fastq.gz   \n",
       "7  data/trimmed/SRR6044910_2_trimmed.fastq.gz   \n",
       "8  data/trimmed/SRR6045763_2_trimmed.fastq.gz   \n",
       "9  data/trimmed/SRR6046306_2_trimmed.fastq.gz   \n",
       "\n",
       "                                   unpaired_r2              trimmomatic_log  \n",
       "0  data/trimmed/SRR6046075_2_unpaired.fastq.gz  data/trimmed/SRR6046075.log  \n",
       "1  data/trimmed/SRR6046701_2_unpaired.fastq.gz  data/trimmed/SRR6046701.log  \n",
       "2  data/trimmed/SRR6045735_2_unpaired.fastq.gz  data/trimmed/SRR6045735.log  \n",
       "3  data/trimmed/SRR6045327_2_unpaired.fastq.gz  data/trimmed/SRR6045327.log  \n",
       "4  data/trimmed/SRR6045549_2_unpaired.fastq.gz  data/trimmed/SRR6045549.log  \n",
       "5  data/trimmed/SRR6046105_2_unpaired.fastq.gz  data/trimmed/SRR6046105.log  \n",
       "6  data/trimmed/SRR6046861_2_unpaired.fastq.gz  data/trimmed/SRR6046861.log  \n",
       "7  data/trimmed/SRR6044910_2_unpaired.fastq.gz  data/trimmed/SRR6044910.log  \n",
       "8  data/trimmed/SRR6045763_2_unpaired.fastq.gz  data/trimmed/SRR6045763.log  \n",
       "9  data/trimmed/SRR6046306_2_unpaired.fastq.gz  data/trimmed/SRR6046306.log  "
      ]
     },
     "execution_count": 115,
     "metadata": {},
     "output_type": "execute_result"
    }
   ],
   "source": [
    "new_fpath_df = pd.concat([\n",
    "    fpath_df,\n",
    "    base_stat_df,\n",
    "    error_rates,\n",
    "    trimmed_fpath_df,\n",
    "], axis=1)\n",
    "new_fpath_df"
   ]
  },
  {
   "cell_type": "code",
   "execution_count": 116,
   "id": "3f1d58f4-0d92-426c-9c1a-a23de07dd7ed",
   "metadata": {
    "tags": []
   },
   "outputs": [],
   "source": [
    "new_fpath_df.to_csv(trimmed_fpath_file, index=False)"
   ]
  },
  {
   "cell_type": "code",
   "execution_count": null,
   "id": "f8c0f48b-8262-4fb3-b456-6bfd2b0d1b3c",
   "metadata": {},
   "outputs": [],
   "source": []
  },
  {
   "cell_type": "code",
   "execution_count": null,
   "id": "19bb2805-6fa9-414d-8935-8f8cc435b14e",
   "metadata": {},
   "outputs": [],
   "source": []
  },
  {
   "cell_type": "code",
   "execution_count": null,
   "id": "fcb8de40-166c-46d1-8646-f052fe7f8235",
   "metadata": {},
   "outputs": [],
   "source": []
  },
  {
   "cell_type": "code",
   "execution_count": null,
   "id": "f1e6c7f3-8c9b-44da-a9b6-dab846d1d463",
   "metadata": {},
   "outputs": [],
   "source": []
  },
  {
   "cell_type": "code",
   "execution_count": null,
   "id": "21b24311-8149-42ff-8766-dc4ff09ccade",
   "metadata": {},
   "outputs": [],
   "source": []
  },
  {
   "cell_type": "code",
   "execution_count": null,
   "id": "c7b52a96-1fb1-481c-bb1f-f4dffb4e402a",
   "metadata": {},
   "outputs": [],
   "source": []
  },
  {
   "cell_type": "code",
   "execution_count": 37,
   "id": "0d3776fe-bdc0-44ea-8f11-ece919f1870f",
   "metadata": {
    "tags": []
   },
   "outputs": [
    {
     "data": {
      "text/plain": [
       "'vsearch --fastq_chars data/raw/SRR6046075_1.fastq.gz'"
      ]
     },
     "execution_count": 37,
     "metadata": {},
     "output_type": "execute_result"
    }
   ],
   "source": [
    "cmd = f\"vsearch --fastq_chars {fpath_df['r1'][0]}\"\n",
    "cmd"
   ]
  },
  {
   "cell_type": "code",
   "execution_count": 39,
   "id": "67c80455-2071-4310-870a-26fbf9c4d156",
   "metadata": {
    "tags": []
   },
   "outputs": [],
   "source": [
    "out = subprocs(cmd)"
   ]
  },
  {
   "cell_type": "code",
   "execution_count": 40,
   "id": "4119c58c-4fb6-42fa-9b46-d4ad365660d7",
   "metadata": {
    "tags": []
   },
   "outputs": [
    {
     "data": {
      "text/plain": [
       "CompletedProcess(args='vsearch --fastq_chars data/raw/SRR6046075_1.fastq.gz', returncode=127, stdout=b'', stderr=b'/bin/sh: 1: vsearch: not found\\n')"
      ]
     },
     "execution_count": 40,
     "metadata": {},
     "output_type": "execute_result"
    }
   ],
   "source": [
    "out"
   ]
  },
  {
   "cell_type": "code",
   "execution_count": 43,
   "id": "879d5c05-7711-47ce-a545-0e1fc23ebaed",
   "metadata": {},
   "outputs": [
    {
     "name": "stdout",
     "output_type": "stream",
     "text": [
      "vsearch v2.21.1_linux_x86_64, 251.8GB RAM, 56 cores\n",
      "https://github.com/torognes/vsearch\n",
      "\n",
      "Reading FASTQ file 100%\n",
      "Read 67766 sequences.\n",
      "Qmin 33, QMax 73, Range 41\n",
      "Guess: -fastq_qmin 0 -fastq_qmax 40 -fastq_ascii 33\n",
      "Guess: Original Sanger format (phred+33)\n",
      "\n",
      "Letter          N   Freq MaxRun\n",
      "------ ---------- ------ ------\n",
      "     A    1728398  23.2%     48\n",
      "     C    1964634  26.4%     17\n",
      "     G    1903135  25.6%     26\n",
      "     N     103288   1.4%     34  Q=!\n",
      "     T    1749014  23.5%     60\n",
      "\n",
      "Char  ASCII    Freq       Tails\n",
      "----  -----  ------  ----------\n",
      " '!'     33    1.4%        2963\n",
      " '-'     45    0.8%         166\n",
      " '.'     46    0.5%          48\n",
      " '/'     47    1.7%          94\n",
      " '0'     48    1.2%          52\n",
      " '1'     49    2.3%          61\n",
      " '2'     50    0.9%          24\n",
      " '3'     51    0.8%           6\n",
      " '4'     52    0.3%           6\n",
      " '5'     53    0.4%           1\n",
      " '6'     54    0.0%           0\n",
      " '9'     57    0.3%           1\n",
      " ':'     58    0.1%           0\n",
      " ';'     59    0.3%           0\n",
      " '<'     60    0.4%           2\n",
      " '='     61    0.1%           0\n",
      " '>'     62    0.6%           0\n",
      " '?'     63    1.0%           3\n",
      " '@'     64    0.8%          16\n",
      " 'A'     65    3.4%           2\n",
      " 'B'     66    4.6%          49\n",
      " 'C'     67    3.5%           5\n",
      " 'D'     68    2.1%           1\n",
      " 'E'     69    3.7%          12\n",
      " 'F'     70   13.9%        4233\n",
      " 'G'     71   25.5%        2180\n",
      " 'H'     72   29.2%        8657\n",
      " 'I'     73    0.2%           2\n",
      "\n"
     ]
    }
   ],
   "source": [
    "print(out.stderr.decode())"
   ]
  }
 ],
 "metadata": {
  "kernelspec": {
   "display_name": "TB",
   "language": "python",
   "name": "tb"
  },
  "language_info": {
   "codemirror_mode": {
    "name": "ipython",
    "version": 3
   },
   "file_extension": ".py",
   "mimetype": "text/x-python",
   "name": "python",
   "nbconvert_exporter": "python",
   "pygments_lexer": "ipython3",
   "version": "3.10.6"
  }
 },
 "nbformat": 4,
 "nbformat_minor": 5
}
