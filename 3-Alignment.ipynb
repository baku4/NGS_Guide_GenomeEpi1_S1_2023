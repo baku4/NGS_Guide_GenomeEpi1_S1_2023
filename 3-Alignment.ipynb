{
 "cells": [
  {
   "cell_type": "markdown",
   "id": "8d122fa4-39ac-434a-9e41-9e034c193dfd",
   "metadata": {},
   "source": [
    "# Alignment"
   ]
  },
  {
   "cell_type": "markdown",
   "id": "edddc63e-2e60-4c38-bd0a-326117584c88",
   "metadata": {},
   "source": [
    "### Requirements\n",
    "- bwa\n",
    "- samtools"
   ]
  },
  {
   "cell_type": "code",
   "execution_count": 1,
   "id": "b3c7b9fc-f055-48b3-ac0f-262bb2bdc1d0",
   "metadata": {
    "tags": []
   },
   "outputs": [],
   "source": [
    "import os, sys\n",
    "from pathlib import Path\n",
    "\n",
    "import pandas as pd\n",
    "import numpy as np"
   ]
  },
  {
   "cell_type": "code",
   "execution_count": 2,
   "id": "cfaaf153-da00-41e1-a4f5-76e838ce1447",
   "metadata": {
    "tags": []
   },
   "outputs": [],
   "source": [
    "# import utils.py\n",
    "currentdir = os.path.dirname(os.path.realpath(__name__))\n",
    "parentdir = os.path.dirname(currentdir)\n",
    "sys.path.append(parentdir)\n",
    "\n",
    "from utils import *"
   ]
  },
  {
   "cell_type": "code",
   "execution_count": 3,
   "id": "bc17b2b0-b064-42ab-bf6c-b01c46189977",
   "metadata": {
    "tags": []
   },
   "outputs": [],
   "source": [
    "config_file = \"config.toml\"\n",
    "config = parse_config(config_file)\n",
    "root_dir = Path(config['root_dir'])"
   ]
  },
  {
   "cell_type": "markdown",
   "id": "6a8ce642-f51d-4ac4-aed6-625eed83d656",
   "metadata": {},
   "source": [
    "### Input"
   ]
  },
  {
   "cell_type": "code",
   "execution_count": 34,
   "id": "f9f3c6c4-e4a9-4484-b036-83e9b7d9f4b0",
   "metadata": {
    "tags": []
   },
   "outputs": [
    {
     "data": {
      "text/plain": [
       "PosixPath('data/trimmed_fpath.csv')"
      ]
     },
     "execution_count": 34,
     "metadata": {},
     "output_type": "execute_result"
    }
   ],
   "source": [
    "trimmed_fpath_file = root_dir / 'trimmed_fpath.csv'\n",
    "trimmed_fpath_file"
   ]
  },
  {
   "cell_type": "markdown",
   "id": "a40657ab-8d09-4320-8cc6-409503b45db5",
   "metadata": {},
   "source": [
    "### Output"
   ]
  },
  {
   "cell_type": "code",
   "execution_count": 35,
   "id": "ef2ce783-310b-44ef-bab4-78274d30210c",
   "metadata": {
    "tags": []
   },
   "outputs": [
    {
     "data": {
      "text/plain": [
       "PosixPath('data/reference/ref.fa')"
      ]
     },
     "execution_count": 35,
     "metadata": {},
     "output_type": "execute_result"
    }
   ],
   "source": [
    "ref_file = root_dir / 'reference' / 'ref.fa'\n",
    "ref_file.parent.mkdir(exist_ok=True)\n",
    "ref_file"
   ]
  },
  {
   "cell_type": "code",
   "execution_count": 36,
   "id": "642faab1-7f69-4df4-931f-f5a25e8d2387",
   "metadata": {
    "tags": []
   },
   "outputs": [
    {
     "data": {
      "text/plain": [
       "PosixPath('data/aligned_fpath.csv')"
      ]
     },
     "execution_count": 36,
     "metadata": {},
     "output_type": "execute_result"
    }
   ],
   "source": [
    "aligned_fpath_file = root_dir / 'aligned_fpath.csv'\n",
    "aligned_fpath_file"
   ]
  },
  {
   "cell_type": "markdown",
   "id": "4d9fec42-abcc-4ac1-9128-a8019e3fd673",
   "metadata": {},
   "source": [
    "## 1. Load file path"
   ]
  },
  {
   "cell_type": "code",
   "execution_count": 37,
   "id": "1f849384-c242-4975-abab-4cdbd58c5cfd",
   "metadata": {
    "tags": []
   },
   "outputs": [
    {
     "data": {
      "text/html": [
       "<div>\n",
       "<style scoped>\n",
       "    .dataframe tbody tr th:only-of-type {\n",
       "        vertical-align: middle;\n",
       "    }\n",
       "\n",
       "    .dataframe tbody tr th {\n",
       "        vertical-align: top;\n",
       "    }\n",
       "\n",
       "    .dataframe thead th {\n",
       "        text-align: right;\n",
       "    }\n",
       "</style>\n",
       "<table border=\"1\" class=\"dataframe\">\n",
       "  <thead>\n",
       "    <tr style=\"text-align: right;\">\n",
       "      <th></th>\n",
       "      <th>running_id</th>\n",
       "      <th>raw_r1</th>\n",
       "      <th>raw_r2</th>\n",
       "      <th>num_seqs</th>\n",
       "      <th>sum_len</th>\n",
       "      <th>avg_len</th>\n",
       "      <th>error_rate</th>\n",
       "      <th>trimmed_r1</th>\n",
       "      <th>unpaired_r1</th>\n",
       "      <th>trimmed_r2</th>\n",
       "      <th>unpaired_r2</th>\n",
       "      <th>trimmomatic_log</th>\n",
       "    </tr>\n",
       "  </thead>\n",
       "  <tbody>\n",
       "    <tr>\n",
       "      <th>0</th>\n",
       "      <td>SRR6046075</td>\n",
       "      <td>data/raw/SRR6046075_1.fastq.gz</td>\n",
       "      <td>data/raw/SRR6046075_2.fastq.gz</td>\n",
       "      <td>2150140</td>\n",
       "      <td>315603941</td>\n",
       "      <td>146.782973</td>\n",
       "      <td>0.004489</td>\n",
       "      <td>data/trimmed/SRR6046075_1_trimmed.fastq.gz</td>\n",
       "      <td>data/trimmed/SRR6046075_1_unpaired.fastq.gz</td>\n",
       "      <td>data/trimmed/SRR6046075_2_trimmed.fastq.gz</td>\n",
       "      <td>data/trimmed/SRR6046075_2_unpaired.fastq.gz</td>\n",
       "      <td>data/trimmed/SRR6046075.log</td>\n",
       "    </tr>\n",
       "    <tr>\n",
       "      <th>1</th>\n",
       "      <td>SRR6046701</td>\n",
       "      <td>data/raw/SRR6046701_1.fastq.gz</td>\n",
       "      <td>data/raw/SRR6046701_2.fastq.gz</td>\n",
       "      <td>2181260</td>\n",
       "      <td>329370260</td>\n",
       "      <td>151.000000</td>\n",
       "      <td>0.002960</td>\n",
       "      <td>data/trimmed/SRR6046701_1_trimmed.fastq.gz</td>\n",
       "      <td>data/trimmed/SRR6046701_1_unpaired.fastq.gz</td>\n",
       "      <td>data/trimmed/SRR6046701_2_trimmed.fastq.gz</td>\n",
       "      <td>data/trimmed/SRR6046701_2_unpaired.fastq.gz</td>\n",
       "      <td>data/trimmed/SRR6046701.log</td>\n",
       "    </tr>\n",
       "    <tr>\n",
       "      <th>2</th>\n",
       "      <td>SRR6045735</td>\n",
       "      <td>data/raw/SRR6045735_1.fastq.gz</td>\n",
       "      <td>data/raw/SRR6045735_2.fastq.gz</td>\n",
       "      <td>2730788</td>\n",
       "      <td>412348988</td>\n",
       "      <td>151.000000</td>\n",
       "      <td>0.004648</td>\n",
       "      <td>data/trimmed/SRR6045735_1_trimmed.fastq.gz</td>\n",
       "      <td>data/trimmed/SRR6045735_1_unpaired.fastq.gz</td>\n",
       "      <td>data/trimmed/SRR6045735_2_trimmed.fastq.gz</td>\n",
       "      <td>data/trimmed/SRR6045735_2_unpaired.fastq.gz</td>\n",
       "      <td>data/trimmed/SRR6045735.log</td>\n",
       "    </tr>\n",
       "    <tr>\n",
       "      <th>3</th>\n",
       "      <td>SRR6045327</td>\n",
       "      <td>data/raw/SRR6045327_1.fastq.gz</td>\n",
       "      <td>data/raw/SRR6045327_2.fastq.gz</td>\n",
       "      <td>2368378</td>\n",
       "      <td>348449021</td>\n",
       "      <td>147.125594</td>\n",
       "      <td>0.003844</td>\n",
       "      <td>data/trimmed/SRR6045327_1_trimmed.fastq.gz</td>\n",
       "      <td>data/trimmed/SRR6045327_1_unpaired.fastq.gz</td>\n",
       "      <td>data/trimmed/SRR6045327_2_trimmed.fastq.gz</td>\n",
       "      <td>data/trimmed/SRR6045327_2_unpaired.fastq.gz</td>\n",
       "      <td>data/trimmed/SRR6045327.log</td>\n",
       "    </tr>\n",
       "    <tr>\n",
       "      <th>4</th>\n",
       "      <td>SRR6045549</td>\n",
       "      <td>data/raw/SRR6045549_1.fastq.gz</td>\n",
       "      <td>data/raw/SRR6045549_2.fastq.gz</td>\n",
       "      <td>2200232</td>\n",
       "      <td>312069380</td>\n",
       "      <td>141.834761</td>\n",
       "      <td>0.004359</td>\n",
       "      <td>data/trimmed/SRR6045549_1_trimmed.fastq.gz</td>\n",
       "      <td>data/trimmed/SRR6045549_1_unpaired.fastq.gz</td>\n",
       "      <td>data/trimmed/SRR6045549_2_trimmed.fastq.gz</td>\n",
       "      <td>data/trimmed/SRR6045549_2_unpaired.fastq.gz</td>\n",
       "      <td>data/trimmed/SRR6045549.log</td>\n",
       "    </tr>\n",
       "    <tr>\n",
       "      <th>5</th>\n",
       "      <td>SRR6046105</td>\n",
       "      <td>data/raw/SRR6046105_1.fastq.gz</td>\n",
       "      <td>data/raw/SRR6046105_2.fastq.gz</td>\n",
       "      <td>2739142</td>\n",
       "      <td>397357271</td>\n",
       "      <td>145.066328</td>\n",
       "      <td>0.007210</td>\n",
       "      <td>data/trimmed/SRR6046105_1_trimmed.fastq.gz</td>\n",
       "      <td>data/trimmed/SRR6046105_1_unpaired.fastq.gz</td>\n",
       "      <td>data/trimmed/SRR6046105_2_trimmed.fastq.gz</td>\n",
       "      <td>data/trimmed/SRR6046105_2_unpaired.fastq.gz</td>\n",
       "      <td>data/trimmed/SRR6046105.log</td>\n",
       "    </tr>\n",
       "    <tr>\n",
       "      <th>6</th>\n",
       "      <td>SRR6046861</td>\n",
       "      <td>data/raw/SRR6046861_1.fastq.gz</td>\n",
       "      <td>data/raw/SRR6046861_2.fastq.gz</td>\n",
       "      <td>2046324</td>\n",
       "      <td>300436707</td>\n",
       "      <td>146.817761</td>\n",
       "      <td>0.005184</td>\n",
       "      <td>data/trimmed/SRR6046861_1_trimmed.fastq.gz</td>\n",
       "      <td>data/trimmed/SRR6046861_1_unpaired.fastq.gz</td>\n",
       "      <td>data/trimmed/SRR6046861_2_trimmed.fastq.gz</td>\n",
       "      <td>data/trimmed/SRR6046861_2_unpaired.fastq.gz</td>\n",
       "      <td>data/trimmed/SRR6046861.log</td>\n",
       "    </tr>\n",
       "    <tr>\n",
       "      <th>7</th>\n",
       "      <td>SRR6044910</td>\n",
       "      <td>data/raw/SRR6044910_1.fastq.gz</td>\n",
       "      <td>data/raw/SRR6044910_2.fastq.gz</td>\n",
       "      <td>1964346</td>\n",
       "      <td>275329828</td>\n",
       "      <td>140.163611</td>\n",
       "      <td>0.002015</td>\n",
       "      <td>data/trimmed/SRR6044910_1_trimmed.fastq.gz</td>\n",
       "      <td>data/trimmed/SRR6044910_1_unpaired.fastq.gz</td>\n",
       "      <td>data/trimmed/SRR6044910_2_trimmed.fastq.gz</td>\n",
       "      <td>data/trimmed/SRR6044910_2_unpaired.fastq.gz</td>\n",
       "      <td>data/trimmed/SRR6044910.log</td>\n",
       "    </tr>\n",
       "    <tr>\n",
       "      <th>8</th>\n",
       "      <td>SRR6045763</td>\n",
       "      <td>data/raw/SRR6045763_1.fastq.gz</td>\n",
       "      <td>data/raw/SRR6045763_2.fastq.gz</td>\n",
       "      <td>2311282</td>\n",
       "      <td>344349323</td>\n",
       "      <td>148.986287</td>\n",
       "      <td>0.011394</td>\n",
       "      <td>data/trimmed/SRR6045763_1_trimmed.fastq.gz</td>\n",
       "      <td>data/trimmed/SRR6045763_1_unpaired.fastq.gz</td>\n",
       "      <td>data/trimmed/SRR6045763_2_trimmed.fastq.gz</td>\n",
       "      <td>data/trimmed/SRR6045763_2_unpaired.fastq.gz</td>\n",
       "      <td>data/trimmed/SRR6045763.log</td>\n",
       "    </tr>\n",
       "    <tr>\n",
       "      <th>9</th>\n",
       "      <td>SRR6046306</td>\n",
       "      <td>data/raw/SRR6046306_1.fastq.gz</td>\n",
       "      <td>data/raw/SRR6046306_2.fastq.gz</td>\n",
       "      <td>2545170</td>\n",
       "      <td>339698387</td>\n",
       "      <td>133.467858</td>\n",
       "      <td>0.004654</td>\n",
       "      <td>data/trimmed/SRR6046306_1_trimmed.fastq.gz</td>\n",
       "      <td>data/trimmed/SRR6046306_1_unpaired.fastq.gz</td>\n",
       "      <td>data/trimmed/SRR6046306_2_trimmed.fastq.gz</td>\n",
       "      <td>data/trimmed/SRR6046306_2_unpaired.fastq.gz</td>\n",
       "      <td>data/trimmed/SRR6046306.log</td>\n",
       "    </tr>\n",
       "  </tbody>\n",
       "</table>\n",
       "</div>"
      ],
      "text/plain": [
       "   running_id                          raw_r1                          raw_r2  \\\n",
       "0  SRR6046075  data/raw/SRR6046075_1.fastq.gz  data/raw/SRR6046075_2.fastq.gz   \n",
       "1  SRR6046701  data/raw/SRR6046701_1.fastq.gz  data/raw/SRR6046701_2.fastq.gz   \n",
       "2  SRR6045735  data/raw/SRR6045735_1.fastq.gz  data/raw/SRR6045735_2.fastq.gz   \n",
       "3  SRR6045327  data/raw/SRR6045327_1.fastq.gz  data/raw/SRR6045327_2.fastq.gz   \n",
       "4  SRR6045549  data/raw/SRR6045549_1.fastq.gz  data/raw/SRR6045549_2.fastq.gz   \n",
       "5  SRR6046105  data/raw/SRR6046105_1.fastq.gz  data/raw/SRR6046105_2.fastq.gz   \n",
       "6  SRR6046861  data/raw/SRR6046861_1.fastq.gz  data/raw/SRR6046861_2.fastq.gz   \n",
       "7  SRR6044910  data/raw/SRR6044910_1.fastq.gz  data/raw/SRR6044910_2.fastq.gz   \n",
       "8  SRR6045763  data/raw/SRR6045763_1.fastq.gz  data/raw/SRR6045763_2.fastq.gz   \n",
       "9  SRR6046306  data/raw/SRR6046306_1.fastq.gz  data/raw/SRR6046306_2.fastq.gz   \n",
       "\n",
       "   num_seqs    sum_len     avg_len  error_rate  \\\n",
       "0   2150140  315603941  146.782973    0.004489   \n",
       "1   2181260  329370260  151.000000    0.002960   \n",
       "2   2730788  412348988  151.000000    0.004648   \n",
       "3   2368378  348449021  147.125594    0.003844   \n",
       "4   2200232  312069380  141.834761    0.004359   \n",
       "5   2739142  397357271  145.066328    0.007210   \n",
       "6   2046324  300436707  146.817761    0.005184   \n",
       "7   1964346  275329828  140.163611    0.002015   \n",
       "8   2311282  344349323  148.986287    0.011394   \n",
       "9   2545170  339698387  133.467858    0.004654   \n",
       "\n",
       "                                   trimmed_r1  \\\n",
       "0  data/trimmed/SRR6046075_1_trimmed.fastq.gz   \n",
       "1  data/trimmed/SRR6046701_1_trimmed.fastq.gz   \n",
       "2  data/trimmed/SRR6045735_1_trimmed.fastq.gz   \n",
       "3  data/trimmed/SRR6045327_1_trimmed.fastq.gz   \n",
       "4  data/trimmed/SRR6045549_1_trimmed.fastq.gz   \n",
       "5  data/trimmed/SRR6046105_1_trimmed.fastq.gz   \n",
       "6  data/trimmed/SRR6046861_1_trimmed.fastq.gz   \n",
       "7  data/trimmed/SRR6044910_1_trimmed.fastq.gz   \n",
       "8  data/trimmed/SRR6045763_1_trimmed.fastq.gz   \n",
       "9  data/trimmed/SRR6046306_1_trimmed.fastq.gz   \n",
       "\n",
       "                                   unpaired_r1  \\\n",
       "0  data/trimmed/SRR6046075_1_unpaired.fastq.gz   \n",
       "1  data/trimmed/SRR6046701_1_unpaired.fastq.gz   \n",
       "2  data/trimmed/SRR6045735_1_unpaired.fastq.gz   \n",
       "3  data/trimmed/SRR6045327_1_unpaired.fastq.gz   \n",
       "4  data/trimmed/SRR6045549_1_unpaired.fastq.gz   \n",
       "5  data/trimmed/SRR6046105_1_unpaired.fastq.gz   \n",
       "6  data/trimmed/SRR6046861_1_unpaired.fastq.gz   \n",
       "7  data/trimmed/SRR6044910_1_unpaired.fastq.gz   \n",
       "8  data/trimmed/SRR6045763_1_unpaired.fastq.gz   \n",
       "9  data/trimmed/SRR6046306_1_unpaired.fastq.gz   \n",
       "\n",
       "                                   trimmed_r2  \\\n",
       "0  data/trimmed/SRR6046075_2_trimmed.fastq.gz   \n",
       "1  data/trimmed/SRR6046701_2_trimmed.fastq.gz   \n",
       "2  data/trimmed/SRR6045735_2_trimmed.fastq.gz   \n",
       "3  data/trimmed/SRR6045327_2_trimmed.fastq.gz   \n",
       "4  data/trimmed/SRR6045549_2_trimmed.fastq.gz   \n",
       "5  data/trimmed/SRR6046105_2_trimmed.fastq.gz   \n",
       "6  data/trimmed/SRR6046861_2_trimmed.fastq.gz   \n",
       "7  data/trimmed/SRR6044910_2_trimmed.fastq.gz   \n",
       "8  data/trimmed/SRR6045763_2_trimmed.fastq.gz   \n",
       "9  data/trimmed/SRR6046306_2_trimmed.fastq.gz   \n",
       "\n",
       "                                   unpaired_r2              trimmomatic_log  \n",
       "0  data/trimmed/SRR6046075_2_unpaired.fastq.gz  data/trimmed/SRR6046075.log  \n",
       "1  data/trimmed/SRR6046701_2_unpaired.fastq.gz  data/trimmed/SRR6046701.log  \n",
       "2  data/trimmed/SRR6045735_2_unpaired.fastq.gz  data/trimmed/SRR6045735.log  \n",
       "3  data/trimmed/SRR6045327_2_unpaired.fastq.gz  data/trimmed/SRR6045327.log  \n",
       "4  data/trimmed/SRR6045549_2_unpaired.fastq.gz  data/trimmed/SRR6045549.log  \n",
       "5  data/trimmed/SRR6046105_2_unpaired.fastq.gz  data/trimmed/SRR6046105.log  \n",
       "6  data/trimmed/SRR6046861_2_unpaired.fastq.gz  data/trimmed/SRR6046861.log  \n",
       "7  data/trimmed/SRR6044910_2_unpaired.fastq.gz  data/trimmed/SRR6044910.log  \n",
       "8  data/trimmed/SRR6045763_2_unpaired.fastq.gz  data/trimmed/SRR6045763.log  \n",
       "9  data/trimmed/SRR6046306_2_unpaired.fastq.gz  data/trimmed/SRR6046306.log  "
      ]
     },
     "execution_count": 37,
     "metadata": {},
     "output_type": "execute_result"
    }
   ],
   "source": [
    "fpath_df = pd.read_csv(trimmed_fpath_file)\n",
    "fpath_df"
   ]
  },
  {
   "cell_type": "markdown",
   "id": "f8f3ecb8-1586-49a0-b6b1-d44cc609e6a5",
   "metadata": {},
   "source": [
    "## 2. Get reference\n",
    " - <i>H37Rv</i>: https://www.ncbi.nlm.nih.gov/nuccore/NC_000962.3/"
   ]
  },
  {
   "cell_type": "code",
   "execution_count": 8,
   "id": "a2679e30-32d6-45b9-8183-c18848de8701",
   "metadata": {
    "tags": []
   },
   "outputs": [],
   "source": [
    "from Bio import Entrez\n",
    "from Bio import SeqIO\n",
    "\n",
    "def download_ref_file(\n",
    "    accession_number,\n",
    "    ref_file,\n",
    "):\n",
    "    if not ref_file.exists():\n",
    "        Entrez.email = \"your.email@example.com\"\n",
    "\n",
    "        # Fetch\n",
    "        with Entrez.efetch(db=\"nucleotide\", id=accession_number, rettype=\"fasta\", retmode=\"text\") as handle:\n",
    "            record = SeqIO.read(handle, \"fasta\")\n",
    "\n",
    "        # Save\n",
    "        output_file = f\"{accession_number}.fasta\"\n",
    "        SeqIO.write(record, ref_file, \"fasta\")"
   ]
  },
  {
   "cell_type": "code",
   "execution_count": 9,
   "id": "6ee385b5-eff0-4ca2-bc75-541973346f22",
   "metadata": {
    "tags": []
   },
   "outputs": [],
   "source": [
    "download_ref_file(\n",
    "    'NC_000962.3',\n",
    "    ref_file,\n",
    ")"
   ]
  },
  {
   "cell_type": "code",
   "execution_count": 10,
   "id": "70037392-92ae-4f1c-ae1a-4d478c223cf7",
   "metadata": {
    "tags": []
   },
   "outputs": [
    {
     "name": "stdout",
     "output_type": "stream",
     "text": [
      "file                   format  type  num_seqs    sum_len    min_len    avg_len    max_len\n",
      "data/reference/ref.fa  FASTA   DNA          1  4,411,532  4,411,532  4,411,532  4,411,532\n",
      "\n"
     ]
    }
   ],
   "source": [
    "print(subprocs(f\"seqkit stat {ref_file}\").stdout.decode())"
   ]
  },
  {
   "cell_type": "markdown",
   "id": "a81ac4cf-32ee-4fa2-8561-015b84c01c57",
   "metadata": {},
   "source": [
    "## 3. Indexing"
   ]
  },
  {
   "cell_type": "code",
   "execution_count": 11,
   "id": "995a4d9b-f876-4190-84af-dd02a30cadd0",
   "metadata": {
    "tags": []
   },
   "outputs": [],
   "source": [
    "cmd = f\"bwa index {ref_file}\""
   ]
  },
  {
   "cell_type": "code",
   "execution_count": 12,
   "id": "b2713f74-416e-43c2-bfaa-5a7bd42bf9ce",
   "metadata": {
    "tags": []
   },
   "outputs": [],
   "source": [
    "out = subprocs(cmd)"
   ]
  },
  {
   "cell_type": "code",
   "execution_count": 13,
   "id": "77a7ad87-8874-4b43-85d2-95c2bcb31269",
   "metadata": {
    "tags": []
   },
   "outputs": [
    {
     "data": {
      "text/plain": [
       "0"
      ]
     },
     "execution_count": 13,
     "metadata": {},
     "output_type": "execute_result"
    }
   ],
   "source": [
    "out.returncode"
   ]
  },
  {
   "cell_type": "markdown",
   "id": "9343c7e3-89ee-415f-b722-40d5751fba03",
   "metadata": {},
   "source": [
    "## 4. Perform Alignment"
   ]
  },
  {
   "cell_type": "code",
   "execution_count": 14,
   "id": "07ee5105-eb69-498b-a710-bee7623f4419",
   "metadata": {
    "tags": []
   },
   "outputs": [
    {
     "data": {
      "text/plain": [
       "PosixPath('data/sorted_bam')"
      ]
     },
     "execution_count": 14,
     "metadata": {},
     "output_type": "execute_result"
    }
   ],
   "source": [
    "sorted_bam_dir = root_dir / 'sorted_bam'\n",
    "sorted_bam_dir.mkdir(exist_ok=True)\n",
    "sorted_bam_dir"
   ]
  },
  {
   "cell_type": "code",
   "execution_count": 22,
   "id": "eb5ccc2c-b410-4eac-abf3-14e382f9298b",
   "metadata": {
    "tags": []
   },
   "outputs": [],
   "source": [
    "def align_with_bwa(running_id, trimmed_r1, trimmed_r2):\n",
    "    bam_file = sorted_bam_dir / f\"{running_id}.bam\"\n",
    "\n",
    "    if not bam_file.exists():\n",
    "        cmd = f'bwa mem -aM {ref_file} {trimmed_r1} {trimmed_r2} | samtools sort > {bam_file}'\n",
    "        subprocs(cmd)\n",
    "    \n",
    "    return bam_file"
   ]
  },
  {
   "cell_type": "code",
   "execution_count": 23,
   "id": "d31f28bc-a2e6-47bb-a006-77ab4be8b1d5",
   "metadata": {
    "tags": []
   },
   "outputs": [],
   "source": [
    "out, elp = execute_function_pool_args(\n",
    "    align_with_bwa,\n",
    "    fpath_df[['running_id', 'trimmed_r1', 'trimmed_r2']].values,\n",
    "    4,\n",
    ")"
   ]
  },
  {
   "cell_type": "code",
   "execution_count": 21,
   "id": "cb232af2-a691-4b7f-b3fa-8e388679dc02",
   "metadata": {
    "tags": []
   },
   "outputs": [
    {
     "data": {
      "text/plain": [
       "495.32800006866455"
      ]
     },
     "execution_count": 21,
     "metadata": {},
     "output_type": "execute_result"
    }
   ],
   "source": [
    "# elp\n",
    "495.32800006866455"
   ]
  },
  {
   "cell_type": "code",
   "execution_count": 29,
   "id": "4a3bb99a-0a5d-450c-ba54-9895807350c7",
   "metadata": {
    "tags": []
   },
   "outputs": [
    {
     "data": {
      "text/plain": [
       "0    data/sorted_bam/SRR6046075.bam\n",
       "1    data/sorted_bam/SRR6046701.bam\n",
       "2    data/sorted_bam/SRR6045735.bam\n",
       "3    data/sorted_bam/SRR6045327.bam\n",
       "4    data/sorted_bam/SRR6045549.bam\n",
       "5    data/sorted_bam/SRR6046105.bam\n",
       "6    data/sorted_bam/SRR6046861.bam\n",
       "7    data/sorted_bam/SRR6044910.bam\n",
       "8    data/sorted_bam/SRR6045763.bam\n",
       "9    data/sorted_bam/SRR6046306.bam\n",
       "Name: sorted_bam, dtype: object"
      ]
     },
     "execution_count": 29,
     "metadata": {},
     "output_type": "execute_result"
    }
   ],
   "source": [
    "sorted_bams = pd.Series(out)\n",
    "sorted_bams.name = 'sorted_bam'\n",
    "sorted_bams"
   ]
  },
  {
   "cell_type": "markdown",
   "id": "d548eed6-eb0e-4704-9fb2-94d6b0e7b691",
   "metadata": {},
   "source": [
    "## 5. Merge and save"
   ]
  },
  {
   "cell_type": "code",
   "execution_count": 38,
   "id": "be4a2584-b382-437c-9a30-ff196a47e177",
   "metadata": {
    "tags": []
   },
   "outputs": [
    {
     "data": {
      "text/html": [
       "<div>\n",
       "<style scoped>\n",
       "    .dataframe tbody tr th:only-of-type {\n",
       "        vertical-align: middle;\n",
       "    }\n",
       "\n",
       "    .dataframe tbody tr th {\n",
       "        vertical-align: top;\n",
       "    }\n",
       "\n",
       "    .dataframe thead th {\n",
       "        text-align: right;\n",
       "    }\n",
       "</style>\n",
       "<table border=\"1\" class=\"dataframe\">\n",
       "  <thead>\n",
       "    <tr style=\"text-align: right;\">\n",
       "      <th></th>\n",
       "      <th>running_id</th>\n",
       "      <th>raw_r1</th>\n",
       "      <th>raw_r2</th>\n",
       "      <th>num_seqs</th>\n",
       "      <th>sum_len</th>\n",
       "      <th>avg_len</th>\n",
       "      <th>error_rate</th>\n",
       "      <th>trimmed_r1</th>\n",
       "      <th>unpaired_r1</th>\n",
       "      <th>trimmed_r2</th>\n",
       "      <th>unpaired_r2</th>\n",
       "      <th>trimmomatic_log</th>\n",
       "      <th>sorted_bam</th>\n",
       "    </tr>\n",
       "  </thead>\n",
       "  <tbody>\n",
       "    <tr>\n",
       "      <th>0</th>\n",
       "      <td>SRR6046075</td>\n",
       "      <td>data/raw/SRR6046075_1.fastq.gz</td>\n",
       "      <td>data/raw/SRR6046075_2.fastq.gz</td>\n",
       "      <td>2150140</td>\n",
       "      <td>315603941</td>\n",
       "      <td>146.782973</td>\n",
       "      <td>0.004489</td>\n",
       "      <td>data/trimmed/SRR6046075_1_trimmed.fastq.gz</td>\n",
       "      <td>data/trimmed/SRR6046075_1_unpaired.fastq.gz</td>\n",
       "      <td>data/trimmed/SRR6046075_2_trimmed.fastq.gz</td>\n",
       "      <td>data/trimmed/SRR6046075_2_unpaired.fastq.gz</td>\n",
       "      <td>data/trimmed/SRR6046075.log</td>\n",
       "      <td>data/sorted_bam/SRR6046075.bam</td>\n",
       "    </tr>\n",
       "    <tr>\n",
       "      <th>1</th>\n",
       "      <td>SRR6046701</td>\n",
       "      <td>data/raw/SRR6046701_1.fastq.gz</td>\n",
       "      <td>data/raw/SRR6046701_2.fastq.gz</td>\n",
       "      <td>2181260</td>\n",
       "      <td>329370260</td>\n",
       "      <td>151.000000</td>\n",
       "      <td>0.002960</td>\n",
       "      <td>data/trimmed/SRR6046701_1_trimmed.fastq.gz</td>\n",
       "      <td>data/trimmed/SRR6046701_1_unpaired.fastq.gz</td>\n",
       "      <td>data/trimmed/SRR6046701_2_trimmed.fastq.gz</td>\n",
       "      <td>data/trimmed/SRR6046701_2_unpaired.fastq.gz</td>\n",
       "      <td>data/trimmed/SRR6046701.log</td>\n",
       "      <td>data/sorted_bam/SRR6046701.bam</td>\n",
       "    </tr>\n",
       "    <tr>\n",
       "      <th>2</th>\n",
       "      <td>SRR6045735</td>\n",
       "      <td>data/raw/SRR6045735_1.fastq.gz</td>\n",
       "      <td>data/raw/SRR6045735_2.fastq.gz</td>\n",
       "      <td>2730788</td>\n",
       "      <td>412348988</td>\n",
       "      <td>151.000000</td>\n",
       "      <td>0.004648</td>\n",
       "      <td>data/trimmed/SRR6045735_1_trimmed.fastq.gz</td>\n",
       "      <td>data/trimmed/SRR6045735_1_unpaired.fastq.gz</td>\n",
       "      <td>data/trimmed/SRR6045735_2_trimmed.fastq.gz</td>\n",
       "      <td>data/trimmed/SRR6045735_2_unpaired.fastq.gz</td>\n",
       "      <td>data/trimmed/SRR6045735.log</td>\n",
       "      <td>data/sorted_bam/SRR6045735.bam</td>\n",
       "    </tr>\n",
       "    <tr>\n",
       "      <th>3</th>\n",
       "      <td>SRR6045327</td>\n",
       "      <td>data/raw/SRR6045327_1.fastq.gz</td>\n",
       "      <td>data/raw/SRR6045327_2.fastq.gz</td>\n",
       "      <td>2368378</td>\n",
       "      <td>348449021</td>\n",
       "      <td>147.125594</td>\n",
       "      <td>0.003844</td>\n",
       "      <td>data/trimmed/SRR6045327_1_trimmed.fastq.gz</td>\n",
       "      <td>data/trimmed/SRR6045327_1_unpaired.fastq.gz</td>\n",
       "      <td>data/trimmed/SRR6045327_2_trimmed.fastq.gz</td>\n",
       "      <td>data/trimmed/SRR6045327_2_unpaired.fastq.gz</td>\n",
       "      <td>data/trimmed/SRR6045327.log</td>\n",
       "      <td>data/sorted_bam/SRR6045327.bam</td>\n",
       "    </tr>\n",
       "    <tr>\n",
       "      <th>4</th>\n",
       "      <td>SRR6045549</td>\n",
       "      <td>data/raw/SRR6045549_1.fastq.gz</td>\n",
       "      <td>data/raw/SRR6045549_2.fastq.gz</td>\n",
       "      <td>2200232</td>\n",
       "      <td>312069380</td>\n",
       "      <td>141.834761</td>\n",
       "      <td>0.004359</td>\n",
       "      <td>data/trimmed/SRR6045549_1_trimmed.fastq.gz</td>\n",
       "      <td>data/trimmed/SRR6045549_1_unpaired.fastq.gz</td>\n",
       "      <td>data/trimmed/SRR6045549_2_trimmed.fastq.gz</td>\n",
       "      <td>data/trimmed/SRR6045549_2_unpaired.fastq.gz</td>\n",
       "      <td>data/trimmed/SRR6045549.log</td>\n",
       "      <td>data/sorted_bam/SRR6045549.bam</td>\n",
       "    </tr>\n",
       "    <tr>\n",
       "      <th>5</th>\n",
       "      <td>SRR6046105</td>\n",
       "      <td>data/raw/SRR6046105_1.fastq.gz</td>\n",
       "      <td>data/raw/SRR6046105_2.fastq.gz</td>\n",
       "      <td>2739142</td>\n",
       "      <td>397357271</td>\n",
       "      <td>145.066328</td>\n",
       "      <td>0.007210</td>\n",
       "      <td>data/trimmed/SRR6046105_1_trimmed.fastq.gz</td>\n",
       "      <td>data/trimmed/SRR6046105_1_unpaired.fastq.gz</td>\n",
       "      <td>data/trimmed/SRR6046105_2_trimmed.fastq.gz</td>\n",
       "      <td>data/trimmed/SRR6046105_2_unpaired.fastq.gz</td>\n",
       "      <td>data/trimmed/SRR6046105.log</td>\n",
       "      <td>data/sorted_bam/SRR6046105.bam</td>\n",
       "    </tr>\n",
       "    <tr>\n",
       "      <th>6</th>\n",
       "      <td>SRR6046861</td>\n",
       "      <td>data/raw/SRR6046861_1.fastq.gz</td>\n",
       "      <td>data/raw/SRR6046861_2.fastq.gz</td>\n",
       "      <td>2046324</td>\n",
       "      <td>300436707</td>\n",
       "      <td>146.817761</td>\n",
       "      <td>0.005184</td>\n",
       "      <td>data/trimmed/SRR6046861_1_trimmed.fastq.gz</td>\n",
       "      <td>data/trimmed/SRR6046861_1_unpaired.fastq.gz</td>\n",
       "      <td>data/trimmed/SRR6046861_2_trimmed.fastq.gz</td>\n",
       "      <td>data/trimmed/SRR6046861_2_unpaired.fastq.gz</td>\n",
       "      <td>data/trimmed/SRR6046861.log</td>\n",
       "      <td>data/sorted_bam/SRR6046861.bam</td>\n",
       "    </tr>\n",
       "    <tr>\n",
       "      <th>7</th>\n",
       "      <td>SRR6044910</td>\n",
       "      <td>data/raw/SRR6044910_1.fastq.gz</td>\n",
       "      <td>data/raw/SRR6044910_2.fastq.gz</td>\n",
       "      <td>1964346</td>\n",
       "      <td>275329828</td>\n",
       "      <td>140.163611</td>\n",
       "      <td>0.002015</td>\n",
       "      <td>data/trimmed/SRR6044910_1_trimmed.fastq.gz</td>\n",
       "      <td>data/trimmed/SRR6044910_1_unpaired.fastq.gz</td>\n",
       "      <td>data/trimmed/SRR6044910_2_trimmed.fastq.gz</td>\n",
       "      <td>data/trimmed/SRR6044910_2_unpaired.fastq.gz</td>\n",
       "      <td>data/trimmed/SRR6044910.log</td>\n",
       "      <td>data/sorted_bam/SRR6044910.bam</td>\n",
       "    </tr>\n",
       "    <tr>\n",
       "      <th>8</th>\n",
       "      <td>SRR6045763</td>\n",
       "      <td>data/raw/SRR6045763_1.fastq.gz</td>\n",
       "      <td>data/raw/SRR6045763_2.fastq.gz</td>\n",
       "      <td>2311282</td>\n",
       "      <td>344349323</td>\n",
       "      <td>148.986287</td>\n",
       "      <td>0.011394</td>\n",
       "      <td>data/trimmed/SRR6045763_1_trimmed.fastq.gz</td>\n",
       "      <td>data/trimmed/SRR6045763_1_unpaired.fastq.gz</td>\n",
       "      <td>data/trimmed/SRR6045763_2_trimmed.fastq.gz</td>\n",
       "      <td>data/trimmed/SRR6045763_2_unpaired.fastq.gz</td>\n",
       "      <td>data/trimmed/SRR6045763.log</td>\n",
       "      <td>data/sorted_bam/SRR6045763.bam</td>\n",
       "    </tr>\n",
       "    <tr>\n",
       "      <th>9</th>\n",
       "      <td>SRR6046306</td>\n",
       "      <td>data/raw/SRR6046306_1.fastq.gz</td>\n",
       "      <td>data/raw/SRR6046306_2.fastq.gz</td>\n",
       "      <td>2545170</td>\n",
       "      <td>339698387</td>\n",
       "      <td>133.467858</td>\n",
       "      <td>0.004654</td>\n",
       "      <td>data/trimmed/SRR6046306_1_trimmed.fastq.gz</td>\n",
       "      <td>data/trimmed/SRR6046306_1_unpaired.fastq.gz</td>\n",
       "      <td>data/trimmed/SRR6046306_2_trimmed.fastq.gz</td>\n",
       "      <td>data/trimmed/SRR6046306_2_unpaired.fastq.gz</td>\n",
       "      <td>data/trimmed/SRR6046306.log</td>\n",
       "      <td>data/sorted_bam/SRR6046306.bam</td>\n",
       "    </tr>\n",
       "  </tbody>\n",
       "</table>\n",
       "</div>"
      ],
      "text/plain": [
       "   running_id                          raw_r1                          raw_r2  \\\n",
       "0  SRR6046075  data/raw/SRR6046075_1.fastq.gz  data/raw/SRR6046075_2.fastq.gz   \n",
       "1  SRR6046701  data/raw/SRR6046701_1.fastq.gz  data/raw/SRR6046701_2.fastq.gz   \n",
       "2  SRR6045735  data/raw/SRR6045735_1.fastq.gz  data/raw/SRR6045735_2.fastq.gz   \n",
       "3  SRR6045327  data/raw/SRR6045327_1.fastq.gz  data/raw/SRR6045327_2.fastq.gz   \n",
       "4  SRR6045549  data/raw/SRR6045549_1.fastq.gz  data/raw/SRR6045549_2.fastq.gz   \n",
       "5  SRR6046105  data/raw/SRR6046105_1.fastq.gz  data/raw/SRR6046105_2.fastq.gz   \n",
       "6  SRR6046861  data/raw/SRR6046861_1.fastq.gz  data/raw/SRR6046861_2.fastq.gz   \n",
       "7  SRR6044910  data/raw/SRR6044910_1.fastq.gz  data/raw/SRR6044910_2.fastq.gz   \n",
       "8  SRR6045763  data/raw/SRR6045763_1.fastq.gz  data/raw/SRR6045763_2.fastq.gz   \n",
       "9  SRR6046306  data/raw/SRR6046306_1.fastq.gz  data/raw/SRR6046306_2.fastq.gz   \n",
       "\n",
       "   num_seqs    sum_len     avg_len  error_rate  \\\n",
       "0   2150140  315603941  146.782973    0.004489   \n",
       "1   2181260  329370260  151.000000    0.002960   \n",
       "2   2730788  412348988  151.000000    0.004648   \n",
       "3   2368378  348449021  147.125594    0.003844   \n",
       "4   2200232  312069380  141.834761    0.004359   \n",
       "5   2739142  397357271  145.066328    0.007210   \n",
       "6   2046324  300436707  146.817761    0.005184   \n",
       "7   1964346  275329828  140.163611    0.002015   \n",
       "8   2311282  344349323  148.986287    0.011394   \n",
       "9   2545170  339698387  133.467858    0.004654   \n",
       "\n",
       "                                   trimmed_r1  \\\n",
       "0  data/trimmed/SRR6046075_1_trimmed.fastq.gz   \n",
       "1  data/trimmed/SRR6046701_1_trimmed.fastq.gz   \n",
       "2  data/trimmed/SRR6045735_1_trimmed.fastq.gz   \n",
       "3  data/trimmed/SRR6045327_1_trimmed.fastq.gz   \n",
       "4  data/trimmed/SRR6045549_1_trimmed.fastq.gz   \n",
       "5  data/trimmed/SRR6046105_1_trimmed.fastq.gz   \n",
       "6  data/trimmed/SRR6046861_1_trimmed.fastq.gz   \n",
       "7  data/trimmed/SRR6044910_1_trimmed.fastq.gz   \n",
       "8  data/trimmed/SRR6045763_1_trimmed.fastq.gz   \n",
       "9  data/trimmed/SRR6046306_1_trimmed.fastq.gz   \n",
       "\n",
       "                                   unpaired_r1  \\\n",
       "0  data/trimmed/SRR6046075_1_unpaired.fastq.gz   \n",
       "1  data/trimmed/SRR6046701_1_unpaired.fastq.gz   \n",
       "2  data/trimmed/SRR6045735_1_unpaired.fastq.gz   \n",
       "3  data/trimmed/SRR6045327_1_unpaired.fastq.gz   \n",
       "4  data/trimmed/SRR6045549_1_unpaired.fastq.gz   \n",
       "5  data/trimmed/SRR6046105_1_unpaired.fastq.gz   \n",
       "6  data/trimmed/SRR6046861_1_unpaired.fastq.gz   \n",
       "7  data/trimmed/SRR6044910_1_unpaired.fastq.gz   \n",
       "8  data/trimmed/SRR6045763_1_unpaired.fastq.gz   \n",
       "9  data/trimmed/SRR6046306_1_unpaired.fastq.gz   \n",
       "\n",
       "                                   trimmed_r2  \\\n",
       "0  data/trimmed/SRR6046075_2_trimmed.fastq.gz   \n",
       "1  data/trimmed/SRR6046701_2_trimmed.fastq.gz   \n",
       "2  data/trimmed/SRR6045735_2_trimmed.fastq.gz   \n",
       "3  data/trimmed/SRR6045327_2_trimmed.fastq.gz   \n",
       "4  data/trimmed/SRR6045549_2_trimmed.fastq.gz   \n",
       "5  data/trimmed/SRR6046105_2_trimmed.fastq.gz   \n",
       "6  data/trimmed/SRR6046861_2_trimmed.fastq.gz   \n",
       "7  data/trimmed/SRR6044910_2_trimmed.fastq.gz   \n",
       "8  data/trimmed/SRR6045763_2_trimmed.fastq.gz   \n",
       "9  data/trimmed/SRR6046306_2_trimmed.fastq.gz   \n",
       "\n",
       "                                   unpaired_r2              trimmomatic_log  \\\n",
       "0  data/trimmed/SRR6046075_2_unpaired.fastq.gz  data/trimmed/SRR6046075.log   \n",
       "1  data/trimmed/SRR6046701_2_unpaired.fastq.gz  data/trimmed/SRR6046701.log   \n",
       "2  data/trimmed/SRR6045735_2_unpaired.fastq.gz  data/trimmed/SRR6045735.log   \n",
       "3  data/trimmed/SRR6045327_2_unpaired.fastq.gz  data/trimmed/SRR6045327.log   \n",
       "4  data/trimmed/SRR6045549_2_unpaired.fastq.gz  data/trimmed/SRR6045549.log   \n",
       "5  data/trimmed/SRR6046105_2_unpaired.fastq.gz  data/trimmed/SRR6046105.log   \n",
       "6  data/trimmed/SRR6046861_2_unpaired.fastq.gz  data/trimmed/SRR6046861.log   \n",
       "7  data/trimmed/SRR6044910_2_unpaired.fastq.gz  data/trimmed/SRR6044910.log   \n",
       "8  data/trimmed/SRR6045763_2_unpaired.fastq.gz  data/trimmed/SRR6045763.log   \n",
       "9  data/trimmed/SRR6046306_2_unpaired.fastq.gz  data/trimmed/SRR6046306.log   \n",
       "\n",
       "                       sorted_bam  \n",
       "0  data/sorted_bam/SRR6046075.bam  \n",
       "1  data/sorted_bam/SRR6046701.bam  \n",
       "2  data/sorted_bam/SRR6045735.bam  \n",
       "3  data/sorted_bam/SRR6045327.bam  \n",
       "4  data/sorted_bam/SRR6045549.bam  \n",
       "5  data/sorted_bam/SRR6046105.bam  \n",
       "6  data/sorted_bam/SRR6046861.bam  \n",
       "7  data/sorted_bam/SRR6044910.bam  \n",
       "8  data/sorted_bam/SRR6045763.bam  \n",
       "9  data/sorted_bam/SRR6046306.bam  "
      ]
     },
     "execution_count": 38,
     "metadata": {},
     "output_type": "execute_result"
    }
   ],
   "source": [
    "new_fpath_df = pd.concat([fpath_df, sorted_bams], axis=1)\n",
    "new_fpath_df"
   ]
  },
  {
   "cell_type": "code",
   "execution_count": 39,
   "id": "b879d83a-41cd-45c9-b124-44aded03babf",
   "metadata": {
    "tags": []
   },
   "outputs": [],
   "source": [
    "new_fpath_df.to_csv(aligned_fpath_file, index=False)"
   ]
  },
  {
   "cell_type": "code",
   "execution_count": null,
   "id": "74f5a8f8-2a12-4d42-bd1d-b8ded199a9a7",
   "metadata": {},
   "outputs": [],
   "source": []
  },
  {
   "cell_type": "code",
   "execution_count": null,
   "id": "4fcbd9f0-69e7-4a6f-badb-bb08d6980017",
   "metadata": {},
   "outputs": [],
   "source": []
  }
 ],
 "metadata": {
  "kernelspec": {
   "display_name": "TB",
   "language": "python",
   "name": "tb"
  },
  "language_info": {
   "codemirror_mode": {
    "name": "ipython",
    "version": 3
   },
   "file_extension": ".py",
   "mimetype": "text/x-python",
   "name": "python",
   "nbconvert_exporter": "python",
   "pygments_lexer": "ipython3",
   "version": "3.10.6"
  }
 },
 "nbformat": 4,
 "nbformat_minor": 5
}
